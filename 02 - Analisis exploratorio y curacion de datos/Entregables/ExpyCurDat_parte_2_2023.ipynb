{
  "nbformat": 4,
  "nbformat_minor": 0,
  "metadata": {
    "colab": {
      "provenance": []
    },
    "kernelspec": {
      "name": "python3",
      "display_name": "Python 3"
    },
    "language_info": {
      "name": "python"
    }
  },
  "cells": [
    {
      "cell_type": "markdown",
      "metadata": {
        "id": "zO4bRoxr2Apy"
      },
      "source": [
        "# **Diplomatura en Ciencia de Datos, Aprendizaje Automático y sus Aplicaciones**\n",
        "\n",
        "## **Edición 2023**\n",
        "\n",
        "\n",
        "----\n",
        "\n",
        "# Trabajo práctico entregable - parte 2\n",
        "\n",
        "\n",
        "En el ejercicio 1 de la parte 1 del entregable seleccionaron las filas y columnas relevantes al problema de predicción de precios de una propiedad. Además de ello, tuvieron que reducir el número de valores posibles para las variables categóricas utilizando información de dominio.\n",
        "\n",
        "En el ejercicio 2 de la parte 1 del entregable imputaron los valores faltantes de las columnas `Suburb` y las columnas obtenidas a partir del conjunto de datos `airbnb`.\n",
        "\n",
        "En esta notebook, **se utilizará resultado de dichas operaciones.**\n"
      ]
    },
    {
      "cell_type": "code",
      "metadata": {
        "id": "4udjxjk1EtVU"
      },
      "source": [
        "import matplotlib.pyplot as plt\n",
        "import numpy\n",
        "import pandas\n",
        "\n",
        "import seaborn\n",
        "seaborn.set_context('talk')\n",
        "\n",
        "from sklearn.preprocessing import MinMaxScaler, StandardScaler\n",
        "from sklearn.decomposition import PCA\n",
        "from sklearn.preprocessing import OneHotEncoder\n",
        "from sklearn.experimental import enable_iterative_imputer\n",
        "from sklearn.neighbors import KNeighborsRegressor\n",
        "from sklearn.impute import IterativeImputer"
      ],
      "execution_count": 372,
      "outputs": []
    },
    {
      "cell_type": "code",
      "metadata": {
        "colab": {
          "base_uri": "https://localhost:8080/"
        },
        "id": "_qeFN3GnEvMk",
        "outputId": "f999c63b-fbb5-4898-d522-717c198eafb8"
      },
      "source": [
        "df = pandas.read_csv('merged_sales.csv')\n",
        "df.info()"
      ],
      "execution_count": 373,
      "outputs": [
        {
          "output_type": "stream",
          "name": "stdout",
          "text": [
            "<class 'pandas.core.frame.DataFrame'>\n",
            "RangeIndex: 6561 entries, 0 to 6560\n",
            "Data columns (total 19 columns):\n",
            " #   Column               Non-Null Count  Dtype  \n",
            "---  ------               --------------  -----  \n",
            " 0   Unnamed: 0           6561 non-null   int64  \n",
            " 1   Suburb               6561 non-null   object \n",
            " 2   Rooms                6561 non-null   int64  \n",
            " 3   Type                 6561 non-null   object \n",
            " 4   Price                6561 non-null   float64\n",
            " 5   Distance             6561 non-null   float64\n",
            " 6   Postcode             6561 non-null   float64\n",
            " 7   Bedroom2             6561 non-null   float64\n",
            " 8   Bathroom             6561 non-null   float64\n",
            " 9   Car                  6534 non-null   float64\n",
            " 10  Landsize             6561 non-null   float64\n",
            " 11  BuildingArea         6561 non-null   float64\n",
            " 12  YearBuilt            6561 non-null   float64\n",
            " 13  Lattitude            6561 non-null   float64\n",
            " 14  Longtitude           6561 non-null   float64\n",
            " 15  Propertycount        6561 non-null   float64\n",
            " 16  zipcode              1861 non-null   float64\n",
            " 17  airbnb_price_mean    1861 non-null   float64\n",
            " 18  airbnb_record_count  1861 non-null   float64\n",
            "dtypes: float64(15), int64(2), object(2)\n",
            "memory usage: 974.0+ KB\n"
          ]
        }
      ]
    },
    {
      "cell_type": "code",
      "source": [
        "df.head()"
      ],
      "metadata": {
        "colab": {
          "base_uri": "https://localhost:8080/",
          "height": 287
        },
        "id": "rS5ZYlqeUl_Q",
        "outputId": "0b5fa0ae-581d-4a21-9850-76c9745d5d7d"
      },
      "execution_count": 374,
      "outputs": [
        {
          "output_type": "execute_result",
          "data": {
            "text/plain": [
              "   Unnamed: 0      Suburb  Rooms Type      Price  Distance  Postcode  \\\n",
              "0           0  Abbotsford      2    h  1035000.0       2.5    3067.0   \n",
              "1           1  Abbotsford      3    h  1465000.0       2.5    3067.0   \n",
              "2           2  Abbotsford      4    h  1600000.0       2.5    3067.0   \n",
              "3           3  Abbotsford      3    h  1876000.0       2.5    3067.0   \n",
              "4           4  Abbotsford      2    h  1636000.0       2.5    3067.0   \n",
              "\n",
              "   Bedroom2  Bathroom  Car  Landsize  BuildingArea  YearBuilt  Lattitude  \\\n",
              "0       2.0       1.0  0.0     156.0          79.0     1900.0   -37.8079   \n",
              "1       3.0       2.0  0.0     134.0         150.0     1900.0   -37.8093   \n",
              "2       3.0       1.0  2.0     120.0         142.0     2014.0   -37.8072   \n",
              "3       4.0       2.0  0.0     245.0         210.0     1910.0   -37.8024   \n",
              "4       2.0       1.0  2.0     256.0         107.0     1890.0   -37.8060   \n",
              "\n",
              "   Longtitude  Propertycount  zipcode  airbnb_price_mean  airbnb_record_count  \n",
              "0    144.9934         4019.0   3067.0         130.624031                258.0  \n",
              "1    144.9944         4019.0   3067.0         130.624031                258.0  \n",
              "2    144.9941         4019.0   3067.0         130.624031                258.0  \n",
              "3    144.9993         4019.0   3067.0         130.624031                258.0  \n",
              "4    144.9954         4019.0   3067.0         130.624031                258.0  "
            ],
            "text/html": [
              "\n",
              "  <div id=\"df-df5306be-b35b-492c-8c65-ec110d974ce8\">\n",
              "    <div class=\"colab-df-container\">\n",
              "      <div>\n",
              "<style scoped>\n",
              "    .dataframe tbody tr th:only-of-type {\n",
              "        vertical-align: middle;\n",
              "    }\n",
              "\n",
              "    .dataframe tbody tr th {\n",
              "        vertical-align: top;\n",
              "    }\n",
              "\n",
              "    .dataframe thead th {\n",
              "        text-align: right;\n",
              "    }\n",
              "</style>\n",
              "<table border=\"1\" class=\"dataframe\">\n",
              "  <thead>\n",
              "    <tr style=\"text-align: right;\">\n",
              "      <th></th>\n",
              "      <th>Unnamed: 0</th>\n",
              "      <th>Suburb</th>\n",
              "      <th>Rooms</th>\n",
              "      <th>Type</th>\n",
              "      <th>Price</th>\n",
              "      <th>Distance</th>\n",
              "      <th>Postcode</th>\n",
              "      <th>Bedroom2</th>\n",
              "      <th>Bathroom</th>\n",
              "      <th>Car</th>\n",
              "      <th>Landsize</th>\n",
              "      <th>BuildingArea</th>\n",
              "      <th>YearBuilt</th>\n",
              "      <th>Lattitude</th>\n",
              "      <th>Longtitude</th>\n",
              "      <th>Propertycount</th>\n",
              "      <th>zipcode</th>\n",
              "      <th>airbnb_price_mean</th>\n",
              "      <th>airbnb_record_count</th>\n",
              "    </tr>\n",
              "  </thead>\n",
              "  <tbody>\n",
              "    <tr>\n",
              "      <th>0</th>\n",
              "      <td>0</td>\n",
              "      <td>Abbotsford</td>\n",
              "      <td>2</td>\n",
              "      <td>h</td>\n",
              "      <td>1035000.0</td>\n",
              "      <td>2.5</td>\n",
              "      <td>3067.0</td>\n",
              "      <td>2.0</td>\n",
              "      <td>1.0</td>\n",
              "      <td>0.0</td>\n",
              "      <td>156.0</td>\n",
              "      <td>79.0</td>\n",
              "      <td>1900.0</td>\n",
              "      <td>-37.8079</td>\n",
              "      <td>144.9934</td>\n",
              "      <td>4019.0</td>\n",
              "      <td>3067.0</td>\n",
              "      <td>130.624031</td>\n",
              "      <td>258.0</td>\n",
              "    </tr>\n",
              "    <tr>\n",
              "      <th>1</th>\n",
              "      <td>1</td>\n",
              "      <td>Abbotsford</td>\n",
              "      <td>3</td>\n",
              "      <td>h</td>\n",
              "      <td>1465000.0</td>\n",
              "      <td>2.5</td>\n",
              "      <td>3067.0</td>\n",
              "      <td>3.0</td>\n",
              "      <td>2.0</td>\n",
              "      <td>0.0</td>\n",
              "      <td>134.0</td>\n",
              "      <td>150.0</td>\n",
              "      <td>1900.0</td>\n",
              "      <td>-37.8093</td>\n",
              "      <td>144.9944</td>\n",
              "      <td>4019.0</td>\n",
              "      <td>3067.0</td>\n",
              "      <td>130.624031</td>\n",
              "      <td>258.0</td>\n",
              "    </tr>\n",
              "    <tr>\n",
              "      <th>2</th>\n",
              "      <td>2</td>\n",
              "      <td>Abbotsford</td>\n",
              "      <td>4</td>\n",
              "      <td>h</td>\n",
              "      <td>1600000.0</td>\n",
              "      <td>2.5</td>\n",
              "      <td>3067.0</td>\n",
              "      <td>3.0</td>\n",
              "      <td>1.0</td>\n",
              "      <td>2.0</td>\n",
              "      <td>120.0</td>\n",
              "      <td>142.0</td>\n",
              "      <td>2014.0</td>\n",
              "      <td>-37.8072</td>\n",
              "      <td>144.9941</td>\n",
              "      <td>4019.0</td>\n",
              "      <td>3067.0</td>\n",
              "      <td>130.624031</td>\n",
              "      <td>258.0</td>\n",
              "    </tr>\n",
              "    <tr>\n",
              "      <th>3</th>\n",
              "      <td>3</td>\n",
              "      <td>Abbotsford</td>\n",
              "      <td>3</td>\n",
              "      <td>h</td>\n",
              "      <td>1876000.0</td>\n",
              "      <td>2.5</td>\n",
              "      <td>3067.0</td>\n",
              "      <td>4.0</td>\n",
              "      <td>2.0</td>\n",
              "      <td>0.0</td>\n",
              "      <td>245.0</td>\n",
              "      <td>210.0</td>\n",
              "      <td>1910.0</td>\n",
              "      <td>-37.8024</td>\n",
              "      <td>144.9993</td>\n",
              "      <td>4019.0</td>\n",
              "      <td>3067.0</td>\n",
              "      <td>130.624031</td>\n",
              "      <td>258.0</td>\n",
              "    </tr>\n",
              "    <tr>\n",
              "      <th>4</th>\n",
              "      <td>4</td>\n",
              "      <td>Abbotsford</td>\n",
              "      <td>2</td>\n",
              "      <td>h</td>\n",
              "      <td>1636000.0</td>\n",
              "      <td>2.5</td>\n",
              "      <td>3067.0</td>\n",
              "      <td>2.0</td>\n",
              "      <td>1.0</td>\n",
              "      <td>2.0</td>\n",
              "      <td>256.0</td>\n",
              "      <td>107.0</td>\n",
              "      <td>1890.0</td>\n",
              "      <td>-37.8060</td>\n",
              "      <td>144.9954</td>\n",
              "      <td>4019.0</td>\n",
              "      <td>3067.0</td>\n",
              "      <td>130.624031</td>\n",
              "      <td>258.0</td>\n",
              "    </tr>\n",
              "  </tbody>\n",
              "</table>\n",
              "</div>\n",
              "      <button class=\"colab-df-convert\" onclick=\"convertToInteractive('df-df5306be-b35b-492c-8c65-ec110d974ce8')\"\n",
              "              title=\"Convert this dataframe to an interactive table.\"\n",
              "              style=\"display:none;\">\n",
              "        \n",
              "  <svg xmlns=\"http://www.w3.org/2000/svg\" height=\"24px\"viewBox=\"0 0 24 24\"\n",
              "       width=\"24px\">\n",
              "    <path d=\"M0 0h24v24H0V0z\" fill=\"none\"/>\n",
              "    <path d=\"M18.56 5.44l.94 2.06.94-2.06 2.06-.94-2.06-.94-.94-2.06-.94 2.06-2.06.94zm-11 1L8.5 8.5l.94-2.06 2.06-.94-2.06-.94L8.5 2.5l-.94 2.06-2.06.94zm10 10l.94 2.06.94-2.06 2.06-.94-2.06-.94-.94-2.06-.94 2.06-2.06.94z\"/><path d=\"M17.41 7.96l-1.37-1.37c-.4-.4-.92-.59-1.43-.59-.52 0-1.04.2-1.43.59L10.3 9.45l-7.72 7.72c-.78.78-.78 2.05 0 2.83L4 21.41c.39.39.9.59 1.41.59.51 0 1.02-.2 1.41-.59l7.78-7.78 2.81-2.81c.8-.78.8-2.07 0-2.86zM5.41 20L4 18.59l7.72-7.72 1.47 1.35L5.41 20z\"/>\n",
              "  </svg>\n",
              "      </button>\n",
              "      \n",
              "  <style>\n",
              "    .colab-df-container {\n",
              "      display:flex;\n",
              "      flex-wrap:wrap;\n",
              "      gap: 12px;\n",
              "    }\n",
              "\n",
              "    .colab-df-convert {\n",
              "      background-color: #E8F0FE;\n",
              "      border: none;\n",
              "      border-radius: 50%;\n",
              "      cursor: pointer;\n",
              "      display: none;\n",
              "      fill: #1967D2;\n",
              "      height: 32px;\n",
              "      padding: 0 0 0 0;\n",
              "      width: 32px;\n",
              "    }\n",
              "\n",
              "    .colab-df-convert:hover {\n",
              "      background-color: #E2EBFA;\n",
              "      box-shadow: 0px 1px 2px rgba(60, 64, 67, 0.3), 0px 1px 3px 1px rgba(60, 64, 67, 0.15);\n",
              "      fill: #174EA6;\n",
              "    }\n",
              "\n",
              "    [theme=dark] .colab-df-convert {\n",
              "      background-color: #3B4455;\n",
              "      fill: #D2E3FC;\n",
              "    }\n",
              "\n",
              "    [theme=dark] .colab-df-convert:hover {\n",
              "      background-color: #434B5C;\n",
              "      box-shadow: 0px 1px 3px 1px rgba(0, 0, 0, 0.15);\n",
              "      filter: drop-shadow(0px 1px 2px rgba(0, 0, 0, 0.3));\n",
              "      fill: #FFFFFF;\n",
              "    }\n",
              "  </style>\n",
              "\n",
              "      <script>\n",
              "        const buttonEl =\n",
              "          document.querySelector('#df-df5306be-b35b-492c-8c65-ec110d974ce8 button.colab-df-convert');\n",
              "        buttonEl.style.display =\n",
              "          google.colab.kernel.accessAllowed ? 'block' : 'none';\n",
              "\n",
              "        async function convertToInteractive(key) {\n",
              "          const element = document.querySelector('#df-df5306be-b35b-492c-8c65-ec110d974ce8');\n",
              "          const dataTable =\n",
              "            await google.colab.kernel.invokeFunction('convertToInteractive',\n",
              "                                                     [key], {});\n",
              "          if (!dataTable) return;\n",
              "\n",
              "          const docLinkHtml = 'Like what you see? Visit the ' +\n",
              "            '<a target=\"_blank\" href=https://colab.research.google.com/notebooks/data_table.ipynb>data table notebook</a>'\n",
              "            + ' to learn more about interactive tables.';\n",
              "          element.innerHTML = '';\n",
              "          dataTable['output_type'] = 'display_data';\n",
              "          await google.colab.output.renderOutput(dataTable, element);\n",
              "          const docLink = document.createElement('div');\n",
              "          docLink.innerHTML = docLinkHtml;\n",
              "          element.appendChild(docLink);\n",
              "        }\n",
              "      </script>\n",
              "    </div>\n",
              "  </div>\n",
              "  "
            ]
          },
          "metadata": {},
          "execution_count": 374
        }
      ]
    },
    {
      "cell_type": "code",
      "source": [],
      "metadata": {
        "id": "nZkffQltQ92A"
      },
      "execution_count": 374,
      "outputs": []
    },
    {
      "cell_type": "markdown",
      "metadata": {
        "id": "s-mixICN22kA"
      },
      "source": [
        "## Ejercicio 1: Encoding\n",
        "\n",
        "1. Seleccionar todas las filas y columnas del conjunto de datos obtenido en la parte 1 del entregable, **excepto** `BuildingArea` y `YearBuilt`, que volveremos a imputar más adelante.\n",
        "\n",
        "2. Aplicar una codificación One-hot encoding a cada fila, tanto para variables numéricas como categóricas. Si lo consideran necesario, pueden volver a reducir el número de categorías únicas.\n",
        "\n",
        "Algunas opciones:\n",
        "  1. Utilizar `OneHotEncoder` junto con el parámetro `categories` para las variables categóricas y luego usar `numpy.hstack` para concatenar el resultado con las variables numéricas.\n",
        "  2. `DictVectorizer` con algunos pasos de pre-proceso previo.\n",
        "\n",
        "Recordar también que el atributo `pandas.DataFrame.values` permite acceder a la matriz de numpy subyacente a un DataFrame.\n"
      ]
    },
    {
      "cell_type": "code",
      "source": [
        "X = df.drop(['Price'], axis = 1)\n",
        "y = df['Price']"
      ],
      "metadata": {
        "id": "VSShPGdyP97C"
      },
      "execution_count": 375,
      "outputs": []
    },
    {
      "cell_type": "markdown",
      "source": [
        "Se separa la variable objetivo de las variables predictoras."
      ],
      "metadata": {
        "id": "sIjYMbu2rZmL"
      }
    },
    {
      "cell_type": "code",
      "source": [
        "X = X[X['YearBuilt'] > 1900]"
      ],
      "metadata": {
        "id": "FBuzQSXdwuSq"
      },
      "execution_count": 376,
      "outputs": []
    },
    {
      "cell_type": "markdown",
      "source": [
        "Se eliminan las edificaciones construidas antes del año 1900."
      ],
      "metadata": {
        "id": "7w3i7MUVxN1Z"
      }
    },
    {
      "cell_type": "code",
      "source": [
        "X['Suburb'].value_counts()"
      ],
      "metadata": {
        "colab": {
          "base_uri": "https://localhost:8080/"
        },
        "id": "SiBuq-ZYd9vU",
        "outputId": "1d155449-46da-4801-fb68-b398ce1fc802"
      },
      "execution_count": 377,
      "outputs": [
        {
          "output_type": "execute_result",
          "data": {
            "text/plain": [
              "Bentleigh East    115\n",
              "Brunswick         100\n",
              "Coburg             98\n",
              "Preston            97\n",
              "Glenroy            93\n",
              "                 ... \n",
              "Hurstbridge         1\n",
              "McKinnon            1\n",
              "Healesville         1\n",
              "Warrandyte          1\n",
              "Kooyong             1\n",
              "Name: Suburb, Length: 299, dtype: int64"
            ]
          },
          "metadata": {},
          "execution_count": 377
        }
      ]
    },
    {
      "cell_type": "code",
      "source": [
        "suburbios_frecuentes = X['Suburb'].value_counts().nlargest(30).index.tolist()\n",
        "X = X[X['Suburb'].isin(suburbios_frecuentes)]"
      ],
      "metadata": {
        "id": "SUVyXWwidwJW"
      },
      "execution_count": 378,
      "outputs": []
    },
    {
      "cell_type": "markdown",
      "source": [
        "Dado el gran número de suburbios, y que varios de ellos poseen muy pocos registros, se seleccionaran sólo los treinta suburbios con mayor cantidad de filas."
      ],
      "metadata": {
        "id": "ZuWgAmt0ru4q"
      }
    },
    {
      "cell_type": "code",
      "source": [
        "X1 = X.drop(['Unnamed: 0', 'zipcode', 'Lattitude', 'Longtitude'], axis = 1)"
      ],
      "metadata": {
        "id": "D_1azJNgQtFR"
      },
      "execution_count": 379,
      "outputs": []
    },
    {
      "cell_type": "markdown",
      "source": [
        "Eliminamos varias columnas. zipcode es eliminada por ofrecer la misma informacion que postcode. Lattitude y Longitude se eliminan debido a que cada inmueble tiene identificado el barrio en el que se encuentra y la distancia al centro de Melbourne."
      ],
      "metadata": {
        "id": "k9UQvCtar-Og"
      }
    },
    {
      "cell_type": "code",
      "source": [
        "X1 = X1.drop(['BuildingArea', 'YearBuilt'], axis = 1)"
      ],
      "metadata": {
        "id": "jfVu5OI9Zy0g"
      },
      "execution_count": 380,
      "outputs": []
    },
    {
      "cell_type": "code",
      "source": [
        "categorical_cols = X1.select_dtypes(include = ['object']).columns.tolist()\n",
        "numerical_cols = X1.select_dtypes(include = ['number']).columns.tolist()"
      ],
      "metadata": {
        "id": "91MpMhoGoZxM"
      },
      "execution_count": 381,
      "outputs": []
    },
    {
      "cell_type": "markdown",
      "source": [
        "Clasificamos las variables en categóricas y numéricas."
      ],
      "metadata": {
        "id": "joKL-Qbwsblv"
      }
    },
    {
      "cell_type": "code",
      "source": [
        "X1['Type'].value_counts()"
      ],
      "metadata": {
        "colab": {
          "base_uri": "https://localhost:8080/"
        },
        "id": "BfpUGa0eXMex",
        "outputId": "900afd8d-d1e7-4187-a9de-d8a55169b9eb"
      },
      "execution_count": 382,
      "outputs": [
        {
          "output_type": "execute_result",
          "data": {
            "text/plain": [
              "h    1391\n",
              "u     665\n",
              "t     256\n",
              "Name: Type, dtype: int64"
            ]
          },
          "metadata": {},
          "execution_count": 382
        }
      ]
    },
    {
      "cell_type": "code",
      "source": [
        "encoder = OneHotEncoder(handle_unknown = 'ignore', sparse = False)\n",
        "\n",
        "new_columns = []\n",
        "\n",
        "X_cat = encoder.fit_transform(X1[categorical_cols])\n",
        "for col, col_values in zip(categorical_cols, encoder.categories_):\n",
        "  for col_value in col_values:\n",
        "    new_columns.append('{}={}'.format(col, col_value))"
      ],
      "metadata": {
        "id": "KQDlV4gba4c_",
        "colab": {
          "base_uri": "https://localhost:8080/"
        },
        "outputId": "03cd9aa1-dbcd-4487-d950-b642ec56be23"
      },
      "execution_count": 383,
      "outputs": [
        {
          "output_type": "stream",
          "name": "stderr",
          "text": [
            "/usr/local/lib/python3.10/dist-packages/sklearn/preprocessing/_encoders.py:868: FutureWarning: `sparse` was renamed to `sparse_output` in version 1.2 and will be removed in 1.4. `sparse_output` is ignored unless you leave `sparse` to its default value.\n",
            "  warnings.warn(\n"
          ]
        }
      ]
    },
    {
      "cell_type": "code",
      "source": [
        "X_enc = numpy.hstack([X_cat, X1[numerical_cols].values])\n",
        "new_columns.extend(numerical_cols)"
      ],
      "metadata": {
        "id": "VqKL957_ptZB"
      },
      "execution_count": 384,
      "outputs": []
    },
    {
      "cell_type": "markdown",
      "source": [
        "Aplicamos un encoder a las variables categóricas."
      ],
      "metadata": {
        "id": "OUjYh7pgxGA5"
      }
    },
    {
      "cell_type": "markdown",
      "metadata": {
        "id": "ismngxPcfoWb"
      },
      "source": [
        "## Ejercicio 2: Imputación por KNN\n",
        "\n",
        "En el teórico se presentó el método `IterativeImputer` para imputar valores faltantes en variables numéricas. Sin embargo, los ejemplos presentados sólo utilizaban algunas variables numéricas presentes en el conjunto de datos. En este ejercicio, utilizaremos la matriz de datos codificada para imputar datos faltantes de manera más precisa.\n",
        "\n",
        "1. Agregue a la matriz obtenida en el punto anterior las columnas `YearBuilt` y `BuildingArea`.\n",
        "2. Aplique una instancia de `IterativeImputer` con un estimador `KNeighborsRegressor` para imputar los valores de las variables. ¿Es necesario estandarizar o escalar los datos previamente?\n",
        "3. Realice un gráfico mostrando la distribución de cada variable antes de ser imputada, y con ambos métodos de imputación."
      ]
    },
    {
      "cell_type": "code",
      "source": [
        "append_cols = ['YearBuilt', 'BuildingArea']\n",
        "\n",
        "X2 = numpy.hstack([X_enc, X[append_cols].values])\n",
        "new_columns.extend(append_cols)"
      ],
      "metadata": {
        "id": "KCeXzA__b0hl"
      },
      "execution_count": 385,
      "outputs": []
    },
    {
      "cell_type": "markdown",
      "source": [
        "Agregamos las columnas YearBuilt y BuildingArea."
      ],
      "metadata": {
        "id": "Dk1uIXufsu6u"
      }
    },
    {
      "cell_type": "code",
      "source": [
        "X2_df = pandas.DataFrame(X2, columns = new_columns)"
      ],
      "metadata": {
        "id": "Zkvo4wc10JI9"
      },
      "execution_count": 386,
      "outputs": []
    },
    {
      "cell_type": "code",
      "source": [
        "X2_df.isna().sum()"
      ],
      "metadata": {
        "colab": {
          "base_uri": "https://localhost:8080/"
        },
        "id": "n87RAn7urqfk",
        "outputId": "099c4c08-6d4f-4c01-e7fd-808801fad9ef"
      },
      "execution_count": 387,
      "outputs": [
        {
          "output_type": "execute_result",
          "data": {
            "text/plain": [
              "Suburb=Balwyn North         0\n",
              "Suburb=Bentleigh            0\n",
              "Suburb=Bentleigh East       0\n",
              "Suburb=Brighton             0\n",
              "Suburb=Brighton East        0\n",
              "Suburb=Brunswick            0\n",
              "Suburb=Brunswick West       0\n",
              "Suburb=Camberwell           0\n",
              "Suburb=Carnegie             0\n",
              "Suburb=Coburg               0\n",
              "Suburb=Doncaster            0\n",
              "Suburb=Elwood               0\n",
              "Suburb=Essendon             0\n",
              "Suburb=Footscray            0\n",
              "Suburb=Glen Iris            0\n",
              "Suburb=Glenroy              0\n",
              "Suburb=Hawthorn             0\n",
              "Suburb=Keilor East          0\n",
              "Suburb=Kew                  0\n",
              "Suburb=Malvern East         0\n",
              "Suburb=Moonee Ponds         0\n",
              "Suburb=Newport              0\n",
              "Suburb=Northcote            0\n",
              "Suburb=Pascoe Vale          0\n",
              "Suburb=Preston              0\n",
              "Suburb=Richmond             0\n",
              "Suburb=South Yarra          0\n",
              "Suburb=St Kilda             0\n",
              "Suburb=Thornbury            0\n",
              "Suburb=Yarraville           0\n",
              "Type=h                      0\n",
              "Type=t                      0\n",
              "Type=u                      0\n",
              "Rooms                       0\n",
              "Distance                    0\n",
              "Postcode                    0\n",
              "Bedroom2                    0\n",
              "Bathroom                    0\n",
              "Car                         3\n",
              "Landsize                    0\n",
              "Propertycount               0\n",
              "airbnb_price_mean        1611\n",
              "airbnb_record_count      1611\n",
              "YearBuilt                   0\n",
              "BuildingArea                0\n",
              "dtype: int64"
            ]
          },
          "metadata": {},
          "execution_count": 387
        }
      ]
    },
    {
      "cell_type": "markdown",
      "source": [
        "Chequeamos datos ausentes.\n",
        "\n",
        "Los métodos de  imputación basados en similaridad o distancia pueden beneficiarse del escalado y de la estandarización. Las variables con escalas muy grandes pueden dominar el cálculo de las distancias, afectando negativamente las imputaciones."
      ],
      "metadata": {
        "id": "3kwcgA3usxOm"
      }
    },
    {
      "cell_type": "code",
      "source": [
        "standard = StandardScaler()\n",
        "X2_df_standard = standard.fit_transform(X2_df)\n",
        "\n",
        "scaler = MinMaxScaler()\n",
        "X2_df_scaler = scaler.fit_transform(X2_df)"
      ],
      "metadata": {
        "id": "zQe_cq3Hh1ZS"
      },
      "execution_count": 388,
      "outputs": []
    },
    {
      "cell_type": "markdown",
      "source": [
        "Realizamos estandarizado y escalado."
      ],
      "metadata": {
        "id": "SPYIVdfAtTZd"
      }
    },
    {
      "cell_type": "code",
      "metadata": {
        "id": "G4ClSr_JapCw",
        "colab": {
          "base_uri": "https://localhost:8080/"
        },
        "outputId": "a13d8d30-5e65-45ab-9874-a6640a231228"
      },
      "source": [
        "mice_imputer = IterativeImputer(random_state=0, estimator=KNeighborsRegressor())\n",
        "X2_standard_mice = mice_imputer.fit_transform(X2_df_standard)\n",
        "X2_scaler_mice = mice_imputer.fit_transform(X2_df_scaler)"
      ],
      "execution_count": 389,
      "outputs": [
        {
          "output_type": "stream",
          "name": "stderr",
          "text": [
            "/usr/local/lib/python3.10/dist-packages/sklearn/impute/_iterative.py:785: ConvergenceWarning: [IterativeImputer] Early stopping criterion not reached.\n",
            "  warnings.warn(\n"
          ]
        }
      ]
    },
    {
      "cell_type": "markdown",
      "source": [
        "KNN Imputer se usa para completar los datos ausentes prediciendo como deberían ser estos en función del dataset restantes. Las variables \"YearBuilt\" y \"BuildingArea\" \"perdieron\" los datos ausentes que tenía el dataset original en el proceso de eliminación de outliers. Por esta razón no se realiza el gráfico de comparación de la distribución de las variables antes y despues de la imputación."
      ],
      "metadata": {
        "id": "BLcNRm7RejVl"
      }
    },
    {
      "cell_type": "code",
      "metadata": {
        "id": "PMK1ktqYQTJK"
      },
      "source": [
        "# mice_year_built = df_data_mice.YearBuilt.to_frame()\n",
        "# mice_year_built['Imputation'] = 'KNN over YearBuilt and BuildingArea'\n",
        "# melb_year_build = melb_df.YearBuilt.dropna().to_frame()\n",
        "# melb_year_build['Imputation'] = 'Original'\n",
        "# data = pandas.concat([mice_year_built, melb_year_build])\n",
        "# fig = plt.figure(figsize=(8, 5))\n",
        "# g = seaborn.kdeplot(data=data, x='YearBuilt', hue='Imputation')"
      ],
      "execution_count": 390,
      "outputs": []
    },
    {
      "cell_type": "markdown",
      "metadata": {
        "id": "NBN7-5OIxjJW"
      },
      "source": [
        "## Ejercicio 3: Reducción de dimensionalidad.\n",
        "\n",
        "Utilizando la matriz obtenida en el ejercicio anterior:\n",
        "1. Aplique `PCA` para obtener $n$ componentes principales de la matriz, donde `n = min(20, X.shape[0])`. ¿Es necesario estandarizar o escalar los datos?\n",
        "2. Grafique la varianza capturada por los primeros $n$ componentes principales, para cada $n$.\n",
        "3. En base al gráfico, seleccione las primeras $m$ columnas de la matriz transformada para agregar como nuevas características al conjunto de datos."
      ]
    },
    {
      "cell_type": "markdown",
      "source": [
        "Si, es recomendable estandarizar o escalar las variables antes de aplicar PCA. PCA es sensible a la escala de las variables, las variables con valores desproporcionadamente altos puede afectar los componentes principales."
      ],
      "metadata": {
        "id": "Nn2w8j5Au0ng"
      }
    },
    {
      "cell_type": "code",
      "source": [
        "pca_standard = PCA(n_components = min(20, X2_standard_mice.shape[0]))\n",
        "pca_scaler = PCA(n_components = min(20, X2_scaler_mice.shape[0]))\n",
        "\n",
        "X2_standard_pca = pca_standard.fit_transform(X2_standard_mice)\n",
        "X2_scaler_pca = pca_scaler.fit_transform(X2_scaler_mice)\n",
        "\n",
        "explained_variance_standard = pca_standard.explained_variance_ratio_\n",
        "explained_variance_scaler = pca_scaler.explained_variance_ratio_\n",
        "\n",
        "df_pca_standard = pandas.DataFrame(X2_standard_pca, columns=[f'PC{i+1}' for i in range(pca_standard.n_components_)])\n",
        "df_pca_scaler = pandas.DataFrame(X2_scaler_pca, columns=[f'PC{i+1}' for i in range(pca_scaler.n_components_)])"
      ],
      "metadata": {
        "id": "_38OiKmFjv2M"
      },
      "execution_count": 391,
      "outputs": []
    },
    {
      "cell_type": "markdown",
      "source": [
        "Aplicamos PCA sobre los dataset estanadarizados y escalados. Compararemos ambos resultados."
      ],
      "metadata": {
        "id": "Axx5Gfheva2M"
      }
    },
    {
      "cell_type": "code",
      "source": [
        "plt.plot(range(min(20, X2_standard_mice.shape[0])), explained_variance_standard, label = 'Estandarizado')\n",
        "plt.plot(range(min(20, X2_scaler_mice.shape[0])), explained_variance_scaler, label = 'Escalado')\n",
        "plt.xlabel('Número de componentes principales')\n",
        "plt.ylabel('Ratio de varianza explicada')\n",
        "plt.legend(loc = 'best')\n",
        "plt.show()"
      ],
      "metadata": {
        "colab": {
          "base_uri": "https://localhost:8080/",
          "height": 478
        },
        "id": "nCK3xG9T6Zkz",
        "outputId": "760557b7-d2f4-4ed6-804e-5229d5242d63"
      },
      "execution_count": 392,
      "outputs": [
        {
          "output_type": "display_data",
          "data": {
            "text/plain": [
              "<Figure size 640x480 with 1 Axes>"
            ],
            "image/png": "[encoded data removed]"
          },
          "metadata": {}
        }
      ]
    },
    {
      "cell_type": "markdown",
      "source": [
        "Se seleccionaran el número de componentes que maximizan la varianza, en este caso ese número parece ser cinco."
      ],
      "metadata": {
        "id": "wLGIDz8AvsnV"
      }
    },
    {
      "cell_type": "markdown",
      "metadata": {
        "id": "WrZTYmG_ZyDy"
      },
      "source": [
        "## Ejercicio 4: Composición del resultado\n",
        "\n",
        "Transformar nuevamente el conjunto de datos procesado en un `pandas.DataFrame` y guardarlo en un archivo.\n",
        "\n",
        "Para eso, será necesario recordar el nombre original de cada columna de la matriz, en el orden correcto. Tener en cuenta:\n",
        "1. El método `OneHotEncoder.get_feature_names` o el atributo `OneHotEncoder.categories_` permiten obtener una lista con los valores de la categoría que le corresponde a cada índice de la matriz.\n",
        "2. Ninguno de los métodos aplicados intercambia de lugar las columnas o las filas de la matriz."
      ]
    },
    {
      "cell_type": "code",
      "source": [
        "X3 = pandas.DataFrame(X2_scaler_mice, columns = new_columns)"
      ],
      "metadata": {
        "id": "KLYHOYRQkhSy"
      },
      "execution_count": 393,
      "outputs": []
    },
    {
      "cell_type": "code",
      "source": [
        "X4 = pandas.concat([X3, df_pca_scaler.iloc[:,0:5]], axis=1)\n",
        "X4.head()"
      ],
      "metadata": {
        "colab": {
          "base_uri": "https://localhost:8080/",
          "height": 317
        },
        "id": "vtJKpwotpqev",
        "outputId": "69fefcb1-03d6-4af7-f00e-c9a193c1fad0"
      },
      "execution_count": 394,
      "outputs": [
        {
          "output_type": "execute_result",
          "data": {
            "text/plain": [
              "   Suburb=Balwyn North  Suburb=Bentleigh  Suburb=Bentleigh East  \\\n",
              "0                  1.0               0.0                    0.0   \n",
              "1                  1.0               0.0                    0.0   \n",
              "2                  1.0               0.0                    0.0   \n",
              "3                  1.0               0.0                    0.0   \n",
              "4                  1.0               0.0                    0.0   \n",
              "\n",
              "   Suburb=Brighton  Suburb=Brighton East  Suburb=Brunswick  \\\n",
              "0              0.0                   0.0               0.0   \n",
              "1              0.0                   0.0               0.0   \n",
              "2              0.0                   0.0               0.0   \n",
              "3              0.0                   0.0               0.0   \n",
              "4              0.0                   0.0               0.0   \n",
              "\n",
              "   Suburb=Brunswick West  Suburb=Camberwell  Suburb=Carnegie  Suburb=Coburg  \\\n",
              "0                    0.0                0.0              0.0            0.0   \n",
              "1                    0.0                0.0              0.0            0.0   \n",
              "2                    0.0                0.0              0.0            0.0   \n",
              "3                    0.0                0.0              0.0            0.0   \n",
              "4                    0.0                0.0              0.0            0.0   \n",
              "\n",
              "   ...  Propertycount  airbnb_price_mean  airbnb_record_count  YearBuilt  \\\n",
              "0  ...       0.244524                0.0                  0.0   0.840708   \n",
              "1  ...       0.244524                0.0                  0.0   0.398230   \n",
              "2  ...       0.244524                0.0                  0.0   0.486726   \n",
              "3  ...       0.244524                0.0                  0.0   0.442478   \n",
              "4  ...       0.244524                0.0                  0.0   0.442478   \n",
              "\n",
              "   BuildingArea       PC1       PC2       PC3       PC4       PC5  \n",
              "0      0.410319  0.163887  0.949811  0.452944  0.476743 -0.187381  \n",
              "1      0.378378 -0.610365  0.009691 -0.046511 -0.173967 -0.102048  \n",
              "2      0.675676 -0.709034  0.048190  0.076249 -0.172360 -0.184112  \n",
              "3      0.454545 -0.651086  0.028769 -0.002019 -0.167819 -0.129212  \n",
              "4      0.528256 -0.661312  0.029701  0.008511 -0.168759 -0.138251  \n",
              "\n",
              "[5 rows x 50 columns]"
            ],
            "text/html": [
              "\n",
              "  <div id=\"df-401695d2-3e0a-451d-8657-f8d500c76a30\">\n",
              "    <div class=\"colab-df-container\">\n",
              "      <div>\n",
              "<style scoped>\n",
              "    .dataframe tbody tr th:only-of-type {\n",
              "        vertical-align: middle;\n",
              "    }\n",
              "\n",
              "    .dataframe tbody tr th {\n",
              "        vertical-align: top;\n",
              "    }\n",
              "\n",
              "    .dataframe thead th {\n",
              "        text-align: right;\n",
              "    }\n",
              "</style>\n",
              "<table border=\"1\" class=\"dataframe\">\n",
              "  <thead>\n",
              "    <tr style=\"text-align: right;\">\n",
              "      <th></th>\n",
              "      <th>Suburb=Balwyn North</th>\n",
              "      <th>Suburb=Bentleigh</th>\n",
              "      <th>Suburb=Bentleigh East</th>\n",
              "      <th>Suburb=Brighton</th>\n",
              "      <th>Suburb=Brighton East</th>\n",
              "      <th>Suburb=Brunswick</th>\n",
              "      <th>Suburb=Brunswick West</th>\n",
              "      <th>Suburb=Camberwell</th>\n",
              "      <th>Suburb=Carnegie</th>\n",
              "      <th>Suburb=Coburg</th>\n",
              "      <th>...</th>\n",
              "      <th>Propertycount</th>\n",
              "      <th>airbnb_price_mean</th>\n",
              "      <th>airbnb_record_count</th>\n",
              "      <th>YearBuilt</th>\n",
              "      <th>BuildingArea</th>\n",
              "      <th>PC1</th>\n",
              "      <th>PC2</th>\n",
              "      <th>PC3</th>\n",
              "      <th>PC4</th>\n",
              "      <th>PC5</th>\n",
              "    </tr>\n",
              "  </thead>\n",
              "  <tbody>\n",
              "    <tr>\n",
              "      <th>0</th>\n",
              "      <td>1.0</td>\n",
              "      <td>0.0</td>\n",
              "      <td>0.0</td>\n",
              "      <td>0.0</td>\n",
              "      <td>0.0</td>\n",
              "      <td>0.0</td>\n",
              "      <td>0.0</td>\n",
              "      <td>0.0</td>\n",
              "      <td>0.0</td>\n",
              "      <td>0.0</td>\n",
              "      <td>...</td>\n",
              "      <td>0.244524</td>\n",
              "      <td>0.0</td>\n",
              "      <td>0.0</td>\n",
              "      <td>0.840708</td>\n",
              "      <td>0.410319</td>\n",
              "      <td>0.163887</td>\n",
              "      <td>0.949811</td>\n",
              "      <td>0.452944</td>\n",
              "      <td>0.476743</td>\n",
              "      <td>-0.187381</td>\n",
              "    </tr>\n",
              "    <tr>\n",
              "      <th>1</th>\n",
              "      <td>1.0</td>\n",
              "      <td>0.0</td>\n",
              "      <td>0.0</td>\n",
              "      <td>0.0</td>\n",
              "      <td>0.0</td>\n",
              "      <td>0.0</td>\n",
              "      <td>0.0</td>\n",
              "      <td>0.0</td>\n",
              "      <td>0.0</td>\n",
              "      <td>0.0</td>\n",
              "      <td>...</td>\n",
              "      <td>0.244524</td>\n",
              "      <td>0.0</td>\n",
              "      <td>0.0</td>\n",
              "      <td>0.398230</td>\n",
              "      <td>0.378378</td>\n",
              "      <td>-0.610365</td>\n",
              "      <td>0.009691</td>\n",
              "      <td>-0.046511</td>\n",
              "      <td>-0.173967</td>\n",
              "      <td>-0.102048</td>\n",
              "    </tr>\n",
              "    <tr>\n",
              "      <th>2</th>\n",
              "      <td>1.0</td>\n",
              "      <td>0.0</td>\n",
              "      <td>0.0</td>\n",
              "      <td>0.0</td>\n",
              "      <td>0.0</td>\n",
              "      <td>0.0</td>\n",
              "      <td>0.0</td>\n",
              "      <td>0.0</td>\n",
              "      <td>0.0</td>\n",
              "      <td>0.0</td>\n",
              "      <td>...</td>\n",
              "      <td>0.244524</td>\n",
              "      <td>0.0</td>\n",
              "      <td>0.0</td>\n",
              "      <td>0.486726</td>\n",
              "      <td>0.675676</td>\n",
              "      <td>-0.709034</td>\n",
              "      <td>0.048190</td>\n",
              "      <td>0.076249</td>\n",
              "      <td>-0.172360</td>\n",
              "      <td>-0.184112</td>\n",
              "    </tr>\n",
              "    <tr>\n",
              "      <th>3</th>\n",
              "      <td>1.0</td>\n",
              "      <td>0.0</td>\n",
              "      <td>0.0</td>\n",
              "      <td>0.0</td>\n",
              "      <td>0.0</td>\n",
              "      <td>0.0</td>\n",
              "      <td>0.0</td>\n",
              "      <td>0.0</td>\n",
              "      <td>0.0</td>\n",
              "      <td>0.0</td>\n",
              "      <td>...</td>\n",
              "      <td>0.244524</td>\n",
              "      <td>0.0</td>\n",
              "      <td>0.0</td>\n",
              "      <td>0.442478</td>\n",
              "      <td>0.454545</td>\n",
              "      <td>-0.651086</td>\n",
              "      <td>0.028769</td>\n",
              "      <td>-0.002019</td>\n",
              "      <td>-0.167819</td>\n",
              "      <td>-0.129212</td>\n",
              "    </tr>\n",
              "    <tr>\n",
              "      <th>4</th>\n",
              "      <td>1.0</td>\n",
              "      <td>0.0</td>\n",
              "      <td>0.0</td>\n",
              "      <td>0.0</td>\n",
              "      <td>0.0</td>\n",
              "      <td>0.0</td>\n",
              "      <td>0.0</td>\n",
              "      <td>0.0</td>\n",
              "      <td>0.0</td>\n",
              "      <td>0.0</td>\n",
              "      <td>...</td>\n",
              "      <td>0.244524</td>\n",
              "      <td>0.0</td>\n",
              "      <td>0.0</td>\n",
              "      <td>0.442478</td>\n",
              "      <td>0.528256</td>\n",
              "      <td>-0.661312</td>\n",
              "      <td>0.029701</td>\n",
              "      <td>0.008511</td>\n",
              "      <td>-0.168759</td>\n",
              "      <td>-0.138251</td>\n",
              "    </tr>\n",
              "  </tbody>\n",
              "</table>\n",
              "<p>5 rows × 50 columns</p>\n",
              "</div>\n",
              "      <button class=\"colab-df-convert\" onclick=\"convertToInteractive('df-401695d2-3e0a-451d-8657-f8d500c76a30')\"\n",
              "              title=\"Convert this dataframe to an interactive table.\"\n",
              "              style=\"display:none;\">\n",
              "        \n",
              "  <svg xmlns=\"http://www.w3.org/2000/svg\" height=\"24px\"viewBox=\"0 0 24 24\"\n",
              "       width=\"24px\">\n",
              "    <path d=\"M0 0h24v24H0V0z\" fill=\"none\"/>\n",
              "    <path d=\"M18.56 5.44l.94 2.06.94-2.06 2.06-.94-2.06-.94-.94-2.06-.94 2.06-2.06.94zm-11 1L8.5 8.5l.94-2.06 2.06-.94-2.06-.94L8.5 2.5l-.94 2.06-2.06.94zm10 10l.94 2.06.94-2.06 2.06-.94-2.06-.94-.94-2.06-.94 2.06-2.06.94z\"/><path d=\"M17.41 7.96l-1.37-1.37c-.4-.4-.92-.59-1.43-.59-.52 0-1.04.2-1.43.59L10.3 9.45l-7.72 7.72c-.78.78-.78 2.05 0 2.83L4 21.41c.39.39.9.59 1.41.59.51 0 1.02-.2 1.41-.59l7.78-7.78 2.81-2.81c.8-.78.8-2.07 0-2.86zM5.41 20L4 18.59l7.72-7.72 1.47 1.35L5.41 20z\"/>\n",
              "  </svg>\n",
              "      </button>\n",
              "      \n",
              "  <style>\n",
              "    .colab-df-container {\n",
              "      display:flex;\n",
              "      flex-wrap:wrap;\n",
              "      gap: 12px;\n",
              "    }\n",
              "\n",
              "    .colab-df-convert {\n",
              "      background-color: #E8F0FE;\n",
              "      border: none;\n",
              "      border-radius: 50%;\n",
              "      cursor: pointer;\n",
              "      display: none;\n",
              "      fill: #1967D2;\n",
              "      height: 32px;\n",
              "      padding: 0 0 0 0;\n",
              "      width: 32px;\n",
              "    }\n",
              "\n",
              "    .colab-df-convert:hover {\n",
              "      background-color: #E2EBFA;\n",
              "      box-shadow: 0px 1px 2px rgba(60, 64, 67, 0.3), 0px 1px 3px 1px rgba(60, 64, 67, 0.15);\n",
              "      fill: #174EA6;\n",
              "    }\n",
              "\n",
              "    [theme=dark] .colab-df-convert {\n",
              "      background-color: #3B4455;\n",
              "      fill: #D2E3FC;\n",
              "    }\n",
              "\n",
              "    [theme=dark] .colab-df-convert:hover {\n",
              "      background-color: #434B5C;\n",
              "      box-shadow: 0px 1px 3px 1px rgba(0, 0, 0, 0.15);\n",
              "      filter: drop-shadow(0px 1px 2px rgba(0, 0, 0, 0.3));\n",
              "      fill: #FFFFFF;\n",
              "    }\n",
              "  </style>\n",
              "\n",
              "      <script>\n",
              "        const buttonEl =\n",
              "          document.querySelector('#df-401695d2-3e0a-451d-8657-f8d500c76a30 button.colab-df-convert');\n",
              "        buttonEl.style.display =\n",
              "          google.colab.kernel.accessAllowed ? 'block' : 'none';\n",
              "\n",
              "        async function convertToInteractive(key) {\n",
              "          const element = document.querySelector('#df-401695d2-3e0a-451d-8657-f8d500c76a30');\n",
              "          const dataTable =\n",
              "            await google.colab.kernel.invokeFunction('convertToInteractive',\n",
              "                                                     [key], {});\n",
              "          if (!dataTable) return;\n",
              "\n",
              "          const docLinkHtml = 'Like what you see? Visit the ' +\n",
              "            '<a target=\"_blank\" href=https://colab.research.google.com/notebooks/data_table.ipynb>data table notebook</a>'\n",
              "            + ' to learn more about interactive tables.';\n",
              "          element.innerHTML = '';\n",
              "          dataTable['output_type'] = 'display_data';\n",
              "          await google.colab.output.renderOutput(dataTable, element);\n",
              "          const docLink = document.createElement('div');\n",
              "          docLink.innerHTML = docLinkHtml;\n",
              "          element.appendChild(docLink);\n",
              "        }\n",
              "      </script>\n",
              "    </div>\n",
              "  </div>\n",
              "  "
            ]
          },
          "metadata": {},
          "execution_count": 394
        }
      ]
    },
    {
      "cell_type": "code",
      "source": [
        "X4.to_csv('merged_sales_curated.csv')"
      ],
      "metadata": {
        "id": "5ub08Zlwl57n"
      },
      "execution_count": 395,
      "outputs": []
    },
    {
      "cell_type": "markdown",
      "source": [
        "Se construye el dataset final, el cual nace a partir de los datos escalados más los cinco primeros componentes principales."
      ],
      "metadata": {
        "id": "MT9Odv08wKqc"
      }
    },
    {
      "cell_type": "markdown",
      "metadata": {
        "id": "mVBLFc8PhRtW"
      },
      "source": [
        "## Ejercicio 5: Documentación\n",
        "\n",
        "En un documento `.pdf` o `.md` realizar un reporte de las operaciones que realizaron para obtener el conjunto de datos final. Se debe incluir:\n",
        "  1. Criterios de exclusión (o inclusión) de filas\n",
        "  2. Interpretación de las columnas presentes\n",
        "  2. Todas las transofrmaciones realizadas\n",
        "\n",
        "Este documento es de uso técnico exclusivamente, y su objetivo es permitir que otres desarrolladores puedan reproducir los mismos pasos y obtener el mismo resultado. Debe ser detallado pero consiso.\n"
      ]
    },
    {
      "cell_type": "markdown",
      "source": [
        "```\n",
        "  ## Criterios de exclusión de ejemplos\n",
        "  1. Se eliminan ejemplos donde el año de construcción es previo a 1900\n",
        "\n",
        "  ## Características seleccionadas\n",
        "  ### Características categóricas\n",
        "  1. Type: tipo de propiedad. 3 valores posibles\n",
        "  2. Suburb: nombre del barrio. 299 valores posibles\n",
        "\n",
        "  Se seleccionaron sólo los treinta varios con mayor número de filas. Ambas variables categóricas fueron codificadas con el método OneHotEncoding utilizando como máximo sus 30 valores.\n",
        "  \n",
        "  ### Características numéricas\n",
        "  1. Rooms: Cantidad de habitaciones\n",
        "  2. Price: Valor de inmueble. Variable objetivo-\n",
        "  3. Distance: Distancia al centro de la ciudad.\n",
        "  4. Postcode: Código postal.\n",
        "  5. Bedroom2: Número de habitaciones.\n",
        "  6. Bathroom: Número de baños.\n",
        "  7. Car: Número de lugares de estacionamiento.\n",
        "  8. Landsize: Tamaño del terreno en metros.\n",
        "  9. BuildingArea: Tamaño de la edificación en metros.\n",
        "  10. YearBuilt: Año de construcción.\n",
        "  11. Lattitude: Latitud.\n",
        "  12. Longitude: Longitud.\n",
        "  13. zipcode: Código postal.\n",
        "  14. airbnb_price_mean: Precio promedio de alquiler.\n",
        "  15. airbnb_record_count: Número de veces alquilado.\n",
        "\n",
        "  ### Transformaciones:\n",
        "  1. Todas las características numéricas fueron estandarizadas y escaladas.\n",
        "  2. Los valores ausentes fueron imputados utiliando KNeighborsRegressor.\n",
        "  3. Se aplicó análisis de componentes principales a los dataset estandarizados y escalados. Se selecionan los cinco primeros componentes principales.\n",
        "\n",
        "  ### Datos aumentados\n",
        "  1. Se agregan las 5 primeras columnas obtenidas a través del\n",
        "     método de PCA al dataframe escalado.\n",
        "\n",
        "  ### Guardado de los datos\n",
        "  1. EL dataframe final fue exportado al archivo \"merged_sales_curated.csv\"    \n",
        "```"
      ],
      "metadata": {
        "id": "g17Dbozw0xpe"
      }
    }
  ]
}