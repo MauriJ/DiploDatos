{
  "cells": [
    {
      "cell_type": "markdown",
      "id": "e0ff301b-5595-4a0b-a2b8-3d5609a0485d",
      "metadata": {
        "id": "e0ff301b-5595-4a0b-a2b8-3d5609a0485d"
      },
      "source": [
        "**Diplomatura en Ciencia de Datos, Aprendizaje Automático y sus Aplicaciones**\n",
        "\n",
        "**Exploración y Curación de Datos**\n",
        "\n",
        "*Edición 2023*\n",
        "\n",
        "----\n",
        "\n",
        "# Trabajo práctico entregable - parte 1\n",
        "\n",
        "En esta notebook, vamos a cargar el conjunto de datos de [la compentencia Kaggle](https://www.kaggle.com/dansbecker/melbourne-housing-snapshot) sobre estimación de precios de ventas de propiedades en Melbourne, Australia.\n",
        "\n",
        "Utilizaremos el conjunto de datos reducido producido por [DanB](https://www.kaggle.com/dansbecker). Hemos subido una copia a un servidor de la Universidad Nacional de Córdoba para facilitar su acceso remoto."
      ]
    },
    {
      "cell_type": "code",
      "execution_count": 1,
      "id": "f5ac98f7-51f3-4f91-ac49-60ef5fe249be",
      "metadata": {
        "id": "f5ac98f7-51f3-4f91-ac49-60ef5fe249be"
      },
      "outputs": [],
      "source": [
        "import matplotlib.pyplot as plt\n",
        "import numpy\n",
        "import pandas as pd\n",
        "\n",
        "import seaborn\n",
        "seaborn.set_context('talk')\n",
        "\n",
        "from sqlalchemy import create_engine, text"
      ]
    },
    {
      "cell_type": "code",
      "execution_count": 2,
      "id": "ce478cbd-0f49-4f15-8dc5-1fe1a5b39f17",
      "metadata": {
        "id": "ce478cbd-0f49-4f15-8dc5-1fe1a5b39f17",
        "colab": {
          "base_uri": "https://localhost:8080/",
          "height": 36
        },
        "outputId": "bdad89e4-d1fc-498b-874d-28d2f43dea77"
      },
      "outputs": [
        {
          "output_type": "execute_result",
          "data": {
            "text/plain": [
              "'5.13.1'"
            ],
            "application/vnd.google.colaboratory.intrinsic+json": {
              "type": "string"
            }
          },
          "metadata": {},
          "execution_count": 2
        }
      ],
      "source": [
        "import plotly\n",
        "plotly.__version__\n"
      ]
    },
    {
      "cell_type": "code",
      "execution_count": 3,
      "id": "5ba8bfd5-199a-4390-a5b4-11ec9669b3e1",
      "metadata": {
        "id": "5ba8bfd5-199a-4390-a5b4-11ec9669b3e1"
      },
      "outputs": [],
      "source": [
        "melb_df = pd.read_csv(\n",
        "    'https://cs.famaf.unc.edu.ar/~mteruel/datasets/diplodatos/melb_data.csv')\n"
      ]
    },
    {
      "cell_type": "code",
      "source": [
        "melb_df[:5]"
      ],
      "metadata": {
        "colab": {
          "base_uri": "https://localhost:8080/",
          "height": 421
        },
        "id": "fKaGLx9bCdIg",
        "outputId": "31ca5137-1bef-455a-eecd-b4f29c277ab3"
      },
      "id": "fKaGLx9bCdIg",
      "execution_count": 4,
      "outputs": [
        {
          "output_type": "execute_result",
          "data": {
            "text/plain": [
              "       Suburb           Address  Rooms Type      Price Method SellerG  \\\n",
              "0  Abbotsford      85 Turner St      2    h  1480000.0      S  Biggin   \n",
              "1  Abbotsford   25 Bloomburg St      2    h  1035000.0      S  Biggin   \n",
              "2  Abbotsford      5 Charles St      3    h  1465000.0     SP  Biggin   \n",
              "3  Abbotsford  40 Federation La      3    h   850000.0     PI  Biggin   \n",
              "4  Abbotsford       55a Park St      4    h  1600000.0     VB  Nelson   \n",
              "\n",
              "        Date  Distance  Postcode  ...  Bathroom  Car  Landsize  BuildingArea  \\\n",
              "0  3/12/2016       2.5    3067.0  ...       1.0  1.0     202.0           NaN   \n",
              "1  4/02/2016       2.5    3067.0  ...       1.0  0.0     156.0          79.0   \n",
              "2  4/03/2017       2.5    3067.0  ...       2.0  0.0     134.0         150.0   \n",
              "3  4/03/2017       2.5    3067.0  ...       2.0  1.0      94.0           NaN   \n",
              "4  4/06/2016       2.5    3067.0  ...       1.0  2.0     120.0         142.0   \n",
              "\n",
              "   YearBuilt  CouncilArea Lattitude  Longtitude             Regionname  \\\n",
              "0        NaN        Yarra  -37.7996    144.9984  Northern Metropolitan   \n",
              "1     1900.0        Yarra  -37.8079    144.9934  Northern Metropolitan   \n",
              "2     1900.0        Yarra  -37.8093    144.9944  Northern Metropolitan   \n",
              "3        NaN        Yarra  -37.7969    144.9969  Northern Metropolitan   \n",
              "4     2014.0        Yarra  -37.8072    144.9941  Northern Metropolitan   \n",
              "\n",
              "  Propertycount  \n",
              "0        4019.0  \n",
              "1        4019.0  \n",
              "2        4019.0  \n",
              "3        4019.0  \n",
              "4        4019.0  \n",
              "\n",
              "[5 rows x 21 columns]"
            ],
            "text/html": [
              "\n",
              "  <div id=\"df-7f03342d-d3fc-454a-bb47-f3b4d8adfb9c\">\n",
              "    <div class=\"colab-df-container\">\n",
              "      <div>\n",
              "<style scoped>\n",
              "    .dataframe tbody tr th:only-of-type {\n",
              "        vertical-align: middle;\n",
              "    }\n",
              "\n",
              "    .dataframe tbody tr th {\n",
              "        vertical-align: top;\n",
              "    }\n",
              "\n",
              "    .dataframe thead th {\n",
              "        text-align: right;\n",
              "    }\n",
              "</style>\n",
              "<table border=\"1\" class=\"dataframe\">\n",
              "  <thead>\n",
              "    <tr style=\"text-align: right;\">\n",
              "      <th></th>\n",
              "      <th>Suburb</th>\n",
              "      <th>Address</th>\n",
              "      <th>Rooms</th>\n",
              "      <th>Type</th>\n",
              "      <th>Price</th>\n",
              "      <th>Method</th>\n",
              "      <th>SellerG</th>\n",
              "      <th>Date</th>\n",
              "      <th>Distance</th>\n",
              "      <th>Postcode</th>\n",
              "      <th>...</th>\n",
              "      <th>Bathroom</th>\n",
              "      <th>Car</th>\n",
              "      <th>Landsize</th>\n",
              "      <th>BuildingArea</th>\n",
              "      <th>YearBuilt</th>\n",
              "      <th>CouncilArea</th>\n",
              "      <th>Lattitude</th>\n",
              "      <th>Longtitude</th>\n",
              "      <th>Regionname</th>\n",
              "      <th>Propertycount</th>\n",
              "    </tr>\n",
              "  </thead>\n",
              "  <tbody>\n",
              "    <tr>\n",
              "      <th>0</th>\n",
              "      <td>Abbotsford</td>\n",
              "      <td>85 Turner St</td>\n",
              "      <td>2</td>\n",
              "      <td>h</td>\n",
              "      <td>1480000.0</td>\n",
              "      <td>S</td>\n",
              "      <td>Biggin</td>\n",
              "      <td>3/12/2016</td>\n",
              "      <td>2.5</td>\n",
              "      <td>3067.0</td>\n",
              "      <td>...</td>\n",
              "      <td>1.0</td>\n",
              "      <td>1.0</td>\n",
              "      <td>202.0</td>\n",
              "      <td>NaN</td>\n",
              "      <td>NaN</td>\n",
              "      <td>Yarra</td>\n",
              "      <td>-37.7996</td>\n",
              "      <td>144.9984</td>\n",
              "      <td>Northern Metropolitan</td>\n",
              "      <td>4019.0</td>\n",
              "    </tr>\n",
              "    <tr>\n",
              "      <th>1</th>\n",
              "      <td>Abbotsford</td>\n",
              "      <td>25 Bloomburg St</td>\n",
              "      <td>2</td>\n",
              "      <td>h</td>\n",
              "      <td>1035000.0</td>\n",
              "      <td>S</td>\n",
              "      <td>Biggin</td>\n",
              "      <td>4/02/2016</td>\n",
              "      <td>2.5</td>\n",
              "      <td>3067.0</td>\n",
              "      <td>...</td>\n",
              "      <td>1.0</td>\n",
              "      <td>0.0</td>\n",
              "      <td>156.0</td>\n",
              "      <td>79.0</td>\n",
              "      <td>1900.0</td>\n",
              "      <td>Yarra</td>\n",
              "      <td>-37.8079</td>\n",
              "      <td>144.9934</td>\n",
              "      <td>Northern Metropolitan</td>\n",
              "      <td>4019.0</td>\n",
              "    </tr>\n",
              "    <tr>\n",
              "      <th>2</th>\n",
              "      <td>Abbotsford</td>\n",
              "      <td>5 Charles St</td>\n",
              "      <td>3</td>\n",
              "      <td>h</td>\n",
              "      <td>1465000.0</td>\n",
              "      <td>SP</td>\n",
              "      <td>Biggin</td>\n",
              "      <td>4/03/2017</td>\n",
              "      <td>2.5</td>\n",
              "      <td>3067.0</td>\n",
              "      <td>...</td>\n",
              "      <td>2.0</td>\n",
              "      <td>0.0</td>\n",
              "      <td>134.0</td>\n",
              "      <td>150.0</td>\n",
              "      <td>1900.0</td>\n",
              "      <td>Yarra</td>\n",
              "      <td>-37.8093</td>\n",
              "      <td>144.9944</td>\n",
              "      <td>Northern Metropolitan</td>\n",
              "      <td>4019.0</td>\n",
              "    </tr>\n",
              "    <tr>\n",
              "      <th>3</th>\n",
              "      <td>Abbotsford</td>\n",
              "      <td>40 Federation La</td>\n",
              "      <td>3</td>\n",
              "      <td>h</td>\n",
              "      <td>850000.0</td>\n",
              "      <td>PI</td>\n",
              "      <td>Biggin</td>\n",
              "      <td>4/03/2017</td>\n",
              "      <td>2.5</td>\n",
              "      <td>3067.0</td>\n",
              "      <td>...</td>\n",
              "      <td>2.0</td>\n",
              "      <td>1.0</td>\n",
              "      <td>94.0</td>\n",
              "      <td>NaN</td>\n",
              "      <td>NaN</td>\n",
              "      <td>Yarra</td>\n",
              "      <td>-37.7969</td>\n",
              "      <td>144.9969</td>\n",
              "      <td>Northern Metropolitan</td>\n",
              "      <td>4019.0</td>\n",
              "    </tr>\n",
              "    <tr>\n",
              "      <th>4</th>\n",
              "      <td>Abbotsford</td>\n",
              "      <td>55a Park St</td>\n",
              "      <td>4</td>\n",
              "      <td>h</td>\n",
              "      <td>1600000.0</td>\n",
              "      <td>VB</td>\n",
              "      <td>Nelson</td>\n",
              "      <td>4/06/2016</td>\n",
              "      <td>2.5</td>\n",
              "      <td>3067.0</td>\n",
              "      <td>...</td>\n",
              "      <td>1.0</td>\n",
              "      <td>2.0</td>\n",
              "      <td>120.0</td>\n",
              "      <td>142.0</td>\n",
              "      <td>2014.0</td>\n",
              "      <td>Yarra</td>\n",
              "      <td>-37.8072</td>\n",
              "      <td>144.9941</td>\n",
              "      <td>Northern Metropolitan</td>\n",
              "      <td>4019.0</td>\n",
              "    </tr>\n",
              "  </tbody>\n",
              "</table>\n",
              "<p>5 rows × 21 columns</p>\n",
              "</div>\n",
              "      <button class=\"colab-df-convert\" onclick=\"convertToInteractive('df-7f03342d-d3fc-454a-bb47-f3b4d8adfb9c')\"\n",
              "              title=\"Convert this dataframe to an interactive table.\"\n",
              "              style=\"display:none;\">\n",
              "        \n",
              "  <svg xmlns=\"http://www.w3.org/2000/svg\" height=\"24px\"viewBox=\"0 0 24 24\"\n",
              "       width=\"24px\">\n",
              "    <path d=\"M0 0h24v24H0V0z\" fill=\"none\"/>\n",
              "    <path d=\"M18.56 5.44l.94 2.06.94-2.06 2.06-.94-2.06-.94-.94-2.06-.94 2.06-2.06.94zm-11 1L8.5 8.5l.94-2.06 2.06-.94-2.06-.94L8.5 2.5l-.94 2.06-2.06.94zm10 10l.94 2.06.94-2.06 2.06-.94-2.06-.94-.94-2.06-.94 2.06-2.06.94z\"/><path d=\"M17.41 7.96l-1.37-1.37c-.4-.4-.92-.59-1.43-.59-.52 0-1.04.2-1.43.59L10.3 9.45l-7.72 7.72c-.78.78-.78 2.05 0 2.83L4 21.41c.39.39.9.59 1.41.59.51 0 1.02-.2 1.41-.59l7.78-7.78 2.81-2.81c.8-.78.8-2.07 0-2.86zM5.41 20L4 18.59l7.72-7.72 1.47 1.35L5.41 20z\"/>\n",
              "  </svg>\n",
              "      </button>\n",
              "      \n",
              "  <style>\n",
              "    .colab-df-container {\n",
              "      display:flex;\n",
              "      flex-wrap:wrap;\n",
              "      gap: 12px;\n",
              "    }\n",
              "\n",
              "    .colab-df-convert {\n",
              "      background-color: #E8F0FE;\n",
              "      border: none;\n",
              "      border-radius: 50%;\n",
              "      cursor: pointer;\n",
              "      display: none;\n",
              "      fill: #1967D2;\n",
              "      height: 32px;\n",
              "      padding: 0 0 0 0;\n",
              "      width: 32px;\n",
              "    }\n",
              "\n",
              "    .colab-df-convert:hover {\n",
              "      background-color: #E2EBFA;\n",
              "      box-shadow: 0px 1px 2px rgba(60, 64, 67, 0.3), 0px 1px 3px 1px rgba(60, 64, 67, 0.15);\n",
              "      fill: #174EA6;\n",
              "    }\n",
              "\n",
              "    [theme=dark] .colab-df-convert {\n",
              "      background-color: #3B4455;\n",
              "      fill: #D2E3FC;\n",
              "    }\n",
              "\n",
              "    [theme=dark] .colab-df-convert:hover {\n",
              "      background-color: #434B5C;\n",
              "      box-shadow: 0px 1px 3px 1px rgba(0, 0, 0, 0.15);\n",
              "      filter: drop-shadow(0px 1px 2px rgba(0, 0, 0, 0.3));\n",
              "      fill: #FFFFFF;\n",
              "    }\n",
              "  </style>\n",
              "\n",
              "      <script>\n",
              "        const buttonEl =\n",
              "          document.querySelector('#df-7f03342d-d3fc-454a-bb47-f3b4d8adfb9c button.colab-df-convert');\n",
              "        buttonEl.style.display =\n",
              "          google.colab.kernel.accessAllowed ? 'block' : 'none';\n",
              "\n",
              "        async function convertToInteractive(key) {\n",
              "          const element = document.querySelector('#df-7f03342d-d3fc-454a-bb47-f3b4d8adfb9c');\n",
              "          const dataTable =\n",
              "            await google.colab.kernel.invokeFunction('convertToInteractive',\n",
              "                                                     [key], {});\n",
              "          if (!dataTable) return;\n",
              "\n",
              "          const docLinkHtml = 'Like what you see? Visit the ' +\n",
              "            '<a target=\"_blank\" href=https://colab.research.google.com/notebooks/data_table.ipynb>data table notebook</a>'\n",
              "            + ' to learn more about interactive tables.';\n",
              "          element.innerHTML = '';\n",
              "          dataTable['output_type'] = 'display_data';\n",
              "          await google.colab.output.renderOutput(dataTable, element);\n",
              "          const docLink = document.createElement('div');\n",
              "          docLink.innerHTML = docLinkHtml;\n",
              "          element.appendChild(docLink);\n",
              "        }\n",
              "      </script>\n",
              "    </div>\n",
              "  </div>\n",
              "  "
            ]
          },
          "metadata": {},
          "execution_count": 4
        }
      ]
    },
    {
      "cell_type": "markdown",
      "id": "6cffe5bf-2498-498c-aa06-3e61422d91e6",
      "metadata": {
        "id": "6cffe5bf-2498-498c-aa06-3e61422d91e6"
      },
      "source": [
        "## Ejercicio 1 SQL: \n",
        "\n",
        "1. Crear una base de datos en SQLite utilizando la libreria [SQLalchemy](https://stackoverflow.com/questions/2268050/execute-sql-from-file-in-sqlalchemy).\n",
        "https://docs.sqlalchemy.org/en/14/core/engines.html#sqlite\n",
        "\n",
        "2. Ingestar los datos provistos en 'https://cs.famaf.unc.edu.ar/~mteruel/datasets/diplodatos/melb_data.csv' en una tabla y el dataset generado en clase con datos de airbnb y sus precios por codigo postal en otra.\n",
        "\n",
        "3. Implementar consultas en SQL que respondan con la siguiente información:\n",
        "\n",
        "    - cantidad de registros totales por ciudad.\n",
        "    - cantidad de registros totales por barrio y ciudad.\n",
        "\n",
        "4. Combinar los datasets de ambas tablas ingestadas utilizando el comando JOIN de SQL  para obtener un resultado similar a lo realizado con Pandas en clase.  \n",
        "\n"
      ]
    },
    {
      "cell_type": "markdown",
      "id": "c5468c4f-5cdf-4df4-a317-60e1fb0c00db",
      "metadata": {
        "id": "c5468c4f-5cdf-4df4-a317-60e1fb0c00db"
      },
      "source": [
        "## Ejercicio 2 - Pandas: \n",
        "\n",
        "1. Seleccionar un subconjunto de columnas que les parezcan relevantes al problema de predicción del valor de la propiedad. Justificar las columnas seleccionadas y las que no lo fueron.\n",
        " - Eliminar los valores extremos que no sean relevantes para la predicción de valores de las propiedades.\n",
        "\n",
        " \n",
        "2. Agregar información adicional respectiva al entorno de una propiedad a partir del [conjunto de datos de AirBnB](https://www.kaggle.com/tylerx/melbourne-airbnb-open-data?select=cleansed_listings_dec18.csv) utilizado en el práctico. \n",
        "  1. Seleccionar qué variables agregar y qué combinaciones aplicar a cada una. Por ejemplo, pueden utilizar solo la columna `price`, o aplicar múltiples transformaciones como la mediana o el mínimo.\n",
        "  1. Utilizar la variable zipcode para unir los conjuntos de datos. Sólo incluir los zipcodes que tengan una cantidad mínima de registros (a elección) como para que la información agregada sea relevante.\n",
        "  2. Investigar al menos otras 2 variables que puedan servir para combinar los datos, y justificar si serían adecuadas o no. Pueden asumir que cuentan con la ayuda de anotadores expertos para encontrar equivalencias entre barrios o direcciones, o que cuentan con algoritmos para encontrar las n ubicaciones más cercanas a una propiedad a partir de sus coordenadas geográficas. **NO** es necesario que realicen la implementación.\n",
        "\n",
        "Pueden leer otras columnas del conjunto de AirBnB además de las que están en `interesting_cols`, si les parecen relevantes."
      ]
    },
    {
      "cell_type": "markdown",
      "id": "c5303f27-3b15-441b-b291-8caf1c734139",
      "metadata": {
        "id": "c5303f27-3b15-441b-b291-8caf1c734139"
      },
      "source": [
        "## Ejercicio 3:\n",
        "\n",
        "Crear y guardar un nuevo conjunto de datos con todas las transformaciones realizadas anteriormente."
      ]
    },
    {
      "cell_type": "markdown",
      "id": "abfd3eeb-d466-424b-b58e-d1364ac39206",
      "metadata": {
        "id": "abfd3eeb-d466-424b-b58e-d1364ac39206"
      },
      "source": [
        "## Ejercicios opcionales:\n",
        "\n",
        "1. Armar un script en python (archivo .py) [ETL](https://towardsdatascience.com/what-to-log-from-python-etl-pipelines-9e0cfe29950e) que corra los pasos de extraccion, transformacion y carga, armando una funcion para cada etapa del proceso y luego un main que corra todos los pasos requeridos.\n",
        "\n",
        "2. Armar un DAG en Apache Airflow que corra el ETL. (https://airflow.apache.org/docs/apache-airflow/stable/tutorial.html)"
      ]
    },
    {
      "cell_type": "markdown",
      "source": [
        "**RESPUESTAS**\n",
        "\n"
      ],
      "metadata": {
        "id": "NB-StuKGvksN"
      },
      "id": "NB-StuKGvksN"
    },
    {
      "cell_type": "markdown",
      "source": [
        "Ejercicio 1) <br>\n",
        "1.   Crear una base de datos en SQLite utilizando la libreria SQLalchemy. https://docs.sqlalchemy.org/en/14/core/engines.html#sqlite\n"
      ],
      "metadata": {
        "id": "G7DYEsfTvztV"
      },
      "id": "G7DYEsfTvztV"
    },
    {
      "cell_type": "code",
      "execution_count": 5,
      "id": "5d210b95-836f-45ac-a52d-1a4dafdb447a",
      "metadata": {
        "id": "5d210b95-836f-45ac-a52d-1a4dafdb447a"
      },
      "outputs": [],
      "source": [
        "engine = create_engine('sqlite:///grupo26.sqlite3', echo=True)\n",
        "# ubic del archivo sqlite3 en '/content'"
      ]
    },
    {
      "cell_type": "markdown",
      "source": [
        "2.   Ingestar los datos provistos en 'https://cs.famaf.unc.edu.ar/~mteruel/datasets/diplodatos/melb_data.csv' en una tabla y el dataset generado en clase con datos de airbnb y sus precios por codigo postal en otra.\n",
        "\n"
      ],
      "metadata": {
        "id": "IZa4_xzHwglb"
      },
      "id": "IZa4_xzHwglb"
    },
    {
      "cell_type": "markdown",
      "source": [
        "*Usamos el dataframe original presentado en clases ya que la ultima version del dataframe no contenia los datos necesarios para realizar las consignas.*"
      ],
      "metadata": {
        "id": "F6s6k9abxAOR"
      },
      "id": "F6s6k9abxAOR"
    },
    {
      "cell_type": "code",
      "source": [
        "# melb_df es el dataframe del servidor UNC\n",
        "# airbnb_df es el dataframe generado en clases\n",
        "\n",
        "interesting_cols = [\n",
        "  'description', 'neighborhood_overview',\n",
        "  'street', 'neighborhood', 'city', 'suburb', 'state', 'zipcode',\n",
        "  'price', 'weekly_price', 'monthly_price',\n",
        "  'latitude', 'longitude',\n",
        "]\n",
        "\n",
        "airbnb_df = pd.read_csv(\n",
        "    'https://cs.famaf.unc.edu.ar/~mteruel/datasets/diplodatos/cleansed_listings_dec18.csv',\n",
        "    usecols=interesting_cols,\n",
        "    dtype='unicode')\n",
        "\n",
        "airbnb_df[:5]"
      ],
      "metadata": {
        "colab": {
          "base_uri": "https://localhost:8080/",
          "height": 530
        },
        "id": "SjIAqL4vxC0P",
        "outputId": "30834968-a71c-42be-bd4f-9e33298624ee"
      },
      "id": "SjIAqL4vxC0P",
      "execution_count": 6,
      "outputs": [
        {
          "output_type": "execute_result",
          "data": {
            "text/plain": [
              "                                         description  \\\n",
              "0  House: Clean, New, Modern, Quite, Safe. 10Km f...   \n",
              "1  A large air conditioned room with queen spring...   \n",
              "2  RIGHT IN THE HEART OF ST KILDA! It doesn't get...   \n",
              "3  Comfortable, relaxed house, a home away from  ...   \n",
              "4  We offer comfortable accommodation in Inner Me...   \n",
              "\n",
              "                               neighborhood_overview  \\\n",
              "0       Very safe! Family oriented. Older age group.   \n",
              "1  This hip area is a crossroads between two grea...   \n",
              "2  A stay at our apartment means you can enjoy so...   \n",
              "3  This is a great neighbourhood – it is quiet, y...   \n",
              "4                                                NaN   \n",
              "\n",
              "                           street   neighborhood          city  \\\n",
              "0         Bulleen, VIC, Australia   Balwyn North    Manningham   \n",
              "1  Brunswick East, VIC, Australia      Brunswick      Moreland   \n",
              "2        St Kilda, VIC, Australia       St Kilda  Port Phillip   \n",
              "3       Thornbury, VIC, Australia      Thornbury       Darebin   \n",
              "4   St Kilda East, VIC, Australia  St Kilda East  Port Phillip   \n",
              "\n",
              "           suburb state zipcode      latitude    longitude price weekly_price  \\\n",
              "0         Bulleen   VIC    3105  -37.77268393  145.0921328    60          NaN   \n",
              "1  Brunswick East   VIC    3057  -37.76650512  144.9807361    35          200   \n",
              "2        St Kilda   VIC    3182  -37.85975502  144.9773691   159         1253   \n",
              "3       Thornbury   VIC    3071  -37.75897072  144.9892279    50          250   \n",
              "4   St Kilda East   VIC    3183   -37.8645303  144.9922379    69          400   \n",
              "\n",
              "  monthly_price  \n",
              "0           NaN  \n",
              "1           803  \n",
              "2          4452  \n",
              "3           920  \n",
              "4          1900  "
            ],
            "text/html": [
              "\n",
              "  <div id=\"df-c9e45af1-0ce8-4dad-81e5-ff04e1ea1a5e\">\n",
              "    <div class=\"colab-df-container\">\n",
              "      <div>\n",
              "<style scoped>\n",
              "    .dataframe tbody tr th:only-of-type {\n",
              "        vertical-align: middle;\n",
              "    }\n",
              "\n",
              "    .dataframe tbody tr th {\n",
              "        vertical-align: top;\n",
              "    }\n",
              "\n",
              "    .dataframe thead th {\n",
              "        text-align: right;\n",
              "    }\n",
              "</style>\n",
              "<table border=\"1\" class=\"dataframe\">\n",
              "  <thead>\n",
              "    <tr style=\"text-align: right;\">\n",
              "      <th></th>\n",
              "      <th>description</th>\n",
              "      <th>neighborhood_overview</th>\n",
              "      <th>street</th>\n",
              "      <th>neighborhood</th>\n",
              "      <th>city</th>\n",
              "      <th>suburb</th>\n",
              "      <th>state</th>\n",
              "      <th>zipcode</th>\n",
              "      <th>latitude</th>\n",
              "      <th>longitude</th>\n",
              "      <th>price</th>\n",
              "      <th>weekly_price</th>\n",
              "      <th>monthly_price</th>\n",
              "    </tr>\n",
              "  </thead>\n",
              "  <tbody>\n",
              "    <tr>\n",
              "      <th>0</th>\n",
              "      <td>House: Clean, New, Modern, Quite, Safe. 10Km f...</td>\n",
              "      <td>Very safe! Family oriented. Older age group.</td>\n",
              "      <td>Bulleen, VIC, Australia</td>\n",
              "      <td>Balwyn North</td>\n",
              "      <td>Manningham</td>\n",
              "      <td>Bulleen</td>\n",
              "      <td>VIC</td>\n",
              "      <td>3105</td>\n",
              "      <td>-37.77268393</td>\n",
              "      <td>145.0921328</td>\n",
              "      <td>60</td>\n",
              "      <td>NaN</td>\n",
              "      <td>NaN</td>\n",
              "    </tr>\n",
              "    <tr>\n",
              "      <th>1</th>\n",
              "      <td>A large air conditioned room with queen spring...</td>\n",
              "      <td>This hip area is a crossroads between two grea...</td>\n",
              "      <td>Brunswick East, VIC, Australia</td>\n",
              "      <td>Brunswick</td>\n",
              "      <td>Moreland</td>\n",
              "      <td>Brunswick East</td>\n",
              "      <td>VIC</td>\n",
              "      <td>3057</td>\n",
              "      <td>-37.76650512</td>\n",
              "      <td>144.9807361</td>\n",
              "      <td>35</td>\n",
              "      <td>200</td>\n",
              "      <td>803</td>\n",
              "    </tr>\n",
              "    <tr>\n",
              "      <th>2</th>\n",
              "      <td>RIGHT IN THE HEART OF ST KILDA! It doesn't get...</td>\n",
              "      <td>A stay at our apartment means you can enjoy so...</td>\n",
              "      <td>St Kilda, VIC, Australia</td>\n",
              "      <td>St Kilda</td>\n",
              "      <td>Port Phillip</td>\n",
              "      <td>St Kilda</td>\n",
              "      <td>VIC</td>\n",
              "      <td>3182</td>\n",
              "      <td>-37.85975502</td>\n",
              "      <td>144.9773691</td>\n",
              "      <td>159</td>\n",
              "      <td>1253</td>\n",
              "      <td>4452</td>\n",
              "    </tr>\n",
              "    <tr>\n",
              "      <th>3</th>\n",
              "      <td>Comfortable, relaxed house, a home away from  ...</td>\n",
              "      <td>This is a great neighbourhood – it is quiet, y...</td>\n",
              "      <td>Thornbury, VIC, Australia</td>\n",
              "      <td>Thornbury</td>\n",
              "      <td>Darebin</td>\n",
              "      <td>Thornbury</td>\n",
              "      <td>VIC</td>\n",
              "      <td>3071</td>\n",
              "      <td>-37.75897072</td>\n",
              "      <td>144.9892279</td>\n",
              "      <td>50</td>\n",
              "      <td>250</td>\n",
              "      <td>920</td>\n",
              "    </tr>\n",
              "    <tr>\n",
              "      <th>4</th>\n",
              "      <td>We offer comfortable accommodation in Inner Me...</td>\n",
              "      <td>NaN</td>\n",
              "      <td>St Kilda East, VIC, Australia</td>\n",
              "      <td>St Kilda East</td>\n",
              "      <td>Port Phillip</td>\n",
              "      <td>St Kilda East</td>\n",
              "      <td>VIC</td>\n",
              "      <td>3183</td>\n",
              "      <td>-37.8645303</td>\n",
              "      <td>144.9922379</td>\n",
              "      <td>69</td>\n",
              "      <td>400</td>\n",
              "      <td>1900</td>\n",
              "    </tr>\n",
              "  </tbody>\n",
              "</table>\n",
              "</div>\n",
              "      <button class=\"colab-df-convert\" onclick=\"convertToInteractive('df-c9e45af1-0ce8-4dad-81e5-ff04e1ea1a5e')\"\n",
              "              title=\"Convert this dataframe to an interactive table.\"\n",
              "              style=\"display:none;\">\n",
              "        \n",
              "  <svg xmlns=\"http://www.w3.org/2000/svg\" height=\"24px\"viewBox=\"0 0 24 24\"\n",
              "       width=\"24px\">\n",
              "    <path d=\"M0 0h24v24H0V0z\" fill=\"none\"/>\n",
              "    <path d=\"M18.56 5.44l.94 2.06.94-2.06 2.06-.94-2.06-.94-.94-2.06-.94 2.06-2.06.94zm-11 1L8.5 8.5l.94-2.06 2.06-.94-2.06-.94L8.5 2.5l-.94 2.06-2.06.94zm10 10l.94 2.06.94-2.06 2.06-.94-2.06-.94-.94-2.06-.94 2.06-2.06.94z\"/><path d=\"M17.41 7.96l-1.37-1.37c-.4-.4-.92-.59-1.43-.59-.52 0-1.04.2-1.43.59L10.3 9.45l-7.72 7.72c-.78.78-.78 2.05 0 2.83L4 21.41c.39.39.9.59 1.41.59.51 0 1.02-.2 1.41-.59l7.78-7.78 2.81-2.81c.8-.78.8-2.07 0-2.86zM5.41 20L4 18.59l7.72-7.72 1.47 1.35L5.41 20z\"/>\n",
              "  </svg>\n",
              "      </button>\n",
              "      \n",
              "  <style>\n",
              "    .colab-df-container {\n",
              "      display:flex;\n",
              "      flex-wrap:wrap;\n",
              "      gap: 12px;\n",
              "    }\n",
              "\n",
              "    .colab-df-convert {\n",
              "      background-color: #E8F0FE;\n",
              "      border: none;\n",
              "      border-radius: 50%;\n",
              "      cursor: pointer;\n",
              "      display: none;\n",
              "      fill: #1967D2;\n",
              "      height: 32px;\n",
              "      padding: 0 0 0 0;\n",
              "      width: 32px;\n",
              "    }\n",
              "\n",
              "    .colab-df-convert:hover {\n",
              "      background-color: #E2EBFA;\n",
              "      box-shadow: 0px 1px 2px rgba(60, 64, 67, 0.3), 0px 1px 3px 1px rgba(60, 64, 67, 0.15);\n",
              "      fill: #174EA6;\n",
              "    }\n",
              "\n",
              "    [theme=dark] .colab-df-convert {\n",
              "      background-color: #3B4455;\n",
              "      fill: #D2E3FC;\n",
              "    }\n",
              "\n",
              "    [theme=dark] .colab-df-convert:hover {\n",
              "      background-color: #434B5C;\n",
              "      box-shadow: 0px 1px 3px 1px rgba(0, 0, 0, 0.15);\n",
              "      filter: drop-shadow(0px 1px 2px rgba(0, 0, 0, 0.3));\n",
              "      fill: #FFFFFF;\n",
              "    }\n",
              "  </style>\n",
              "\n",
              "      <script>\n",
              "        const buttonEl =\n",
              "          document.querySelector('#df-c9e45af1-0ce8-4dad-81e5-ff04e1ea1a5e button.colab-df-convert');\n",
              "        buttonEl.style.display =\n",
              "          google.colab.kernel.accessAllowed ? 'block' : 'none';\n",
              "\n",
              "        async function convertToInteractive(key) {\n",
              "          const element = document.querySelector('#df-c9e45af1-0ce8-4dad-81e5-ff04e1ea1a5e');\n",
              "          const dataTable =\n",
              "            await google.colab.kernel.invokeFunction('convertToInteractive',\n",
              "                                                     [key], {});\n",
              "          if (!dataTable) return;\n",
              "\n",
              "          const docLinkHtml = 'Like what you see? Visit the ' +\n",
              "            '<a target=\"_blank\" href=https://colab.research.google.com/notebooks/data_table.ipynb>data table notebook</a>'\n",
              "            + ' to learn more about interactive tables.';\n",
              "          element.innerHTML = '';\n",
              "          dataTable['output_type'] = 'display_data';\n",
              "          await google.colab.output.renderOutput(dataTable, element);\n",
              "          const docLink = document.createElement('div');\n",
              "          docLink.innerHTML = docLinkHtml;\n",
              "          element.appendChild(docLink);\n",
              "        }\n",
              "      </script>\n",
              "    </div>\n",
              "  </div>\n",
              "  "
            ]
          },
          "metadata": {},
          "execution_count": 6
        }
      ]
    },
    {
      "cell_type": "code",
      "source": [
        "# Datos de df unc a tabla\n",
        "melb_df.to_sql('melb_table', con=engine, if_exists=\"replace\")"
      ],
      "metadata": {
        "colab": {
          "base_uri": "https://localhost:8080/"
        },
        "id": "SiB320A0sCit",
        "outputId": "0a7c1630-5f56-49a6-9155-e5437c690573"
      },
      "id": "SiB320A0sCit",
      "execution_count": 7,
      "outputs": [
        {
          "output_type": "stream",
          "name": "stdout",
          "text": [
            "2023-06-08 23:07:48,118 INFO sqlalchemy.engine.Engine BEGIN (implicit)\n"
          ]
        },
        {
          "output_type": "stream",
          "name": "stderr",
          "text": [
            "INFO:sqlalchemy.engine.Engine:BEGIN (implicit)\n"
          ]
        },
        {
          "output_type": "stream",
          "name": "stdout",
          "text": [
            "2023-06-08 23:07:48,128 INFO sqlalchemy.engine.Engine PRAGMA main.table_info(\"melb_table\")\n"
          ]
        },
        {
          "output_type": "stream",
          "name": "stderr",
          "text": [
            "INFO:sqlalchemy.engine.Engine:PRAGMA main.table_info(\"melb_table\")\n"
          ]
        },
        {
          "output_type": "stream",
          "name": "stdout",
          "text": [
            "2023-06-08 23:07:48,133 INFO sqlalchemy.engine.Engine [raw sql] ()\n"
          ]
        },
        {
          "output_type": "stream",
          "name": "stderr",
          "text": [
            "INFO:sqlalchemy.engine.Engine:[raw sql] ()\n"
          ]
        },
        {
          "output_type": "stream",
          "name": "stdout",
          "text": [
            "2023-06-08 23:07:48,137 INFO sqlalchemy.engine.Engine PRAGMA temp.table_info(\"melb_table\")\n"
          ]
        },
        {
          "output_type": "stream",
          "name": "stderr",
          "text": [
            "INFO:sqlalchemy.engine.Engine:PRAGMA temp.table_info(\"melb_table\")\n"
          ]
        },
        {
          "output_type": "stream",
          "name": "stdout",
          "text": [
            "2023-06-08 23:07:48,140 INFO sqlalchemy.engine.Engine [raw sql] ()\n"
          ]
        },
        {
          "output_type": "stream",
          "name": "stderr",
          "text": [
            "INFO:sqlalchemy.engine.Engine:[raw sql] ()\n"
          ]
        },
        {
          "output_type": "stream",
          "name": "stdout",
          "text": [
            "2023-06-08 23:07:48,143 INFO sqlalchemy.engine.Engine ROLLBACK\n"
          ]
        },
        {
          "output_type": "stream",
          "name": "stderr",
          "text": [
            "INFO:sqlalchemy.engine.Engine:ROLLBACK\n"
          ]
        },
        {
          "output_type": "stream",
          "name": "stdout",
          "text": [
            "2023-06-08 23:07:48,151 INFO sqlalchemy.engine.Engine BEGIN (implicit)\n"
          ]
        },
        {
          "output_type": "stream",
          "name": "stderr",
          "text": [
            "INFO:sqlalchemy.engine.Engine:BEGIN (implicit)\n"
          ]
        },
        {
          "output_type": "stream",
          "name": "stdout",
          "text": [
            "2023-06-08 23:07:48,156 INFO sqlalchemy.engine.Engine \n",
            "CREATE TABLE melb_table (\n",
            "\t\"index\" BIGINT, \n",
            "\t\"Suburb\" TEXT, \n",
            "\t\"Address\" TEXT, \n",
            "\t\"Rooms\" BIGINT, \n",
            "\t\"Type\" TEXT, \n",
            "\t\"Price\" FLOAT, \n",
            "\t\"Method\" TEXT, \n",
            "\t\"SellerG\" TEXT, \n",
            "\t\"Date\" TEXT, \n",
            "\t\"Distance\" FLOAT, \n",
            "\t\"Postcode\" FLOAT, \n",
            "\t\"Bedroom2\" FLOAT, \n",
            "\t\"Bathroom\" FLOAT, \n",
            "\t\"Car\" FLOAT, \n",
            "\t\"Landsize\" FLOAT, \n",
            "\t\"BuildingArea\" FLOAT, \n",
            "\t\"YearBuilt\" FLOAT, \n",
            "\t\"CouncilArea\" TEXT, \n",
            "\t\"Lattitude\" FLOAT, \n",
            "\t\"Longtitude\" FLOAT, \n",
            "\t\"Regionname\" TEXT, \n",
            "\t\"Propertycount\" FLOAT\n",
            ")\n",
            "\n",
            "\n"
          ]
        },
        {
          "output_type": "stream",
          "name": "stderr",
          "text": [
            "INFO:sqlalchemy.engine.Engine:\n",
            "CREATE TABLE melb_table (\n",
            "\t\"index\" BIGINT, \n",
            "\t\"Suburb\" TEXT, \n",
            "\t\"Address\" TEXT, \n",
            "\t\"Rooms\" BIGINT, \n",
            "\t\"Type\" TEXT, \n",
            "\t\"Price\" FLOAT, \n",
            "\t\"Method\" TEXT, \n",
            "\t\"SellerG\" TEXT, \n",
            "\t\"Date\" TEXT, \n",
            "\t\"Distance\" FLOAT, \n",
            "\t\"Postcode\" FLOAT, \n",
            "\t\"Bedroom2\" FLOAT, \n",
            "\t\"Bathroom\" FLOAT, \n",
            "\t\"Car\" FLOAT, \n",
            "\t\"Landsize\" FLOAT, \n",
            "\t\"BuildingArea\" FLOAT, \n",
            "\t\"YearBuilt\" FLOAT, \n",
            "\t\"CouncilArea\" TEXT, \n",
            "\t\"Lattitude\" FLOAT, \n",
            "\t\"Longtitude\" FLOAT, \n",
            "\t\"Regionname\" TEXT, \n",
            "\t\"Propertycount\" FLOAT\n",
            ")\n",
            "\n",
            "\n"
          ]
        },
        {
          "output_type": "stream",
          "name": "stdout",
          "text": [
            "2023-06-08 23:07:48,158 INFO sqlalchemy.engine.Engine [no key 0.00182s] ()\n"
          ]
        },
        {
          "output_type": "stream",
          "name": "stderr",
          "text": [
            "INFO:sqlalchemy.engine.Engine:[no key 0.00182s] ()\n"
          ]
        },
        {
          "output_type": "stream",
          "name": "stdout",
          "text": [
            "2023-06-08 23:07:48,175 INFO sqlalchemy.engine.Engine CREATE INDEX ix_melb_table_index ON melb_table (\"index\")\n"
          ]
        },
        {
          "output_type": "stream",
          "name": "stderr",
          "text": [
            "INFO:sqlalchemy.engine.Engine:CREATE INDEX ix_melb_table_index ON melb_table (\"index\")\n"
          ]
        },
        {
          "output_type": "stream",
          "name": "stdout",
          "text": [
            "2023-06-08 23:07:48,179 INFO sqlalchemy.engine.Engine [no key 0.00337s] ()\n"
          ]
        },
        {
          "output_type": "stream",
          "name": "stderr",
          "text": [
            "INFO:sqlalchemy.engine.Engine:[no key 0.00337s] ()\n"
          ]
        },
        {
          "output_type": "stream",
          "name": "stdout",
          "text": [
            "2023-06-08 23:07:48,196 INFO sqlalchemy.engine.Engine COMMIT\n"
          ]
        },
        {
          "output_type": "stream",
          "name": "stderr",
          "text": [
            "INFO:sqlalchemy.engine.Engine:COMMIT\n"
          ]
        },
        {
          "output_type": "stream",
          "name": "stdout",
          "text": [
            "2023-06-08 23:07:48,307 INFO sqlalchemy.engine.Engine BEGIN (implicit)\n"
          ]
        },
        {
          "output_type": "stream",
          "name": "stderr",
          "text": [
            "INFO:sqlalchemy.engine.Engine:BEGIN (implicit)\n"
          ]
        },
        {
          "output_type": "stream",
          "name": "stdout",
          "text": [
            "2023-06-08 23:07:48,899 INFO sqlalchemy.engine.Engine INSERT INTO melb_table (\"index\", \"Suburb\", \"Address\", \"Rooms\", \"Type\", \"Price\", \"Method\", \"SellerG\", \"Date\", \"Distance\", \"Postcode\", \"Bedroom2\", \"Bathroom\", \"Car\", \"Landsize\", \"BuildingArea\", \"YearBuilt\", \"CouncilArea\", \"Lattitude\", \"Longtitude\", \"Regionname\", \"Propertycount\") VALUES (?, ?, ?, ?, ?, ?, ?, ?, ?, ?, ?, ?, ?, ?, ?, ?, ?, ?, ?, ?, ?, ?)\n"
          ]
        },
        {
          "output_type": "stream",
          "name": "stderr",
          "text": [
            "INFO:sqlalchemy.engine.Engine:INSERT INTO melb_table (\"index\", \"Suburb\", \"Address\", \"Rooms\", \"Type\", \"Price\", \"Method\", \"SellerG\", \"Date\", \"Distance\", \"Postcode\", \"Bedroom2\", \"Bathroom\", \"Car\", \"Landsize\", \"BuildingArea\", \"YearBuilt\", \"CouncilArea\", \"Lattitude\", \"Longtitude\", \"Regionname\", \"Propertycount\") VALUES (?, ?, ?, ?, ?, ?, ?, ?, ?, ?, ?, ?, ?, ?, ?, ?, ?, ?, ?, ?, ?, ?)\n"
          ]
        },
        {
          "output_type": "stream",
          "name": "stdout",
          "text": [
            "2023-06-08 23:07:48,909 INFO sqlalchemy.engine.Engine [generated in 0.49683s] [(0, 'Abbotsford', '85 Turner St', 2, 'h', 1480000.0, 'S', 'Biggin', '3/12/2016', 2.5, 3067.0, 2.0, 1.0, 1.0, 202.0, None, None, 'Yarra', -37.7996, 144.9984, 'Northern Metropolitan', 4019.0), (1, 'Abbotsford', '25 Bloomburg St', 2, 'h', 1035000.0, 'S', 'Biggin', '4/02/2016', 2.5, 3067.0, 2.0, 1.0, 0.0, 156.0, 79.0, 1900.0, 'Yarra', -37.8079, 144.9934, 'Northern Metropolitan', 4019.0), (2, 'Abbotsford', '5 Charles St', 3, 'h', 1465000.0, 'SP', 'Biggin', '4/03/2017', 2.5, 3067.0, 3.0, 2.0, 0.0, 134.0, 150.0, 1900.0, 'Yarra', -37.8093, 144.9944, 'Northern Metropolitan', 4019.0), (3, 'Abbotsford', '40 Federation La', 3, 'h', 850000.0, 'PI', 'Biggin', '4/03/2017', 2.5, 3067.0, 3.0, 2.0, 1.0, 94.0, None, None, 'Yarra', -37.7969, 144.9969, 'Northern Metropolitan', 4019.0), (4, 'Abbotsford', '55a Park St', 4, 'h', 1600000.0, 'VB', 'Nelson', '4/06/2016', 2.5, 3067.0, 3.0, 1.0, 2.0, 120.0, 142.0, 2014.0, 'Yarra', -37.8072, 144.9941, 'Northern Metropolitan', 4019.0), (5, 'Abbotsford', '129 Charles St', 2, 'h', 941000.0, 'S', 'Jellis', '7/05/2016', 2.5, 3067.0, 2.0, 1.0, 0.0, 181.0, None, None, 'Yarra', -37.8041, 144.9953, 'Northern Metropolitan', 4019.0), (6, 'Abbotsford', '124 Yarra St', 3, 'h', 1876000.0, 'S', 'Nelson', '7/05/2016', 2.5, 3067.0, 4.0, 2.0, 0.0, 245.0, 210.0, 1910.0, 'Yarra', -37.8024, 144.9993, 'Northern Metropolitan', 4019.0), (7, 'Abbotsford', '98 Charles St', 2, 'h', 1636000.0, 'S', 'Nelson', '8/10/2016', 2.5, 3067.0, 2.0, 1.0, 2.0, 256.0, 107.0, 1890.0, 'Yarra', -37.806, 144.9954, 'Northern Metropolitan', 4019.0)  ... displaying 10 of 13580 total bound parameter sets ...  (13578, 'Williamstown', '96 Verdon St', 4, 'h', 2500000.0, 'PI', 'Sweeney', '26/08/2017', 6.8, 3016.0, 4.0, 1.0, 5.0, 866.0, 157.0, 1920.0, None, -37.85908, 144.89299, 'Western Metropolitan', 6380.0), (13579, 'Yarraville', '6 Agnes St', 4, 'h', 1285000.0, 'SP', 'Village', '26/08/2017', 6.3, 3013.0, 4.0, 1.0, 1.0, 362.0, 112.0, 1920.0, None, -37.81188, 144.88449, 'Western Metropolitan', 6543.0)]\n"
          ]
        },
        {
          "output_type": "stream",
          "name": "stderr",
          "text": [
            "INFO:sqlalchemy.engine.Engine:[generated in 0.49683s] [(0, 'Abbotsford', '85 Turner St', 2, 'h', 1480000.0, 'S', 'Biggin', '3/12/2016', 2.5, 3067.0, 2.0, 1.0, 1.0, 202.0, None, None, 'Yarra', -37.7996, 144.9984, 'Northern Metropolitan', 4019.0), (1, 'Abbotsford', '25 Bloomburg St', 2, 'h', 1035000.0, 'S', 'Biggin', '4/02/2016', 2.5, 3067.0, 2.0, 1.0, 0.0, 156.0, 79.0, 1900.0, 'Yarra', -37.8079, 144.9934, 'Northern Metropolitan', 4019.0), (2, 'Abbotsford', '5 Charles St', 3, 'h', 1465000.0, 'SP', 'Biggin', '4/03/2017', 2.5, 3067.0, 3.0, 2.0, 0.0, 134.0, 150.0, 1900.0, 'Yarra', -37.8093, 144.9944, 'Northern Metropolitan', 4019.0), (3, 'Abbotsford', '40 Federation La', 3, 'h', 850000.0, 'PI', 'Biggin', '4/03/2017', 2.5, 3067.0, 3.0, 2.0, 1.0, 94.0, None, None, 'Yarra', -37.7969, 144.9969, 'Northern Metropolitan', 4019.0), (4, 'Abbotsford', '55a Park St', 4, 'h', 1600000.0, 'VB', 'Nelson', '4/06/2016', 2.5, 3067.0, 3.0, 1.0, 2.0, 120.0, 142.0, 2014.0, 'Yarra', -37.8072, 144.9941, 'Northern Metropolitan', 4019.0), (5, 'Abbotsford', '129 Charles St', 2, 'h', 941000.0, 'S', 'Jellis', '7/05/2016', 2.5, 3067.0, 2.0, 1.0, 0.0, 181.0, None, None, 'Yarra', -37.8041, 144.9953, 'Northern Metropolitan', 4019.0), (6, 'Abbotsford', '124 Yarra St', 3, 'h', 1876000.0, 'S', 'Nelson', '7/05/2016', 2.5, 3067.0, 4.0, 2.0, 0.0, 245.0, 210.0, 1910.0, 'Yarra', -37.8024, 144.9993, 'Northern Metropolitan', 4019.0), (7, 'Abbotsford', '98 Charles St', 2, 'h', 1636000.0, 'S', 'Nelson', '8/10/2016', 2.5, 3067.0, 2.0, 1.0, 2.0, 256.0, 107.0, 1890.0, 'Yarra', -37.806, 144.9954, 'Northern Metropolitan', 4019.0)  ... displaying 10 of 13580 total bound parameter sets ...  (13578, 'Williamstown', '96 Verdon St', 4, 'h', 2500000.0, 'PI', 'Sweeney', '26/08/2017', 6.8, 3016.0, 4.0, 1.0, 5.0, 866.0, 157.0, 1920.0, None, -37.85908, 144.89299, 'Western Metropolitan', 6380.0), (13579, 'Yarraville', '6 Agnes St', 4, 'h', 1285000.0, 'SP', 'Village', '26/08/2017', 6.3, 3013.0, 4.0, 1.0, 1.0, 362.0, 112.0, 1920.0, None, -37.81188, 144.88449, 'Western Metropolitan', 6543.0)]\n"
          ]
        },
        {
          "output_type": "stream",
          "name": "stdout",
          "text": [
            "2023-06-08 23:07:49,187 INFO sqlalchemy.engine.Engine COMMIT\n"
          ]
        },
        {
          "output_type": "stream",
          "name": "stderr",
          "text": [
            "INFO:sqlalchemy.engine.Engine:COMMIT\n"
          ]
        },
        {
          "output_type": "execute_result",
          "data": {
            "text/plain": [
              "13580"
            ]
          },
          "metadata": {},
          "execution_count": 7
        }
      ]
    },
    {
      "cell_type": "code",
      "source": [
        "# datos df generado en clase a tabla\n",
        "airbnb_df.to_sql('airbnb_table', con=engine, if_exists=\"replace\")"
      ],
      "metadata": {
        "colab": {
          "base_uri": "https://localhost:8080/"
        },
        "id": "EOmppJEqr-Yl",
        "outputId": "036a4113-6246-4fe8-a882-950d57be5a34"
      },
      "id": "EOmppJEqr-Yl",
      "execution_count": 8,
      "outputs": [
        {
          "output_type": "stream",
          "name": "stdout",
          "text": [
            "2023-06-08 23:07:49,246 INFO sqlalchemy.engine.Engine BEGIN (implicit)\n"
          ]
        },
        {
          "output_type": "stream",
          "name": "stderr",
          "text": [
            "INFO:sqlalchemy.engine.Engine:BEGIN (implicit)\n"
          ]
        },
        {
          "output_type": "stream",
          "name": "stdout",
          "text": [
            "2023-06-08 23:07:49,251 INFO sqlalchemy.engine.Engine PRAGMA main.table_info(\"airbnb_table\")\n"
          ]
        },
        {
          "output_type": "stream",
          "name": "stderr",
          "text": [
            "INFO:sqlalchemy.engine.Engine:PRAGMA main.table_info(\"airbnb_table\")\n"
          ]
        },
        {
          "output_type": "stream",
          "name": "stdout",
          "text": [
            "2023-06-08 23:07:49,256 INFO sqlalchemy.engine.Engine [raw sql] ()\n"
          ]
        },
        {
          "output_type": "stream",
          "name": "stderr",
          "text": [
            "INFO:sqlalchemy.engine.Engine:[raw sql] ()\n"
          ]
        },
        {
          "output_type": "stream",
          "name": "stdout",
          "text": [
            "2023-06-08 23:07:49,263 INFO sqlalchemy.engine.Engine PRAGMA temp.table_info(\"airbnb_table\")\n"
          ]
        },
        {
          "output_type": "stream",
          "name": "stderr",
          "text": [
            "INFO:sqlalchemy.engine.Engine:PRAGMA temp.table_info(\"airbnb_table\")\n"
          ]
        },
        {
          "output_type": "stream",
          "name": "stdout",
          "text": [
            "2023-06-08 23:07:49,269 INFO sqlalchemy.engine.Engine [raw sql] ()\n"
          ]
        },
        {
          "output_type": "stream",
          "name": "stderr",
          "text": [
            "INFO:sqlalchemy.engine.Engine:[raw sql] ()\n"
          ]
        },
        {
          "output_type": "stream",
          "name": "stdout",
          "text": [
            "2023-06-08 23:07:49,274 INFO sqlalchemy.engine.Engine ROLLBACK\n"
          ]
        },
        {
          "output_type": "stream",
          "name": "stderr",
          "text": [
            "INFO:sqlalchemy.engine.Engine:ROLLBACK\n"
          ]
        },
        {
          "output_type": "stream",
          "name": "stdout",
          "text": [
            "2023-06-08 23:07:49,282 INFO sqlalchemy.engine.Engine BEGIN (implicit)\n"
          ]
        },
        {
          "output_type": "stream",
          "name": "stderr",
          "text": [
            "INFO:sqlalchemy.engine.Engine:BEGIN (implicit)\n"
          ]
        },
        {
          "output_type": "stream",
          "name": "stdout",
          "text": [
            "2023-06-08 23:07:49,298 INFO sqlalchemy.engine.Engine \n",
            "CREATE TABLE airbnb_table (\n",
            "\t\"index\" BIGINT, \n",
            "\tdescription TEXT, \n",
            "\tneighborhood_overview TEXT, \n",
            "\tstreet TEXT, \n",
            "\tneighborhood TEXT, \n",
            "\tcity TEXT, \n",
            "\tsuburb TEXT, \n",
            "\tstate TEXT, \n",
            "\tzipcode TEXT, \n",
            "\tlatitude TEXT, \n",
            "\tlongitude TEXT, \n",
            "\tprice TEXT, \n",
            "\tweekly_price TEXT, \n",
            "\tmonthly_price TEXT\n",
            ")\n",
            "\n",
            "\n"
          ]
        },
        {
          "output_type": "stream",
          "name": "stderr",
          "text": [
            "INFO:sqlalchemy.engine.Engine:\n",
            "CREATE TABLE airbnb_table (\n",
            "\t\"index\" BIGINT, \n",
            "\tdescription TEXT, \n",
            "\tneighborhood_overview TEXT, \n",
            "\tstreet TEXT, \n",
            "\tneighborhood TEXT, \n",
            "\tcity TEXT, \n",
            "\tsuburb TEXT, \n",
            "\tstate TEXT, \n",
            "\tzipcode TEXT, \n",
            "\tlatitude TEXT, \n",
            "\tlongitude TEXT, \n",
            "\tprice TEXT, \n",
            "\tweekly_price TEXT, \n",
            "\tmonthly_price TEXT\n",
            ")\n",
            "\n",
            "\n"
          ]
        },
        {
          "output_type": "stream",
          "name": "stdout",
          "text": [
            "2023-06-08 23:07:49,301 INFO sqlalchemy.engine.Engine [no key 0.00246s] ()\n"
          ]
        },
        {
          "output_type": "stream",
          "name": "stderr",
          "text": [
            "INFO:sqlalchemy.engine.Engine:[no key 0.00246s] ()\n"
          ]
        },
        {
          "output_type": "stream",
          "name": "stdout",
          "text": [
            "2023-06-08 23:07:49,332 INFO sqlalchemy.engine.Engine CREATE INDEX ix_airbnb_table_index ON airbnb_table (\"index\")\n"
          ]
        },
        {
          "output_type": "stream",
          "name": "stderr",
          "text": [
            "INFO:sqlalchemy.engine.Engine:CREATE INDEX ix_airbnb_table_index ON airbnb_table (\"index\")\n"
          ]
        },
        {
          "output_type": "stream",
          "name": "stdout",
          "text": [
            "2023-06-08 23:07:49,338 INFO sqlalchemy.engine.Engine [no key 0.00563s] ()\n"
          ]
        },
        {
          "output_type": "stream",
          "name": "stderr",
          "text": [
            "INFO:sqlalchemy.engine.Engine:[no key 0.00563s] ()\n"
          ]
        },
        {
          "output_type": "stream",
          "name": "stdout",
          "text": [
            "2023-06-08 23:07:49,362 INFO sqlalchemy.engine.Engine COMMIT\n"
          ]
        },
        {
          "output_type": "stream",
          "name": "stderr",
          "text": [
            "INFO:sqlalchemy.engine.Engine:COMMIT\n"
          ]
        },
        {
          "output_type": "stream",
          "name": "stdout",
          "text": [
            "2023-06-08 23:07:49,430 INFO sqlalchemy.engine.Engine BEGIN (implicit)\n"
          ]
        },
        {
          "output_type": "stream",
          "name": "stderr",
          "text": [
            "INFO:sqlalchemy.engine.Engine:BEGIN (implicit)\n"
          ]
        },
        {
          "output_type": "stream",
          "name": "stdout",
          "text": [
            "2023-06-08 23:07:50,246 INFO sqlalchemy.engine.Engine INSERT INTO airbnb_table (\"index\", description, neighborhood_overview, street, neighborhood, city, suburb, state, zipcode, latitude, longitude, price, weekly_price, monthly_price) VALUES (?, ?, ?, ?, ?, ?, ?, ?, ?, ?, ?, ?, ?, ?)\n"
          ]
        },
        {
          "output_type": "stream",
          "name": "stderr",
          "text": [
            "INFO:sqlalchemy.engine.Engine:INSERT INTO airbnb_table (\"index\", description, neighborhood_overview, street, neighborhood, city, suburb, state, zipcode, latitude, longitude, price, weekly_price, monthly_price) VALUES (?, ?, ?, ?, ?, ?, ?, ?, ?, ?, ?, ?, ?, ?)\n"
          ]
        },
        {
          "output_type": "stream",
          "name": "stdout",
          "text": [
            "2023-06-08 23:07:50,253 INFO sqlalchemy.engine.Engine [generated in 0.71098s] [(0, 'House: Clean, New, Modern, Quite, Safe. 10Km from the City. Golf course, Tennis courts, bus stop & shops walking distance!! Rooms: Contains one queen ... (702 characters truncated) ... pproximately what your daily in and out hours might look like.  Note: There is a 5 year old fun loving dog who lives with us and is part of our famil', 'Very safe! Family oriented. Older age group.', 'Bulleen, VIC, Australia', 'Balwyn North', 'Manningham', 'Bulleen', 'VIC', '3105', '-37.77268393', '145.0921328', '60', None, None), (1, \"A large air conditioned room with queen spring mattress bed in a vintage apartment. Located right outside is a tram to the city just 19 minutes away. ... (702 characters truncated) ... ou east to Bundoora and west to Pacoevale. The Lygon Street tram line that goes past Melbourne University is 10 minutes walk west and Sydney Road and\", \"This hip area is a crossroads between two great cultural strips of inner Northern Melbourne.  Located in East Brunswick, between High St, Northcote a ... (533 characters truncated) ... re three coffee places within 50metres, and the Lomond Hotel Pub right across the road has good live music and there's also a pizza place downstairs.\", 'Brunswick East, VIC, Australia', 'Brunswick', 'Moreland', 'Brunswick East', 'VIC', '3057', '-37.76650512', '144.9807361', '35', '200', '803'), (2, 'RIGHT IN THE HEART OF ST KILDA! It doesn\\'t get more central than this! A fabulous north facing balcony apartment that offers right in the heart of t ... (703 characters truncated) ... system with iPod dock & DVD/CD player Selection of books, magazines, DVDs, CDs Glass framed console/desk with lamp Bedroom with queen bed, hotel qual', 'A stay at our apartment means you can enjoy some of Melbourne’s best restaurants, bars, cafes, shopping, dining and night life, all at your doorstep. ... (288 characters truncated) ... ith the city skyline as a stunning backdrop. Our apartment is perfectly suited to those wanting an exclusive, authentic urban residential experience.', 'St Kilda, VIC, Australia', 'St Kilda', 'Port Phillip', 'St Kilda', 'VIC', '3182', '-37.85975502', '144.9773691', '159', '1253', '4452'), (3, \"Comfortable, relaxed house, a home away from  home! This is a shared house, you will be sharing with me, plus the occasional other guest. Rooms are l ... (702 characters truncated) ... om, watch a movie, or TV, or relax in the back yard. Guest's privacy will be respected at all times. If you need information and tips on where to go,\", 'This is a great neighbourhood – it is quiet, yet close to so many things. High Street, Northcote (hip bars, cafes and craft stores) are a 10 minute walk east; Sydney Road (ethnic delights and great food) is 8 minute drive west; city is 30 minutes by tram or train.', 'Thornbury, VIC, Australia', 'Thornbury', 'Darebin', 'Thornbury', 'VIC', '3071', '-37.75897072', '144.9892279', '50', '250', '920'), (4, 'We offer comfortable accommodation in Inner Melbourne in Clement House, a two storey Victorian built in 1888. Large double bedroom with balcony, priv ... (660 characters truncated) ... n smoking house with an outside courtyard for smokers. The rate for guests that stay for a week are heavily discounted and therefore very attractive.', None, 'St Kilda East, VIC, Australia', 'St Kilda East', 'Port Phillip', 'St Kilda East', 'VIC', '3183', '-37.8645303', '144.9922379', '69', '400', '1900'), (5, 'Please note: No booking will be accepted with children under the age of 13 years.  Accommodation is non smoking in apartment & on grounds.  All visit ... (702 characters truncated) ... om, toilet & living area with stereo and 32\" LCD TV. A second bedroom (Autumn Room) is available with another Queen size bed for extra travelers if r', 'Our street is quiet & secluded but within walking distance to almost anything you need.', 'Berwick, VIC, Australia', None, 'Casey', 'Berwick', 'VIC', '3806', '-38.05725414', '145.3393561', '98', '540', None), (6, 'Easy to travel from and to the Airport; quiet and safe neighbourhood; a spacious and sunny room; backyard for sun baking; a friendly host who are eas ... (702 characters truncated) ... ovided here for your comfort is in a two bedroom unit with 100sqm backyard(my green garden). This bedroom is airy and bright with big windows. Your r', \"The neighbours are quiet and friendly,  please don't park the car on my driveway because one of our neighbours is doing shifting work as a nurse. There are plenty of space for parking in the guest parking bay and along the street for free.\", 'Reservoir, VIC, Australia', None, 'Darebin', 'Reservoir', 'VIC', '3073', '-37.69729418', '145.0008156', '50', '335', '1400'), (7, \"Comfortable and spacious room in an apartment close to the heart of Melbourne. High quality bedding and good sound proofing guarantees a good night's ... (702 characters truncated) ... take you right into the CBD, via Lonsdale Street and to Grattan Street, Melbourne University Tram 112 onto Collins Street Jolimont train station (10m\", \"MCG (15min walk) Rod Laver Arena Fitzroy Gardens Smith Street restaurants and bars (10min walk) Melbourne CBD  Parliament House St Vincent's Hospital (12min walk) The Royal Eye and Ear Hospital (11min walk) Keeping active while away: Pool Gym East Melbourne Tennis Club  Fitzroy Gardens\", 'East Melbourne, VIC, Australia', None, 'Melbourne', 'East Melbourne', 'VIC', '3002', '-37.81026723', '144.98592', '100', None, None)  ... displaying 10 of 22895 total bound parameter sets ...  (22893, \"Immaculately presented and carefully maintained executive courtyard apartment, well spaced floor plan comprises a queen-sized bedroom with large mirr ... (702 characters truncated) ... Melbourne Exhibition and Convention Centres, (The Yarra's) Southbank Promenade (boasting an array of cafes, bars, restaurants and boutiques), The Cro\", \"A plethora of Melbourne highlights are just a few minutes walk away, including Melbourne Exhibition and Convention Centres, (The Yarra's) Southbank P ... (68 characters truncated) ... s), The Crown Casino Complex (offering a further array of dining, shopping and entertainment facilities), Clarendon Street South Melbourne's shopping\", 'Southbank, VIC, Australia', 'Southbank', 'Melbourne', 'Southbank', 'VIC', '3006', '-37.8277951', '144.9549869', '130', None, None), (22894, \"An ENTIRE apartment unit ALL TO YOURSELF in Melbourne city, only a 5min walk to Melbourne Central and Queen Victoria Markets. Makes this cozy inner-c ... (702 characters truncated) ... s fully equipped and furnished  home is ready to go with: - Air Conditioning & heating  - Wireless internet (Pocket Wi-Fi) BEDROOM  - Queen sized bed\", None, 'Carlton, VIC, Australia', 'Carlton', 'Melbourne', 'Carlton', 'VIC', '3053', '-37.80518635', '144.9623991', '179', None, None)]\n"
          ]
        },
        {
          "output_type": "stream",
          "name": "stderr",
          "text": [
            "INFO:sqlalchemy.engine.Engine:[generated in 0.71098s] [(0, 'House: Clean, New, Modern, Quite, Safe. 10Km from the City. Golf course, Tennis courts, bus stop & shops walking distance!! Rooms: Contains one queen ... (702 characters truncated) ... pproximately what your daily in and out hours might look like.  Note: There is a 5 year old fun loving dog who lives with us and is part of our famil', 'Very safe! Family oriented. Older age group.', 'Bulleen, VIC, Australia', 'Balwyn North', 'Manningham', 'Bulleen', 'VIC', '3105', '-37.77268393', '145.0921328', '60', None, None), (1, \"A large air conditioned room with queen spring mattress bed in a vintage apartment. Located right outside is a tram to the city just 19 minutes away. ... (702 characters truncated) ... ou east to Bundoora and west to Pacoevale. The Lygon Street tram line that goes past Melbourne University is 10 minutes walk west and Sydney Road and\", \"This hip area is a crossroads between two great cultural strips of inner Northern Melbourne.  Located in East Brunswick, between High St, Northcote a ... (533 characters truncated) ... re three coffee places within 50metres, and the Lomond Hotel Pub right across the road has good live music and there's also a pizza place downstairs.\", 'Brunswick East, VIC, Australia', 'Brunswick', 'Moreland', 'Brunswick East', 'VIC', '3057', '-37.76650512', '144.9807361', '35', '200', '803'), (2, 'RIGHT IN THE HEART OF ST KILDA! It doesn\\'t get more central than this! A fabulous north facing balcony apartment that offers right in the heart of t ... (703 characters truncated) ... system with iPod dock & DVD/CD player Selection of books, magazines, DVDs, CDs Glass framed console/desk with lamp Bedroom with queen bed, hotel qual', 'A stay at our apartment means you can enjoy some of Melbourne’s best restaurants, bars, cafes, shopping, dining and night life, all at your doorstep. ... (288 characters truncated) ... ith the city skyline as a stunning backdrop. Our apartment is perfectly suited to those wanting an exclusive, authentic urban residential experience.', 'St Kilda, VIC, Australia', 'St Kilda', 'Port Phillip', 'St Kilda', 'VIC', '3182', '-37.85975502', '144.9773691', '159', '1253', '4452'), (3, \"Comfortable, relaxed house, a home away from  home! This is a shared house, you will be sharing with me, plus the occasional other guest. Rooms are l ... (702 characters truncated) ... om, watch a movie, or TV, or relax in the back yard. Guest's privacy will be respected at all times. If you need information and tips on where to go,\", 'This is a great neighbourhood – it is quiet, yet close to so many things. High Street, Northcote (hip bars, cafes and craft stores) are a 10 minute walk east; Sydney Road (ethnic delights and great food) is 8 minute drive west; city is 30 minutes by tram or train.', 'Thornbury, VIC, Australia', 'Thornbury', 'Darebin', 'Thornbury', 'VIC', '3071', '-37.75897072', '144.9892279', '50', '250', '920'), (4, 'We offer comfortable accommodation in Inner Melbourne in Clement House, a two storey Victorian built in 1888. Large double bedroom with balcony, priv ... (660 characters truncated) ... n smoking house with an outside courtyard for smokers. The rate for guests that stay for a week are heavily discounted and therefore very attractive.', None, 'St Kilda East, VIC, Australia', 'St Kilda East', 'Port Phillip', 'St Kilda East', 'VIC', '3183', '-37.8645303', '144.9922379', '69', '400', '1900'), (5, 'Please note: No booking will be accepted with children under the age of 13 years.  Accommodation is non smoking in apartment & on grounds.  All visit ... (702 characters truncated) ... om, toilet & living area with stereo and 32\" LCD TV. A second bedroom (Autumn Room) is available with another Queen size bed for extra travelers if r', 'Our street is quiet & secluded but within walking distance to almost anything you need.', 'Berwick, VIC, Australia', None, 'Casey', 'Berwick', 'VIC', '3806', '-38.05725414', '145.3393561', '98', '540', None), (6, 'Easy to travel from and to the Airport; quiet and safe neighbourhood; a spacious and sunny room; backyard for sun baking; a friendly host who are eas ... (702 characters truncated) ... ovided here for your comfort is in a two bedroom unit with 100sqm backyard(my green garden). This bedroom is airy and bright with big windows. Your r', \"The neighbours are quiet and friendly,  please don't park the car on my driveway because one of our neighbours is doing shifting work as a nurse. There are plenty of space for parking in the guest parking bay and along the street for free.\", 'Reservoir, VIC, Australia', None, 'Darebin', 'Reservoir', 'VIC', '3073', '-37.69729418', '145.0008156', '50', '335', '1400'), (7, \"Comfortable and spacious room in an apartment close to the heart of Melbourne. High quality bedding and good sound proofing guarantees a good night's ... (702 characters truncated) ... take you right into the CBD, via Lonsdale Street and to Grattan Street, Melbourne University Tram 112 onto Collins Street Jolimont train station (10m\", \"MCG (15min walk) Rod Laver Arena Fitzroy Gardens Smith Street restaurants and bars (10min walk) Melbourne CBD  Parliament House St Vincent's Hospital (12min walk) The Royal Eye and Ear Hospital (11min walk) Keeping active while away: Pool Gym East Melbourne Tennis Club  Fitzroy Gardens\", 'East Melbourne, VIC, Australia', None, 'Melbourne', 'East Melbourne', 'VIC', '3002', '-37.81026723', '144.98592', '100', None, None)  ... displaying 10 of 22895 total bound parameter sets ...  (22893, \"Immaculately presented and carefully maintained executive courtyard apartment, well spaced floor plan comprises a queen-sized bedroom with large mirr ... (702 characters truncated) ... Melbourne Exhibition and Convention Centres, (The Yarra's) Southbank Promenade (boasting an array of cafes, bars, restaurants and boutiques), The Cro\", \"A plethora of Melbourne highlights are just a few minutes walk away, including Melbourne Exhibition and Convention Centres, (The Yarra's) Southbank P ... (68 characters truncated) ... s), The Crown Casino Complex (offering a further array of dining, shopping and entertainment facilities), Clarendon Street South Melbourne's shopping\", 'Southbank, VIC, Australia', 'Southbank', 'Melbourne', 'Southbank', 'VIC', '3006', '-37.8277951', '144.9549869', '130', None, None), (22894, \"An ENTIRE apartment unit ALL TO YOURSELF in Melbourne city, only a 5min walk to Melbourne Central and Queen Victoria Markets. Makes this cozy inner-c ... (702 characters truncated) ... s fully equipped and furnished  home is ready to go with: - Air Conditioning & heating  - Wireless internet (Pocket Wi-Fi) BEDROOM  - Queen sized bed\", None, 'Carlton, VIC, Australia', 'Carlton', 'Melbourne', 'Carlton', 'VIC', '3053', '-37.80518635', '144.9623991', '179', None, None)]\n"
          ]
        },
        {
          "output_type": "stream",
          "name": "stdout",
          "text": [
            "2023-06-08 23:07:50,925 INFO sqlalchemy.engine.Engine COMMIT\n"
          ]
        },
        {
          "output_type": "stream",
          "name": "stderr",
          "text": [
            "INFO:sqlalchemy.engine.Engine:COMMIT\n"
          ]
        },
        {
          "output_type": "execute_result",
          "data": {
            "text/plain": [
              "22895"
            ]
          },
          "metadata": {},
          "execution_count": 8
        }
      ]
    },
    {
      "cell_type": "markdown",
      "source": [
        "\n",
        "\n",
        "3.   Implementar consultas en SQL que respondan con la siguiente información:\n",
        "\n",
        "\n",
        "*   **cantidad de registros totales por ciudad.**\n",
        "\n",
        "\n"
      ],
      "metadata": {
        "id": "927wNXTlzfhR"
      },
      "id": "927wNXTlzfhR"
    },
    {
      "cell_type": "code",
      "source": [
        "# aca tomamos la tabla con datos de airbnb\n",
        "query = \"\"\" SELECT city as ciudad, COUNT(city) as registros FROM airbnb_table GROUP BY city \"\"\"\n",
        "with engine.connect() as con:\n",
        "    rs = con.execute(text(query))\n",
        "    df_rs = pd.DataFrame(rs.fetchall())\n",
        "\n",
        "df_rs"
      ],
      "metadata": {
        "colab": {
          "base_uri": "https://localhost:8080/",
          "height": 1000
        },
        "id": "xMqIK-VKfHOr",
        "outputId": "91809ba1-d6f6-4852-dbc3-460c046de386"
      },
      "id": "xMqIK-VKfHOr",
      "execution_count": 9,
      "outputs": [
        {
          "output_type": "stream",
          "name": "stdout",
          "text": [
            "2023-06-08 23:07:51,073 INFO sqlalchemy.engine.Engine BEGIN (implicit)\n"
          ]
        },
        {
          "output_type": "stream",
          "name": "stderr",
          "text": [
            "INFO:sqlalchemy.engine.Engine:BEGIN (implicit)\n"
          ]
        },
        {
          "output_type": "stream",
          "name": "stdout",
          "text": [
            "2023-06-08 23:07:51,081 INFO sqlalchemy.engine.Engine  SELECT city as ciudad, COUNT(city) as registros FROM airbnb_table GROUP BY city \n"
          ]
        },
        {
          "output_type": "stream",
          "name": "stderr",
          "text": [
            "INFO:sqlalchemy.engine.Engine: SELECT city as ciudad, COUNT(city) as registros FROM airbnb_table GROUP BY city \n"
          ]
        },
        {
          "output_type": "stream",
          "name": "stdout",
          "text": [
            "2023-06-08 23:07:51,102 INFO sqlalchemy.engine.Engine [generated in 0.02861s] ()\n"
          ]
        },
        {
          "output_type": "stream",
          "name": "stderr",
          "text": [
            "INFO:sqlalchemy.engine.Engine:[generated in 0.02861s] ()\n"
          ]
        },
        {
          "output_type": "stream",
          "name": "stdout",
          "text": [
            "2023-06-08 23:07:51,193 INFO sqlalchemy.engine.Engine ROLLBACK\n"
          ]
        },
        {
          "output_type": "stream",
          "name": "stderr",
          "text": [
            "INFO:sqlalchemy.engine.Engine:ROLLBACK\n"
          ]
        },
        {
          "output_type": "execute_result",
          "data": {
            "text/plain": [
              "               ciudad  registros\n",
              "0             Banyule        203\n",
              "1             Bayside        375\n",
              "2          Boroondara        664\n",
              "3            Brimbank        108\n",
              "4            Cardinia        123\n",
              "5               Casey        153\n",
              "6             Darebin        698\n",
              "7           Frankston        177\n",
              "8           Glen Eira        631\n",
              "9   Greater Dandenong        147\n",
              "10        Hobsons Bay        239\n",
              "11               Hume        170\n",
              "12           Kingston        309\n",
              "13               Knox        175\n",
              "14         Manningham        313\n",
              "15        Maribyrnong        436\n",
              "16          Maroondah        115\n",
              "17          Melbourne       7368\n",
              "18             Melton         95\n",
              "19             Monash        571\n",
              "20      Moonee Valley        344\n",
              "21           Moreland        967\n",
              "22          Nillumbik         88\n",
              "23       Port Phillip       2808\n",
              "24        Stonnington       1621\n",
              "25         Whitehorse        614\n",
              "26         Whittlesea        137\n",
              "27            Wyndham        426\n",
              "28              Yarra       2049\n",
              "29       Yarra Ranges        771"
            ],
            "text/html": [
              "\n",
              "  <div id=\"df-b95f2522-b0b0-49fe-a671-6b996d3fef43\">\n",
              "    <div class=\"colab-df-container\">\n",
              "      <div>\n",
              "<style scoped>\n",
              "    .dataframe tbody tr th:only-of-type {\n",
              "        vertical-align: middle;\n",
              "    }\n",
              "\n",
              "    .dataframe tbody tr th {\n",
              "        vertical-align: top;\n",
              "    }\n",
              "\n",
              "    .dataframe thead th {\n",
              "        text-align: right;\n",
              "    }\n",
              "</style>\n",
              "<table border=\"1\" class=\"dataframe\">\n",
              "  <thead>\n",
              "    <tr style=\"text-align: right;\">\n",
              "      <th></th>\n",
              "      <th>ciudad</th>\n",
              "      <th>registros</th>\n",
              "    </tr>\n",
              "  </thead>\n",
              "  <tbody>\n",
              "    <tr>\n",
              "      <th>0</th>\n",
              "      <td>Banyule</td>\n",
              "      <td>203</td>\n",
              "    </tr>\n",
              "    <tr>\n",
              "      <th>1</th>\n",
              "      <td>Bayside</td>\n",
              "      <td>375</td>\n",
              "    </tr>\n",
              "    <tr>\n",
              "      <th>2</th>\n",
              "      <td>Boroondara</td>\n",
              "      <td>664</td>\n",
              "    </tr>\n",
              "    <tr>\n",
              "      <th>3</th>\n",
              "      <td>Brimbank</td>\n",
              "      <td>108</td>\n",
              "    </tr>\n",
              "    <tr>\n",
              "      <th>4</th>\n",
              "      <td>Cardinia</td>\n",
              "      <td>123</td>\n",
              "    </tr>\n",
              "    <tr>\n",
              "      <th>5</th>\n",
              "      <td>Casey</td>\n",
              "      <td>153</td>\n",
              "    </tr>\n",
              "    <tr>\n",
              "      <th>6</th>\n",
              "      <td>Darebin</td>\n",
              "      <td>698</td>\n",
              "    </tr>\n",
              "    <tr>\n",
              "      <th>7</th>\n",
              "      <td>Frankston</td>\n",
              "      <td>177</td>\n",
              "    </tr>\n",
              "    <tr>\n",
              "      <th>8</th>\n",
              "      <td>Glen Eira</td>\n",
              "      <td>631</td>\n",
              "    </tr>\n",
              "    <tr>\n",
              "      <th>9</th>\n",
              "      <td>Greater Dandenong</td>\n",
              "      <td>147</td>\n",
              "    </tr>\n",
              "    <tr>\n",
              "      <th>10</th>\n",
              "      <td>Hobsons Bay</td>\n",
              "      <td>239</td>\n",
              "    </tr>\n",
              "    <tr>\n",
              "      <th>11</th>\n",
              "      <td>Hume</td>\n",
              "      <td>170</td>\n",
              "    </tr>\n",
              "    <tr>\n",
              "      <th>12</th>\n",
              "      <td>Kingston</td>\n",
              "      <td>309</td>\n",
              "    </tr>\n",
              "    <tr>\n",
              "      <th>13</th>\n",
              "      <td>Knox</td>\n",
              "      <td>175</td>\n",
              "    </tr>\n",
              "    <tr>\n",
              "      <th>14</th>\n",
              "      <td>Manningham</td>\n",
              "      <td>313</td>\n",
              "    </tr>\n",
              "    <tr>\n",
              "      <th>15</th>\n",
              "      <td>Maribyrnong</td>\n",
              "      <td>436</td>\n",
              "    </tr>\n",
              "    <tr>\n",
              "      <th>16</th>\n",
              "      <td>Maroondah</td>\n",
              "      <td>115</td>\n",
              "    </tr>\n",
              "    <tr>\n",
              "      <th>17</th>\n",
              "      <td>Melbourne</td>\n",
              "      <td>7368</td>\n",
              "    </tr>\n",
              "    <tr>\n",
              "      <th>18</th>\n",
              "      <td>Melton</td>\n",
              "      <td>95</td>\n",
              "    </tr>\n",
              "    <tr>\n",
              "      <th>19</th>\n",
              "      <td>Monash</td>\n",
              "      <td>571</td>\n",
              "    </tr>\n",
              "    <tr>\n",
              "      <th>20</th>\n",
              "      <td>Moonee Valley</td>\n",
              "      <td>344</td>\n",
              "    </tr>\n",
              "    <tr>\n",
              "      <th>21</th>\n",
              "      <td>Moreland</td>\n",
              "      <td>967</td>\n",
              "    </tr>\n",
              "    <tr>\n",
              "      <th>22</th>\n",
              "      <td>Nillumbik</td>\n",
              "      <td>88</td>\n",
              "    </tr>\n",
              "    <tr>\n",
              "      <th>23</th>\n",
              "      <td>Port Phillip</td>\n",
              "      <td>2808</td>\n",
              "    </tr>\n",
              "    <tr>\n",
              "      <th>24</th>\n",
              "      <td>Stonnington</td>\n",
              "      <td>1621</td>\n",
              "    </tr>\n",
              "    <tr>\n",
              "      <th>25</th>\n",
              "      <td>Whitehorse</td>\n",
              "      <td>614</td>\n",
              "    </tr>\n",
              "    <tr>\n",
              "      <th>26</th>\n",
              "      <td>Whittlesea</td>\n",
              "      <td>137</td>\n",
              "    </tr>\n",
              "    <tr>\n",
              "      <th>27</th>\n",
              "      <td>Wyndham</td>\n",
              "      <td>426</td>\n",
              "    </tr>\n",
              "    <tr>\n",
              "      <th>28</th>\n",
              "      <td>Yarra</td>\n",
              "      <td>2049</td>\n",
              "    </tr>\n",
              "    <tr>\n",
              "      <th>29</th>\n",
              "      <td>Yarra Ranges</td>\n",
              "      <td>771</td>\n",
              "    </tr>\n",
              "  </tbody>\n",
              "</table>\n",
              "</div>\n",
              "      <button class=\"colab-df-convert\" onclick=\"convertToInteractive('df-b95f2522-b0b0-49fe-a671-6b996d3fef43')\"\n",
              "              title=\"Convert this dataframe to an interactive table.\"\n",
              "              style=\"display:none;\">\n",
              "        \n",
              "  <svg xmlns=\"http://www.w3.org/2000/svg\" height=\"24px\"viewBox=\"0 0 24 24\"\n",
              "       width=\"24px\">\n",
              "    <path d=\"M0 0h24v24H0V0z\" fill=\"none\"/>\n",
              "    <path d=\"M18.56 5.44l.94 2.06.94-2.06 2.06-.94-2.06-.94-.94-2.06-.94 2.06-2.06.94zm-11 1L8.5 8.5l.94-2.06 2.06-.94-2.06-.94L8.5 2.5l-.94 2.06-2.06.94zm10 10l.94 2.06.94-2.06 2.06-.94-2.06-.94-.94-2.06-.94 2.06-2.06.94z\"/><path d=\"M17.41 7.96l-1.37-1.37c-.4-.4-.92-.59-1.43-.59-.52 0-1.04.2-1.43.59L10.3 9.45l-7.72 7.72c-.78.78-.78 2.05 0 2.83L4 21.41c.39.39.9.59 1.41.59.51 0 1.02-.2 1.41-.59l7.78-7.78 2.81-2.81c.8-.78.8-2.07 0-2.86zM5.41 20L4 18.59l7.72-7.72 1.47 1.35L5.41 20z\"/>\n",
              "  </svg>\n",
              "      </button>\n",
              "      \n",
              "  <style>\n",
              "    .colab-df-container {\n",
              "      display:flex;\n",
              "      flex-wrap:wrap;\n",
              "      gap: 12px;\n",
              "    }\n",
              "\n",
              "    .colab-df-convert {\n",
              "      background-color: #E8F0FE;\n",
              "      border: none;\n",
              "      border-radius: 50%;\n",
              "      cursor: pointer;\n",
              "      display: none;\n",
              "      fill: #1967D2;\n",
              "      height: 32px;\n",
              "      padding: 0 0 0 0;\n",
              "      width: 32px;\n",
              "    }\n",
              "\n",
              "    .colab-df-convert:hover {\n",
              "      background-color: #E2EBFA;\n",
              "      box-shadow: 0px 1px 2px rgba(60, 64, 67, 0.3), 0px 1px 3px 1px rgba(60, 64, 67, 0.15);\n",
              "      fill: #174EA6;\n",
              "    }\n",
              "\n",
              "    [theme=dark] .colab-df-convert {\n",
              "      background-color: #3B4455;\n",
              "      fill: #D2E3FC;\n",
              "    }\n",
              "\n",
              "    [theme=dark] .colab-df-convert:hover {\n",
              "      background-color: #434B5C;\n",
              "      box-shadow: 0px 1px 3px 1px rgba(0, 0, 0, 0.15);\n",
              "      filter: drop-shadow(0px 1px 2px rgba(0, 0, 0, 0.3));\n",
              "      fill: #FFFFFF;\n",
              "    }\n",
              "  </style>\n",
              "\n",
              "      <script>\n",
              "        const buttonEl =\n",
              "          document.querySelector('#df-b95f2522-b0b0-49fe-a671-6b996d3fef43 button.colab-df-convert');\n",
              "        buttonEl.style.display =\n",
              "          google.colab.kernel.accessAllowed ? 'block' : 'none';\n",
              "\n",
              "        async function convertToInteractive(key) {\n",
              "          const element = document.querySelector('#df-b95f2522-b0b0-49fe-a671-6b996d3fef43');\n",
              "          const dataTable =\n",
              "            await google.colab.kernel.invokeFunction('convertToInteractive',\n",
              "                                                     [key], {});\n",
              "          if (!dataTable) return;\n",
              "\n",
              "          const docLinkHtml = 'Like what you see? Visit the ' +\n",
              "            '<a target=\"_blank\" href=https://colab.research.google.com/notebooks/data_table.ipynb>data table notebook</a>'\n",
              "            + ' to learn more about interactive tables.';\n",
              "          element.innerHTML = '';\n",
              "          dataTable['output_type'] = 'display_data';\n",
              "          await google.colab.output.renderOutput(dataTable, element);\n",
              "          const docLink = document.createElement('div');\n",
              "          docLink.innerHTML = docLinkHtml;\n",
              "          element.appendChild(docLink);\n",
              "        }\n",
              "      </script>\n",
              "    </div>\n",
              "  </div>\n",
              "  "
            ]
          },
          "metadata": {},
          "execution_count": 9
        }
      ]
    },
    {
      "cell_type": "markdown",
      "source": [
        "Consideramos usar el atributo **CouncilArea** como representacion de ciudad ya que nos parecia el mas representativo para ciudad. Ademas, comparando la cantidad de filas generadas al agrupar por ciudad, tenemos 30 ciudades y 32 por CouncilaArea por lo que no difieren mucho en la agrupacion. "
      ],
      "metadata": {
        "id": "aq5qu9LP0N3m"
      },
      "id": "aq5qu9LP0N3m"
    },
    {
      "cell_type": "code",
      "source": [
        " # Aca la tabla con los datos de melbourne\n",
        "query = \"\"\" SELECT CouncilArea, COUNT(CouncilArea) FROM melb_table GROUP BY CouncilArea \"\"\"\n",
        "with engine.connect() as con:\n",
        "    rows = con.execute(text(query))\n",
        "    df_rows = pd.DataFrame(rows.fetchall())\n",
        "df_rows"
      ],
      "metadata": {
        "colab": {
          "base_uri": "https://localhost:8080/",
          "height": 1000
        },
        "id": "JRB9bJhHCg9c",
        "outputId": "6b3160cd-a15f-4e04-fe92-b19121c6a5f0"
      },
      "id": "JRB9bJhHCg9c",
      "execution_count": 10,
      "outputs": [
        {
          "output_type": "stream",
          "name": "stdout",
          "text": [
            "2023-06-08 23:07:51,238 INFO sqlalchemy.engine.Engine BEGIN (implicit)\n"
          ]
        },
        {
          "output_type": "stream",
          "name": "stderr",
          "text": [
            "INFO:sqlalchemy.engine.Engine:BEGIN (implicit)\n"
          ]
        },
        {
          "output_type": "stream",
          "name": "stdout",
          "text": [
            "2023-06-08 23:07:51,247 INFO sqlalchemy.engine.Engine  SELECT CouncilArea, COUNT(CouncilArea) FROM melb_table GROUP BY CouncilArea \n"
          ]
        },
        {
          "output_type": "stream",
          "name": "stderr",
          "text": [
            "INFO:sqlalchemy.engine.Engine: SELECT CouncilArea, COUNT(CouncilArea) FROM melb_table GROUP BY CouncilArea \n"
          ]
        },
        {
          "output_type": "stream",
          "name": "stdout",
          "text": [
            "2023-06-08 23:07:51,250 INFO sqlalchemy.engine.Engine [generated in 0.01243s] ()\n"
          ]
        },
        {
          "output_type": "stream",
          "name": "stderr",
          "text": [
            "INFO:sqlalchemy.engine.Engine:[generated in 0.01243s] ()\n"
          ]
        },
        {
          "output_type": "stream",
          "name": "stdout",
          "text": [
            "2023-06-08 23:07:51,287 INFO sqlalchemy.engine.Engine ROLLBACK\n"
          ]
        },
        {
          "output_type": "stream",
          "name": "stderr",
          "text": [
            "INFO:sqlalchemy.engine.Engine:ROLLBACK\n"
          ]
        },
        {
          "output_type": "execute_result",
          "data": {
            "text/plain": [
              "          CouncilArea  COUNT(CouncilArea)\n",
              "0                None                   0\n",
              "1             Banyule                 594\n",
              "2             Bayside                 489\n",
              "3          Boroondara                1160\n",
              "4            Brimbank                 424\n",
              "5            Cardinia                   8\n",
              "6               Casey                  38\n",
              "7             Darebin                 934\n",
              "8           Frankston                  53\n",
              "9           Glen Eira                 848\n",
              "10  Greater Dandenong                  52\n",
              "11        Hobsons Bay                 434\n",
              "12               Hume                 164\n",
              "13           Kingston                 207\n",
              "14               Knox                  80\n",
              "15     Macedon Ranges                   7\n",
              "16         Manningham                 311\n",
              "17        Maribyrnong                 692\n",
              "18          Maroondah                  80\n",
              "19          Melbourne                 470\n",
              "20             Melton                  66\n",
              "21             Monash                 333\n",
              "22      Moonee Valley                 997\n",
              "23          Moorabool                   1\n",
              "24           Moreland                1163\n",
              "25          Nillumbik                  36\n",
              "26       Port Phillip                 628\n",
              "27        Stonnington                 719\n",
              "28        Unavailable                   1\n",
              "29         Whitehorse                 304\n",
              "30         Whittlesea                 167\n",
              "31            Wyndham                  86\n",
              "32              Yarra                 647\n",
              "33       Yarra Ranges                  18"
            ],
            "text/html": [
              "\n",
              "  <div id=\"df-988e9844-e2c3-44d1-bcb0-4a30f53268f5\">\n",
              "    <div class=\"colab-df-container\">\n",
              "      <div>\n",
              "<style scoped>\n",
              "    .dataframe tbody tr th:only-of-type {\n",
              "        vertical-align: middle;\n",
              "    }\n",
              "\n",
              "    .dataframe tbody tr th {\n",
              "        vertical-align: top;\n",
              "    }\n",
              "\n",
              "    .dataframe thead th {\n",
              "        text-align: right;\n",
              "    }\n",
              "</style>\n",
              "<table border=\"1\" class=\"dataframe\">\n",
              "  <thead>\n",
              "    <tr style=\"text-align: right;\">\n",
              "      <th></th>\n",
              "      <th>CouncilArea</th>\n",
              "      <th>COUNT(CouncilArea)</th>\n",
              "    </tr>\n",
              "  </thead>\n",
              "  <tbody>\n",
              "    <tr>\n",
              "      <th>0</th>\n",
              "      <td>None</td>\n",
              "      <td>0</td>\n",
              "    </tr>\n",
              "    <tr>\n",
              "      <th>1</th>\n",
              "      <td>Banyule</td>\n",
              "      <td>594</td>\n",
              "    </tr>\n",
              "    <tr>\n",
              "      <th>2</th>\n",
              "      <td>Bayside</td>\n",
              "      <td>489</td>\n",
              "    </tr>\n",
              "    <tr>\n",
              "      <th>3</th>\n",
              "      <td>Boroondara</td>\n",
              "      <td>1160</td>\n",
              "    </tr>\n",
              "    <tr>\n",
              "      <th>4</th>\n",
              "      <td>Brimbank</td>\n",
              "      <td>424</td>\n",
              "    </tr>\n",
              "    <tr>\n",
              "      <th>5</th>\n",
              "      <td>Cardinia</td>\n",
              "      <td>8</td>\n",
              "    </tr>\n",
              "    <tr>\n",
              "      <th>6</th>\n",
              "      <td>Casey</td>\n",
              "      <td>38</td>\n",
              "    </tr>\n",
              "    <tr>\n",
              "      <th>7</th>\n",
              "      <td>Darebin</td>\n",
              "      <td>934</td>\n",
              "    </tr>\n",
              "    <tr>\n",
              "      <th>8</th>\n",
              "      <td>Frankston</td>\n",
              "      <td>53</td>\n",
              "    </tr>\n",
              "    <tr>\n",
              "      <th>9</th>\n",
              "      <td>Glen Eira</td>\n",
              "      <td>848</td>\n",
              "    </tr>\n",
              "    <tr>\n",
              "      <th>10</th>\n",
              "      <td>Greater Dandenong</td>\n",
              "      <td>52</td>\n",
              "    </tr>\n",
              "    <tr>\n",
              "      <th>11</th>\n",
              "      <td>Hobsons Bay</td>\n",
              "      <td>434</td>\n",
              "    </tr>\n",
              "    <tr>\n",
              "      <th>12</th>\n",
              "      <td>Hume</td>\n",
              "      <td>164</td>\n",
              "    </tr>\n",
              "    <tr>\n",
              "      <th>13</th>\n",
              "      <td>Kingston</td>\n",
              "      <td>207</td>\n",
              "    </tr>\n",
              "    <tr>\n",
              "      <th>14</th>\n",
              "      <td>Knox</td>\n",
              "      <td>80</td>\n",
              "    </tr>\n",
              "    <tr>\n",
              "      <th>15</th>\n",
              "      <td>Macedon Ranges</td>\n",
              "      <td>7</td>\n",
              "    </tr>\n",
              "    <tr>\n",
              "      <th>16</th>\n",
              "      <td>Manningham</td>\n",
              "      <td>311</td>\n",
              "    </tr>\n",
              "    <tr>\n",
              "      <th>17</th>\n",
              "      <td>Maribyrnong</td>\n",
              "      <td>692</td>\n",
              "    </tr>\n",
              "    <tr>\n",
              "      <th>18</th>\n",
              "      <td>Maroondah</td>\n",
              "      <td>80</td>\n",
              "    </tr>\n",
              "    <tr>\n",
              "      <th>19</th>\n",
              "      <td>Melbourne</td>\n",
              "      <td>470</td>\n",
              "    </tr>\n",
              "    <tr>\n",
              "      <th>20</th>\n",
              "      <td>Melton</td>\n",
              "      <td>66</td>\n",
              "    </tr>\n",
              "    <tr>\n",
              "      <th>21</th>\n",
              "      <td>Monash</td>\n",
              "      <td>333</td>\n",
              "    </tr>\n",
              "    <tr>\n",
              "      <th>22</th>\n",
              "      <td>Moonee Valley</td>\n",
              "      <td>997</td>\n",
              "    </tr>\n",
              "    <tr>\n",
              "      <th>23</th>\n",
              "      <td>Moorabool</td>\n",
              "      <td>1</td>\n",
              "    </tr>\n",
              "    <tr>\n",
              "      <th>24</th>\n",
              "      <td>Moreland</td>\n",
              "      <td>1163</td>\n",
              "    </tr>\n",
              "    <tr>\n",
              "      <th>25</th>\n",
              "      <td>Nillumbik</td>\n",
              "      <td>36</td>\n",
              "    </tr>\n",
              "    <tr>\n",
              "      <th>26</th>\n",
              "      <td>Port Phillip</td>\n",
              "      <td>628</td>\n",
              "    </tr>\n",
              "    <tr>\n",
              "      <th>27</th>\n",
              "      <td>Stonnington</td>\n",
              "      <td>719</td>\n",
              "    </tr>\n",
              "    <tr>\n",
              "      <th>28</th>\n",
              "      <td>Unavailable</td>\n",
              "      <td>1</td>\n",
              "    </tr>\n",
              "    <tr>\n",
              "      <th>29</th>\n",
              "      <td>Whitehorse</td>\n",
              "      <td>304</td>\n",
              "    </tr>\n",
              "    <tr>\n",
              "      <th>30</th>\n",
              "      <td>Whittlesea</td>\n",
              "      <td>167</td>\n",
              "    </tr>\n",
              "    <tr>\n",
              "      <th>31</th>\n",
              "      <td>Wyndham</td>\n",
              "      <td>86</td>\n",
              "    </tr>\n",
              "    <tr>\n",
              "      <th>32</th>\n",
              "      <td>Yarra</td>\n",
              "      <td>647</td>\n",
              "    </tr>\n",
              "    <tr>\n",
              "      <th>33</th>\n",
              "      <td>Yarra Ranges</td>\n",
              "      <td>18</td>\n",
              "    </tr>\n",
              "  </tbody>\n",
              "</table>\n",
              "</div>\n",
              "      <button class=\"colab-df-convert\" onclick=\"convertToInteractive('df-988e9844-e2c3-44d1-bcb0-4a30f53268f5')\"\n",
              "              title=\"Convert this dataframe to an interactive table.\"\n",
              "              style=\"display:none;\">\n",
              "        \n",
              "  <svg xmlns=\"http://www.w3.org/2000/svg\" height=\"24px\"viewBox=\"0 0 24 24\"\n",
              "       width=\"24px\">\n",
              "    <path d=\"M0 0h24v24H0V0z\" fill=\"none\"/>\n",
              "    <path d=\"M18.56 5.44l.94 2.06.94-2.06 2.06-.94-2.06-.94-.94-2.06-.94 2.06-2.06.94zm-11 1L8.5 8.5l.94-2.06 2.06-.94-2.06-.94L8.5 2.5l-.94 2.06-2.06.94zm10 10l.94 2.06.94-2.06 2.06-.94-2.06-.94-.94-2.06-.94 2.06-2.06.94z\"/><path d=\"M17.41 7.96l-1.37-1.37c-.4-.4-.92-.59-1.43-.59-.52 0-1.04.2-1.43.59L10.3 9.45l-7.72 7.72c-.78.78-.78 2.05 0 2.83L4 21.41c.39.39.9.59 1.41.59.51 0 1.02-.2 1.41-.59l7.78-7.78 2.81-2.81c.8-.78.8-2.07 0-2.86zM5.41 20L4 18.59l7.72-7.72 1.47 1.35L5.41 20z\"/>\n",
              "  </svg>\n",
              "      </button>\n",
              "      \n",
              "  <style>\n",
              "    .colab-df-container {\n",
              "      display:flex;\n",
              "      flex-wrap:wrap;\n",
              "      gap: 12px;\n",
              "    }\n",
              "\n",
              "    .colab-df-convert {\n",
              "      background-color: #E8F0FE;\n",
              "      border: none;\n",
              "      border-radius: 50%;\n",
              "      cursor: pointer;\n",
              "      display: none;\n",
              "      fill: #1967D2;\n",
              "      height: 32px;\n",
              "      padding: 0 0 0 0;\n",
              "      width: 32px;\n",
              "    }\n",
              "\n",
              "    .colab-df-convert:hover {\n",
              "      background-color: #E2EBFA;\n",
              "      box-shadow: 0px 1px 2px rgba(60, 64, 67, 0.3), 0px 1px 3px 1px rgba(60, 64, 67, 0.15);\n",
              "      fill: #174EA6;\n",
              "    }\n",
              "\n",
              "    [theme=dark] .colab-df-convert {\n",
              "      background-color: #3B4455;\n",
              "      fill: #D2E3FC;\n",
              "    }\n",
              "\n",
              "    [theme=dark] .colab-df-convert:hover {\n",
              "      background-color: #434B5C;\n",
              "      box-shadow: 0px 1px 3px 1px rgba(0, 0, 0, 0.15);\n",
              "      filter: drop-shadow(0px 1px 2px rgba(0, 0, 0, 0.3));\n",
              "      fill: #FFFFFF;\n",
              "    }\n",
              "  </style>\n",
              "\n",
              "      <script>\n",
              "        const buttonEl =\n",
              "          document.querySelector('#df-988e9844-e2c3-44d1-bcb0-4a30f53268f5 button.colab-df-convert');\n",
              "        buttonEl.style.display =\n",
              "          google.colab.kernel.accessAllowed ? 'block' : 'none';\n",
              "\n",
              "        async function convertToInteractive(key) {\n",
              "          const element = document.querySelector('#df-988e9844-e2c3-44d1-bcb0-4a30f53268f5');\n",
              "          const dataTable =\n",
              "            await google.colab.kernel.invokeFunction('convertToInteractive',\n",
              "                                                     [key], {});\n",
              "          if (!dataTable) return;\n",
              "\n",
              "          const docLinkHtml = 'Like what you see? Visit the ' +\n",
              "            '<a target=\"_blank\" href=https://colab.research.google.com/notebooks/data_table.ipynb>data table notebook</a>'\n",
              "            + ' to learn more about interactive tables.';\n",
              "          element.innerHTML = '';\n",
              "          dataTable['output_type'] = 'display_data';\n",
              "          await google.colab.output.renderOutput(dataTable, element);\n",
              "          const docLink = document.createElement('div');\n",
              "          docLink.innerHTML = docLinkHtml;\n",
              "          element.appendChild(docLink);\n",
              "        }\n",
              "      </script>\n",
              "    </div>\n",
              "  </div>\n",
              "  "
            ]
          },
          "metadata": {},
          "execution_count": 10
        }
      ]
    },
    {
      "cell_type": "markdown",
      "source": [
        "\n",
        "\n",
        "---\n",
        "\n",
        "\n",
        "*   cantidad de registros totales por barrio y ciudad\n",
        "<br>\n"
      ],
      "metadata": {
        "id": "_JILo7i-1gjr"
      },
      "id": "_JILo7i-1gjr"
    },
    {
      "cell_type": "code",
      "source": [
        "# df melbourne\n",
        "query = \"\"\" SELECT CouncilArea, Suburb, COUNT(Suburb) FROM melb_table GROUP BY CouncilArea, Suburb \"\"\"\n",
        "with engine.connect() as con:\n",
        "    rs = con.execute(text(query))\n",
        "    df_rs = pd.DataFrame(rs.fetchall())\n",
        "\n",
        "df_rs"
      ],
      "metadata": {
        "colab": {
          "base_uri": "https://localhost:8080/",
          "height": 571
        },
        "id": "hRRFCyrXFeqm",
        "outputId": "de68a1c6-b580-4063-91e9-9e8826ce5ee3"
      },
      "id": "hRRFCyrXFeqm",
      "execution_count": 11,
      "outputs": [
        {
          "output_type": "stream",
          "name": "stdout",
          "text": [
            "2023-06-08 23:07:51,345 INFO sqlalchemy.engine.Engine BEGIN (implicit)\n"
          ]
        },
        {
          "output_type": "stream",
          "name": "stderr",
          "text": [
            "INFO:sqlalchemy.engine.Engine:BEGIN (implicit)\n"
          ]
        },
        {
          "output_type": "stream",
          "name": "stdout",
          "text": [
            "2023-06-08 23:07:51,360 INFO sqlalchemy.engine.Engine  SELECT CouncilArea, Suburb, COUNT(Suburb) FROM melb_table GROUP BY CouncilArea, Suburb \n"
          ]
        },
        {
          "output_type": "stream",
          "name": "stderr",
          "text": [
            "INFO:sqlalchemy.engine.Engine: SELECT CouncilArea, Suburb, COUNT(Suburb) FROM melb_table GROUP BY CouncilArea, Suburb \n"
          ]
        },
        {
          "output_type": "stream",
          "name": "stdout",
          "text": [
            "2023-06-08 23:07:51,377 INFO sqlalchemy.engine.Engine [generated in 0.03227s] ()\n"
          ]
        },
        {
          "output_type": "stream",
          "name": "stderr",
          "text": [
            "INFO:sqlalchemy.engine.Engine:[generated in 0.03227s] ()\n"
          ]
        },
        {
          "output_type": "stream",
          "name": "stdout",
          "text": [
            "2023-06-08 23:07:51,472 INFO sqlalchemy.engine.Engine ROLLBACK\n"
          ]
        },
        {
          "output_type": "stream",
          "name": "stderr",
          "text": [
            "INFO:sqlalchemy.engine.Engine:ROLLBACK\n"
          ]
        },
        {
          "output_type": "execute_result",
          "data": {
            "text/plain": [
              "      CouncilArea        Suburb  COUNT(Suburb)\n",
              "0            None    Abbotsford              1\n",
              "1            None    Aberfeldie              4\n",
              "2            None  Airport West              6\n",
              "3            None     Albanvale              2\n",
              "4            None   Albert Park              5\n",
              "..            ...           ...            ...\n",
              "596  Yarra Ranges   Mooroolbark              9\n",
              "597  Yarra Ranges  Mount Evelyn              1\n",
              "598  Yarra Ranges        Silvan              2\n",
              "599  Yarra Ranges         Upwey              1\n",
              "600  Yarra Ranges    Yarra Glen              1\n",
              "\n",
              "[601 rows x 3 columns]"
            ],
            "text/html": [
              "\n",
              "  <div id=\"df-cc276516-b34f-4948-8e9b-66fb5657b0b4\">\n",
              "    <div class=\"colab-df-container\">\n",
              "      <div>\n",
              "<style scoped>\n",
              "    .dataframe tbody tr th:only-of-type {\n",
              "        vertical-align: middle;\n",
              "    }\n",
              "\n",
              "    .dataframe tbody tr th {\n",
              "        vertical-align: top;\n",
              "    }\n",
              "\n",
              "    .dataframe thead th {\n",
              "        text-align: right;\n",
              "    }\n",
              "</style>\n",
              "<table border=\"1\" class=\"dataframe\">\n",
              "  <thead>\n",
              "    <tr style=\"text-align: right;\">\n",
              "      <th></th>\n",
              "      <th>CouncilArea</th>\n",
              "      <th>Suburb</th>\n",
              "      <th>COUNT(Suburb)</th>\n",
              "    </tr>\n",
              "  </thead>\n",
              "  <tbody>\n",
              "    <tr>\n",
              "      <th>0</th>\n",
              "      <td>None</td>\n",
              "      <td>Abbotsford</td>\n",
              "      <td>1</td>\n",
              "    </tr>\n",
              "    <tr>\n",
              "      <th>1</th>\n",
              "      <td>None</td>\n",
              "      <td>Aberfeldie</td>\n",
              "      <td>4</td>\n",
              "    </tr>\n",
              "    <tr>\n",
              "      <th>2</th>\n",
              "      <td>None</td>\n",
              "      <td>Airport West</td>\n",
              "      <td>6</td>\n",
              "    </tr>\n",
              "    <tr>\n",
              "      <th>3</th>\n",
              "      <td>None</td>\n",
              "      <td>Albanvale</td>\n",
              "      <td>2</td>\n",
              "    </tr>\n",
              "    <tr>\n",
              "      <th>4</th>\n",
              "      <td>None</td>\n",
              "      <td>Albert Park</td>\n",
              "      <td>5</td>\n",
              "    </tr>\n",
              "    <tr>\n",
              "      <th>...</th>\n",
              "      <td>...</td>\n",
              "      <td>...</td>\n",
              "      <td>...</td>\n",
              "    </tr>\n",
              "    <tr>\n",
              "      <th>596</th>\n",
              "      <td>Yarra Ranges</td>\n",
              "      <td>Mooroolbark</td>\n",
              "      <td>9</td>\n",
              "    </tr>\n",
              "    <tr>\n",
              "      <th>597</th>\n",
              "      <td>Yarra Ranges</td>\n",
              "      <td>Mount Evelyn</td>\n",
              "      <td>1</td>\n",
              "    </tr>\n",
              "    <tr>\n",
              "      <th>598</th>\n",
              "      <td>Yarra Ranges</td>\n",
              "      <td>Silvan</td>\n",
              "      <td>2</td>\n",
              "    </tr>\n",
              "    <tr>\n",
              "      <th>599</th>\n",
              "      <td>Yarra Ranges</td>\n",
              "      <td>Upwey</td>\n",
              "      <td>1</td>\n",
              "    </tr>\n",
              "    <tr>\n",
              "      <th>600</th>\n",
              "      <td>Yarra Ranges</td>\n",
              "      <td>Yarra Glen</td>\n",
              "      <td>1</td>\n",
              "    </tr>\n",
              "  </tbody>\n",
              "</table>\n",
              "<p>601 rows × 3 columns</p>\n",
              "</div>\n",
              "      <button class=\"colab-df-convert\" onclick=\"convertToInteractive('df-cc276516-b34f-4948-8e9b-66fb5657b0b4')\"\n",
              "              title=\"Convert this dataframe to an interactive table.\"\n",
              "              style=\"display:none;\">\n",
              "        \n",
              "  <svg xmlns=\"http://www.w3.org/2000/svg\" height=\"24px\"viewBox=\"0 0 24 24\"\n",
              "       width=\"24px\">\n",
              "    <path d=\"M0 0h24v24H0V0z\" fill=\"none\"/>\n",
              "    <path d=\"M18.56 5.44l.94 2.06.94-2.06 2.06-.94-2.06-.94-.94-2.06-.94 2.06-2.06.94zm-11 1L8.5 8.5l.94-2.06 2.06-.94-2.06-.94L8.5 2.5l-.94 2.06-2.06.94zm10 10l.94 2.06.94-2.06 2.06-.94-2.06-.94-.94-2.06-.94 2.06-2.06.94z\"/><path d=\"M17.41 7.96l-1.37-1.37c-.4-.4-.92-.59-1.43-.59-.52 0-1.04.2-1.43.59L10.3 9.45l-7.72 7.72c-.78.78-.78 2.05 0 2.83L4 21.41c.39.39.9.59 1.41.59.51 0 1.02-.2 1.41-.59l7.78-7.78 2.81-2.81c.8-.78.8-2.07 0-2.86zM5.41 20L4 18.59l7.72-7.72 1.47 1.35L5.41 20z\"/>\n",
              "  </svg>\n",
              "      </button>\n",
              "      \n",
              "  <style>\n",
              "    .colab-df-container {\n",
              "      display:flex;\n",
              "      flex-wrap:wrap;\n",
              "      gap: 12px;\n",
              "    }\n",
              "\n",
              "    .colab-df-convert {\n",
              "      background-color: #E8F0FE;\n",
              "      border: none;\n",
              "      border-radius: 50%;\n",
              "      cursor: pointer;\n",
              "      display: none;\n",
              "      fill: #1967D2;\n",
              "      height: 32px;\n",
              "      padding: 0 0 0 0;\n",
              "      width: 32px;\n",
              "    }\n",
              "\n",
              "    .colab-df-convert:hover {\n",
              "      background-color: #E2EBFA;\n",
              "      box-shadow: 0px 1px 2px rgba(60, 64, 67, 0.3), 0px 1px 3px 1px rgba(60, 64, 67, 0.15);\n",
              "      fill: #174EA6;\n",
              "    }\n",
              "\n",
              "    [theme=dark] .colab-df-convert {\n",
              "      background-color: #3B4455;\n",
              "      fill: #D2E3FC;\n",
              "    }\n",
              "\n",
              "    [theme=dark] .colab-df-convert:hover {\n",
              "      background-color: #434B5C;\n",
              "      box-shadow: 0px 1px 3px 1px rgba(0, 0, 0, 0.15);\n",
              "      filter: drop-shadow(0px 1px 2px rgba(0, 0, 0, 0.3));\n",
              "      fill: #FFFFFF;\n",
              "    }\n",
              "  </style>\n",
              "\n",
              "      <script>\n",
              "        const buttonEl =\n",
              "          document.querySelector('#df-cc276516-b34f-4948-8e9b-66fb5657b0b4 button.colab-df-convert');\n",
              "        buttonEl.style.display =\n",
              "          google.colab.kernel.accessAllowed ? 'block' : 'none';\n",
              "\n",
              "        async function convertToInteractive(key) {\n",
              "          const element = document.querySelector('#df-cc276516-b34f-4948-8e9b-66fb5657b0b4');\n",
              "          const dataTable =\n",
              "            await google.colab.kernel.invokeFunction('convertToInteractive',\n",
              "                                                     [key], {});\n",
              "          if (!dataTable) return;\n",
              "\n",
              "          const docLinkHtml = 'Like what you see? Visit the ' +\n",
              "            '<a target=\"_blank\" href=https://colab.research.google.com/notebooks/data_table.ipynb>data table notebook</a>'\n",
              "            + ' to learn more about interactive tables.';\n",
              "          element.innerHTML = '';\n",
              "          dataTable['output_type'] = 'display_data';\n",
              "          await google.colab.output.renderOutput(dataTable, element);\n",
              "          const docLink = document.createElement('div');\n",
              "          docLink.innerHTML = docLinkHtml;\n",
              "          element.appendChild(docLink);\n",
              "        }\n",
              "      </script>\n",
              "    </div>\n",
              "  </div>\n",
              "  "
            ]
          },
          "metadata": {},
          "execution_count": 11
        }
      ]
    },
    {
      "cell_type": "code",
      "source": [
        "# df airbnb\n",
        "query = \"\"\" SELECT city, suburb, COUNT(suburb) AS registros FROM airbnb_table GROUP BY city, suburb \"\"\"\n",
        "with engine.connect() as con:\n",
        "    rs = con.execute(text(query))\n",
        "    df_rs = pd.DataFrame(rs.fetchall())\n",
        "\n",
        "df_rs"
      ],
      "metadata": {
        "colab": {
          "base_uri": "https://localhost:8080/",
          "height": 571
        },
        "id": "JGPeBrALQTSn",
        "outputId": "184efd69-e397-4991-f719-69a42fea5ea9"
      },
      "id": "JGPeBrALQTSn",
      "execution_count": 12,
      "outputs": [
        {
          "output_type": "stream",
          "name": "stdout",
          "text": [
            "2023-06-08 23:07:51,534 INFO sqlalchemy.engine.Engine BEGIN (implicit)\n"
          ]
        },
        {
          "output_type": "stream",
          "name": "stderr",
          "text": [
            "INFO:sqlalchemy.engine.Engine:BEGIN (implicit)\n"
          ]
        },
        {
          "output_type": "stream",
          "name": "stdout",
          "text": [
            "2023-06-08 23:07:51,543 INFO sqlalchemy.engine.Engine  SELECT city, suburb, COUNT(suburb) AS registros FROM airbnb_table GROUP BY city, suburb \n"
          ]
        },
        {
          "output_type": "stream",
          "name": "stderr",
          "text": [
            "INFO:sqlalchemy.engine.Engine: SELECT city, suburb, COUNT(suburb) AS registros FROM airbnb_table GROUP BY city, suburb \n"
          ]
        },
        {
          "output_type": "stream",
          "name": "stdout",
          "text": [
            "2023-06-08 23:07:51,550 INFO sqlalchemy.engine.Engine [generated in 0.02323s] ()\n"
          ]
        },
        {
          "output_type": "stream",
          "name": "stderr",
          "text": [
            "INFO:sqlalchemy.engine.Engine:[generated in 0.02323s] ()\n"
          ]
        },
        {
          "output_type": "stream",
          "name": "stdout",
          "text": [
            "2023-06-08 23:07:51,673 INFO sqlalchemy.engine.Engine ROLLBACK\n"
          ]
        },
        {
          "output_type": "stream",
          "name": "stderr",
          "text": [
            "INFO:sqlalchemy.engine.Engine:ROLLBACK\n"
          ]
        },
        {
          "output_type": "execute_result",
          "data": {
            "text/plain": [
              "             city                                 suburb  registros\n",
              "0         Banyule                              Bellfield          2\n",
              "1         Banyule                             Briar Hill          1\n",
              "2         Banyule                               Bundoora         23\n",
              "3         Banyule                              Eaglemont          5\n",
              "4         Banyule                          Greensborough          8\n",
              "..            ...                                    ...        ...\n",
              "687  Yarra Ranges                     Yarra Ranges Shire          1\n",
              "688  Yarra Ranges  Yarra Valley, Yarra Glen, Healesville          1\n",
              "689  Yarra Ranges                              Yellingbo          3\n",
              "690  Yarra Ranges                Yellingbo, Yarra Valley          1\n",
              "691  Yarra Ranges                                 Yering          2\n",
              "\n",
              "[692 rows x 3 columns]"
            ],
            "text/html": [
              "\n",
              "  <div id=\"df-aae2c2fd-e97e-4f9a-935b-5e3bb2624712\">\n",
              "    <div class=\"colab-df-container\">\n",
              "      <div>\n",
              "<style scoped>\n",
              "    .dataframe tbody tr th:only-of-type {\n",
              "        vertical-align: middle;\n",
              "    }\n",
              "\n",
              "    .dataframe tbody tr th {\n",
              "        vertical-align: top;\n",
              "    }\n",
              "\n",
              "    .dataframe thead th {\n",
              "        text-align: right;\n",
              "    }\n",
              "</style>\n",
              "<table border=\"1\" class=\"dataframe\">\n",
              "  <thead>\n",
              "    <tr style=\"text-align: right;\">\n",
              "      <th></th>\n",
              "      <th>city</th>\n",
              "      <th>suburb</th>\n",
              "      <th>registros</th>\n",
              "    </tr>\n",
              "  </thead>\n",
              "  <tbody>\n",
              "    <tr>\n",
              "      <th>0</th>\n",
              "      <td>Banyule</td>\n",
              "      <td>Bellfield</td>\n",
              "      <td>2</td>\n",
              "    </tr>\n",
              "    <tr>\n",
              "      <th>1</th>\n",
              "      <td>Banyule</td>\n",
              "      <td>Briar Hill</td>\n",
              "      <td>1</td>\n",
              "    </tr>\n",
              "    <tr>\n",
              "      <th>2</th>\n",
              "      <td>Banyule</td>\n",
              "      <td>Bundoora</td>\n",
              "      <td>23</td>\n",
              "    </tr>\n",
              "    <tr>\n",
              "      <th>3</th>\n",
              "      <td>Banyule</td>\n",
              "      <td>Eaglemont</td>\n",
              "      <td>5</td>\n",
              "    </tr>\n",
              "    <tr>\n",
              "      <th>4</th>\n",
              "      <td>Banyule</td>\n",
              "      <td>Greensborough</td>\n",
              "      <td>8</td>\n",
              "    </tr>\n",
              "    <tr>\n",
              "      <th>...</th>\n",
              "      <td>...</td>\n",
              "      <td>...</td>\n",
              "      <td>...</td>\n",
              "    </tr>\n",
              "    <tr>\n",
              "      <th>687</th>\n",
              "      <td>Yarra Ranges</td>\n",
              "      <td>Yarra Ranges Shire</td>\n",
              "      <td>1</td>\n",
              "    </tr>\n",
              "    <tr>\n",
              "      <th>688</th>\n",
              "      <td>Yarra Ranges</td>\n",
              "      <td>Yarra Valley, Yarra Glen, Healesville</td>\n",
              "      <td>1</td>\n",
              "    </tr>\n",
              "    <tr>\n",
              "      <th>689</th>\n",
              "      <td>Yarra Ranges</td>\n",
              "      <td>Yellingbo</td>\n",
              "      <td>3</td>\n",
              "    </tr>\n",
              "    <tr>\n",
              "      <th>690</th>\n",
              "      <td>Yarra Ranges</td>\n",
              "      <td>Yellingbo, Yarra Valley</td>\n",
              "      <td>1</td>\n",
              "    </tr>\n",
              "    <tr>\n",
              "      <th>691</th>\n",
              "      <td>Yarra Ranges</td>\n",
              "      <td>Yering</td>\n",
              "      <td>2</td>\n",
              "    </tr>\n",
              "  </tbody>\n",
              "</table>\n",
              "<p>692 rows × 3 columns</p>\n",
              "</div>\n",
              "      <button class=\"colab-df-convert\" onclick=\"convertToInteractive('df-aae2c2fd-e97e-4f9a-935b-5e3bb2624712')\"\n",
              "              title=\"Convert this dataframe to an interactive table.\"\n",
              "              style=\"display:none;\">\n",
              "        \n",
              "  <svg xmlns=\"http://www.w3.org/2000/svg\" height=\"24px\"viewBox=\"0 0 24 24\"\n",
              "       width=\"24px\">\n",
              "    <path d=\"M0 0h24v24H0V0z\" fill=\"none\"/>\n",
              "    <path d=\"M18.56 5.44l.94 2.06.94-2.06 2.06-.94-2.06-.94-.94-2.06-.94 2.06-2.06.94zm-11 1L8.5 8.5l.94-2.06 2.06-.94-2.06-.94L8.5 2.5l-.94 2.06-2.06.94zm10 10l.94 2.06.94-2.06 2.06-.94-2.06-.94-.94-2.06-.94 2.06-2.06.94z\"/><path d=\"M17.41 7.96l-1.37-1.37c-.4-.4-.92-.59-1.43-.59-.52 0-1.04.2-1.43.59L10.3 9.45l-7.72 7.72c-.78.78-.78 2.05 0 2.83L4 21.41c.39.39.9.59 1.41.59.51 0 1.02-.2 1.41-.59l7.78-7.78 2.81-2.81c.8-.78.8-2.07 0-2.86zM5.41 20L4 18.59l7.72-7.72 1.47 1.35L5.41 20z\"/>\n",
              "  </svg>\n",
              "      </button>\n",
              "      \n",
              "  <style>\n",
              "    .colab-df-container {\n",
              "      display:flex;\n",
              "      flex-wrap:wrap;\n",
              "      gap: 12px;\n",
              "    }\n",
              "\n",
              "    .colab-df-convert {\n",
              "      background-color: #E8F0FE;\n",
              "      border: none;\n",
              "      border-radius: 50%;\n",
              "      cursor: pointer;\n",
              "      display: none;\n",
              "      fill: #1967D2;\n",
              "      height: 32px;\n",
              "      padding: 0 0 0 0;\n",
              "      width: 32px;\n",
              "    }\n",
              "\n",
              "    .colab-df-convert:hover {\n",
              "      background-color: #E2EBFA;\n",
              "      box-shadow: 0px 1px 2px rgba(60, 64, 67, 0.3), 0px 1px 3px 1px rgba(60, 64, 67, 0.15);\n",
              "      fill: #174EA6;\n",
              "    }\n",
              "\n",
              "    [theme=dark] .colab-df-convert {\n",
              "      background-color: #3B4455;\n",
              "      fill: #D2E3FC;\n",
              "    }\n",
              "\n",
              "    [theme=dark] .colab-df-convert:hover {\n",
              "      background-color: #434B5C;\n",
              "      box-shadow: 0px 1px 3px 1px rgba(0, 0, 0, 0.15);\n",
              "      filter: drop-shadow(0px 1px 2px rgba(0, 0, 0, 0.3));\n",
              "      fill: #FFFFFF;\n",
              "    }\n",
              "  </style>\n",
              "\n",
              "      <script>\n",
              "        const buttonEl =\n",
              "          document.querySelector('#df-aae2c2fd-e97e-4f9a-935b-5e3bb2624712 button.colab-df-convert');\n",
              "        buttonEl.style.display =\n",
              "          google.colab.kernel.accessAllowed ? 'block' : 'none';\n",
              "\n",
              "        async function convertToInteractive(key) {\n",
              "          const element = document.querySelector('#df-aae2c2fd-e97e-4f9a-935b-5e3bb2624712');\n",
              "          const dataTable =\n",
              "            await google.colab.kernel.invokeFunction('convertToInteractive',\n",
              "                                                     [key], {});\n",
              "          if (!dataTable) return;\n",
              "\n",
              "          const docLinkHtml = 'Like what you see? Visit the ' +\n",
              "            '<a target=\"_blank\" href=https://colab.research.google.com/notebooks/data_table.ipynb>data table notebook</a>'\n",
              "            + ' to learn more about interactive tables.';\n",
              "          element.innerHTML = '';\n",
              "          dataTable['output_type'] = 'display_data';\n",
              "          await google.colab.output.renderOutput(dataTable, element);\n",
              "          const docLink = document.createElement('div');\n",
              "          docLink.innerHTML = docLinkHtml;\n",
              "          element.appendChild(docLink);\n",
              "        }\n",
              "      </script>\n",
              "    </div>\n",
              "  </div>\n",
              "  "
            ]
          },
          "metadata": {},
          "execution_count": 12
        }
      ]
    },
    {
      "cell_type": "markdown",
      "source": [
        "\n",
        "\n",
        "4.   Combinar los datasets de ambas tablas ingestadas utilizando el comando JOIN de SQL para obtener un resultado similar a lo realizado con Pandas en clase.\n",
        "\n"
      ],
      "metadata": {
        "id": "ywHBYUTe3jnF"
      },
      "id": "ywHBYUTe3jnF"
    },
    {
      "cell_type": "code",
      "source": [
        "query = \"\"\"SELECT melb_table.CouncilArea, melb_table.Lattitude, melb_table.Longtitude, melb_table.Regionname, melb_table.Propertycount, \n",
        "airbnb_table.zipcode, airbnb_table.price_mean, airbnb_table.count, airbnb_table.weekly_mean, airbnb_table.monthly_mean, airbnb_table.zip\n",
        "FROM melb_table\n",
        "LEFT JOIN (SELECT zipcode, AVG(price) AS price_mean, COUNT(price) AS count, AVG(weekly_price) AS weekly_mean, \n",
        "AVG(monthly_price) AS monthly_mean, cast(zipcode as int) AS zip \n",
        "FROM airbnb_table \n",
        "WHERE zip IS NOT NULL \n",
        "GROUP BY zip) AS airbnb_table \n",
        "ON melb_table.Postcode = airbnb_table.zip\n",
        ";\"\"\"\n",
        "\n",
        "with engine.connect() as con:\n",
        "    rs = con.execute(text(query))\n",
        "    df_rs_2 = pd.DataFrame(rs.fetchall())\n",
        "\n",
        "df_rs_2[:5]"
      ],
      "metadata": {
        "colab": {
          "base_uri": "https://localhost:8080/",
          "height": 706
        },
        "id": "-ZT_GoG7vgbu",
        "outputId": "b8e82ff2-d661-42dc-ae7e-45bb1d54e350"
      },
      "id": "-ZT_GoG7vgbu",
      "execution_count": 13,
      "outputs": [
        {
          "output_type": "stream",
          "name": "stdout",
          "text": [
            "2023-06-08 23:07:51,724 INFO sqlalchemy.engine.Engine BEGIN (implicit)\n"
          ]
        },
        {
          "output_type": "stream",
          "name": "stderr",
          "text": [
            "INFO:sqlalchemy.engine.Engine:BEGIN (implicit)\n"
          ]
        },
        {
          "output_type": "stream",
          "name": "stdout",
          "text": [
            "2023-06-08 23:07:51,735 INFO sqlalchemy.engine.Engine SELECT melb_table.CouncilArea, melb_table.Lattitude, melb_table.Longtitude, melb_table.Regionname, melb_table.Propertycount, \n",
            "airbnb_table.zipcode, airbnb_table.price_mean, airbnb_table.count, airbnb_table.weekly_mean, airbnb_table.monthly_mean, airbnb_table.zip\n",
            "FROM melb_table\n",
            "LEFT JOIN (SELECT zipcode, AVG(price) AS price_mean, COUNT(price) AS count, AVG(weekly_price) AS weekly_mean, \n",
            "AVG(monthly_price) AS monthly_mean, cast(zipcode as int) AS zip \n",
            "FROM airbnb_table \n",
            "WHERE zip IS NOT NULL \n",
            "GROUP BY zip) AS airbnb_table \n",
            "ON melb_table.Postcode = airbnb_table.zip\n",
            ";\n"
          ]
        },
        {
          "output_type": "stream",
          "name": "stderr",
          "text": [
            "INFO:sqlalchemy.engine.Engine:SELECT melb_table.CouncilArea, melb_table.Lattitude, melb_table.Longtitude, melb_table.Regionname, melb_table.Propertycount, \n",
            "airbnb_table.zipcode, airbnb_table.price_mean, airbnb_table.count, airbnb_table.weekly_mean, airbnb_table.monthly_mean, airbnb_table.zip\n",
            "FROM melb_table\n",
            "LEFT JOIN (SELECT zipcode, AVG(price) AS price_mean, COUNT(price) AS count, AVG(weekly_price) AS weekly_mean, \n",
            "AVG(monthly_price) AS monthly_mean, cast(zipcode as int) AS zip \n",
            "FROM airbnb_table \n",
            "WHERE zip IS NOT NULL \n",
            "GROUP BY zip) AS airbnb_table \n",
            "ON melb_table.Postcode = airbnb_table.zip\n",
            ";\n"
          ]
        },
        {
          "output_type": "stream",
          "name": "stdout",
          "text": [
            "2023-06-08 23:07:51,743 INFO sqlalchemy.engine.Engine [generated in 0.01856s] ()\n"
          ]
        },
        {
          "output_type": "stream",
          "name": "stderr",
          "text": [
            "INFO:sqlalchemy.engine.Engine:[generated in 0.01856s] ()\n"
          ]
        },
        {
          "output_type": "stream",
          "name": "stdout",
          "text": [
            "2023-06-08 23:07:52,080 INFO sqlalchemy.engine.Engine ROLLBACK\n"
          ]
        },
        {
          "output_type": "stream",
          "name": "stderr",
          "text": [
            "INFO:sqlalchemy.engine.Engine:ROLLBACK\n"
          ]
        },
        {
          "output_type": "execute_result",
          "data": {
            "text/plain": [
              "  CouncilArea  Lattitude  Longtitude             Regionname  Propertycount  \\\n",
              "0       Yarra   -37.7996    144.9984  Northern Metropolitan         4019.0   \n",
              "1       Yarra   -37.8079    144.9934  Northern Metropolitan         4019.0   \n",
              "2       Yarra   -37.8093    144.9944  Northern Metropolitan         4019.0   \n",
              "3       Yarra   -37.7969    144.9969  Northern Metropolitan         4019.0   \n",
              "4       Yarra   -37.8072    144.9941  Northern Metropolitan         4019.0   \n",
              "\n",
              "  zipcode  price_mean  count  weekly_mean  monthly_mean     zip  \n",
              "0    3067  130.624031  258.0   605.152174   2187.032258  3067.0  \n",
              "1    3067  130.624031  258.0   605.152174   2187.032258  3067.0  \n",
              "2    3067  130.624031  258.0   605.152174   2187.032258  3067.0  \n",
              "3    3067  130.624031  258.0   605.152174   2187.032258  3067.0  \n",
              "4    3067  130.624031  258.0   605.152174   2187.032258  3067.0  "
            ],
            "text/html": [
              "\n",
              "  <div id=\"df-d6175edc-bc4a-44cd-a8e3-cb24fcbca2b9\">\n",
              "    <div class=\"colab-df-container\">\n",
              "      <div>\n",
              "<style scoped>\n",
              "    .dataframe tbody tr th:only-of-type {\n",
              "        vertical-align: middle;\n",
              "    }\n",
              "\n",
              "    .dataframe tbody tr th {\n",
              "        vertical-align: top;\n",
              "    }\n",
              "\n",
              "    .dataframe thead th {\n",
              "        text-align: right;\n",
              "    }\n",
              "</style>\n",
              "<table border=\"1\" class=\"dataframe\">\n",
              "  <thead>\n",
              "    <tr style=\"text-align: right;\">\n",
              "      <th></th>\n",
              "      <th>CouncilArea</th>\n",
              "      <th>Lattitude</th>\n",
              "      <th>Longtitude</th>\n",
              "      <th>Regionname</th>\n",
              "      <th>Propertycount</th>\n",
              "      <th>zipcode</th>\n",
              "      <th>price_mean</th>\n",
              "      <th>count</th>\n",
              "      <th>weekly_mean</th>\n",
              "      <th>monthly_mean</th>\n",
              "      <th>zip</th>\n",
              "    </tr>\n",
              "  </thead>\n",
              "  <tbody>\n",
              "    <tr>\n",
              "      <th>0</th>\n",
              "      <td>Yarra</td>\n",
              "      <td>-37.7996</td>\n",
              "      <td>144.9984</td>\n",
              "      <td>Northern Metropolitan</td>\n",
              "      <td>4019.0</td>\n",
              "      <td>3067</td>\n",
              "      <td>130.624031</td>\n",
              "      <td>258.0</td>\n",
              "      <td>605.152174</td>\n",
              "      <td>2187.032258</td>\n",
              "      <td>3067.0</td>\n",
              "    </tr>\n",
              "    <tr>\n",
              "      <th>1</th>\n",
              "      <td>Yarra</td>\n",
              "      <td>-37.8079</td>\n",
              "      <td>144.9934</td>\n",
              "      <td>Northern Metropolitan</td>\n",
              "      <td>4019.0</td>\n",
              "      <td>3067</td>\n",
              "      <td>130.624031</td>\n",
              "      <td>258.0</td>\n",
              "      <td>605.152174</td>\n",
              "      <td>2187.032258</td>\n",
              "      <td>3067.0</td>\n",
              "    </tr>\n",
              "    <tr>\n",
              "      <th>2</th>\n",
              "      <td>Yarra</td>\n",
              "      <td>-37.8093</td>\n",
              "      <td>144.9944</td>\n",
              "      <td>Northern Metropolitan</td>\n",
              "      <td>4019.0</td>\n",
              "      <td>3067</td>\n",
              "      <td>130.624031</td>\n",
              "      <td>258.0</td>\n",
              "      <td>605.152174</td>\n",
              "      <td>2187.032258</td>\n",
              "      <td>3067.0</td>\n",
              "    </tr>\n",
              "    <tr>\n",
              "      <th>3</th>\n",
              "      <td>Yarra</td>\n",
              "      <td>-37.7969</td>\n",
              "      <td>144.9969</td>\n",
              "      <td>Northern Metropolitan</td>\n",
              "      <td>4019.0</td>\n",
              "      <td>3067</td>\n",
              "      <td>130.624031</td>\n",
              "      <td>258.0</td>\n",
              "      <td>605.152174</td>\n",
              "      <td>2187.032258</td>\n",
              "      <td>3067.0</td>\n",
              "    </tr>\n",
              "    <tr>\n",
              "      <th>4</th>\n",
              "      <td>Yarra</td>\n",
              "      <td>-37.8072</td>\n",
              "      <td>144.9941</td>\n",
              "      <td>Northern Metropolitan</td>\n",
              "      <td>4019.0</td>\n",
              "      <td>3067</td>\n",
              "      <td>130.624031</td>\n",
              "      <td>258.0</td>\n",
              "      <td>605.152174</td>\n",
              "      <td>2187.032258</td>\n",
              "      <td>3067.0</td>\n",
              "    </tr>\n",
              "  </tbody>\n",
              "</table>\n",
              "</div>\n",
              "      <button class=\"colab-df-convert\" onclick=\"convertToInteractive('df-d6175edc-bc4a-44cd-a8e3-cb24fcbca2b9')\"\n",
              "              title=\"Convert this dataframe to an interactive table.\"\n",
              "              style=\"display:none;\">\n",
              "        \n",
              "  <svg xmlns=\"http://www.w3.org/2000/svg\" height=\"24px\"viewBox=\"0 0 24 24\"\n",
              "       width=\"24px\">\n",
              "    <path d=\"M0 0h24v24H0V0z\" fill=\"none\"/>\n",
              "    <path d=\"M18.56 5.44l.94 2.06.94-2.06 2.06-.94-2.06-.94-.94-2.06-.94 2.06-2.06.94zm-11 1L8.5 8.5l.94-2.06 2.06-.94-2.06-.94L8.5 2.5l-.94 2.06-2.06.94zm10 10l.94 2.06.94-2.06 2.06-.94-2.06-.94-.94-2.06-.94 2.06-2.06.94z\"/><path d=\"M17.41 7.96l-1.37-1.37c-.4-.4-.92-.59-1.43-.59-.52 0-1.04.2-1.43.59L10.3 9.45l-7.72 7.72c-.78.78-.78 2.05 0 2.83L4 21.41c.39.39.9.59 1.41.59.51 0 1.02-.2 1.41-.59l7.78-7.78 2.81-2.81c.8-.78.8-2.07 0-2.86zM5.41 20L4 18.59l7.72-7.72 1.47 1.35L5.41 20z\"/>\n",
              "  </svg>\n",
              "      </button>\n",
              "      \n",
              "  <style>\n",
              "    .colab-df-container {\n",
              "      display:flex;\n",
              "      flex-wrap:wrap;\n",
              "      gap: 12px;\n",
              "    }\n",
              "\n",
              "    .colab-df-convert {\n",
              "      background-color: #E8F0FE;\n",
              "      border: none;\n",
              "      border-radius: 50%;\n",
              "      cursor: pointer;\n",
              "      display: none;\n",
              "      fill: #1967D2;\n",
              "      height: 32px;\n",
              "      padding: 0 0 0 0;\n",
              "      width: 32px;\n",
              "    }\n",
              "\n",
              "    .colab-df-convert:hover {\n",
              "      background-color: #E2EBFA;\n",
              "      box-shadow: 0px 1px 2px rgba(60, 64, 67, 0.3), 0px 1px 3px 1px rgba(60, 64, 67, 0.15);\n",
              "      fill: #174EA6;\n",
              "    }\n",
              "\n",
              "    [theme=dark] .colab-df-convert {\n",
              "      background-color: #3B4455;\n",
              "      fill: #D2E3FC;\n",
              "    }\n",
              "\n",
              "    [theme=dark] .colab-df-convert:hover {\n",
              "      background-color: #434B5C;\n",
              "      box-shadow: 0px 1px 3px 1px rgba(0, 0, 0, 0.15);\n",
              "      filter: drop-shadow(0px 1px 2px rgba(0, 0, 0, 0.3));\n",
              "      fill: #FFFFFF;\n",
              "    }\n",
              "  </style>\n",
              "\n",
              "      <script>\n",
              "        const buttonEl =\n",
              "          document.querySelector('#df-d6175edc-bc4a-44cd-a8e3-cb24fcbca2b9 button.colab-df-convert');\n",
              "        buttonEl.style.display =\n",
              "          google.colab.kernel.accessAllowed ? 'block' : 'none';\n",
              "\n",
              "        async function convertToInteractive(key) {\n",
              "          const element = document.querySelector('#df-d6175edc-bc4a-44cd-a8e3-cb24fcbca2b9');\n",
              "          const dataTable =\n",
              "            await google.colab.kernel.invokeFunction('convertToInteractive',\n",
              "                                                     [key], {});\n",
              "          if (!dataTable) return;\n",
              "\n",
              "          const docLinkHtml = 'Like what you see? Visit the ' +\n",
              "            '<a target=\"_blank\" href=https://colab.research.google.com/notebooks/data_table.ipynb>data table notebook</a>'\n",
              "            + ' to learn more about interactive tables.';\n",
              "          element.innerHTML = '';\n",
              "          dataTable['output_type'] = 'display_data';\n",
              "          await google.colab.output.renderOutput(dataTable, element);\n",
              "          const docLink = document.createElement('div');\n",
              "          docLink.innerHTML = docLinkHtml;\n",
              "          element.appendChild(docLink);\n",
              "        }\n",
              "      </script>\n",
              "    </div>\n",
              "  </div>\n",
              "  "
            ]
          },
          "metadata": {},
          "execution_count": 13
        }
      ]
    },
    {
      "cell_type": "markdown",
      "source": [
        "De esta forma se recreó el dataset obtenido en el notebook de la clase (03 Combinación de datasets.ipynb)"
      ],
      "metadata": {
        "id": "OyDixLI0jxx1"
      },
      "id": "OyDixLI0jxx1"
    },
    {
      "cell_type": "markdown",
      "source": [
        "Ejercicio 2) <br>\n",
        "1. Seleccionar un subconjunto de columnas que les parezcan relevantes al problema de predicción del valor de la propiedad. Justificar las columnas seleccionadas y las que no lo fueron.\n",
        " - Eliminar los valores extremos que no sean relevantes para la predicción de valores de las propiedades."
      ],
      "metadata": {
        "id": "SqBwpaARkQ2D"
      },
      "id": "SqBwpaARkQ2D"
    },
    {
      "cell_type": "code",
      "source": [
        "melb_df.columns"
      ],
      "metadata": {
        "colab": {
          "base_uri": "https://localhost:8080/"
        },
        "id": "_SjZdVT1kr9N",
        "outputId": "933bd540-f174-43f0-9e5c-eabd85a80c00"
      },
      "id": "_SjZdVT1kr9N",
      "execution_count": 14,
      "outputs": [
        {
          "output_type": "execute_result",
          "data": {
            "text/plain": [
              "Index(['Suburb', 'Address', 'Rooms', 'Type', 'Price', 'Method', 'SellerG',\n",
              "       'Date', 'Distance', 'Postcode', 'Bedroom2', 'Bathroom', 'Car',\n",
              "       'Landsize', 'BuildingArea', 'YearBuilt', 'CouncilArea', 'Lattitude',\n",
              "       'Longtitude', 'Regionname', 'Propertycount'],\n",
              "      dtype='object')"
            ]
          },
          "metadata": {},
          "execution_count": 14
        }
      ]
    },
    {
      "cell_type": "markdown",
      "source": [
        "Debemos conocer la descripción de cada variable antes de decidir que variables seleccionar y cuales eliminar.\n",
        "\n",
        "- Suburb: Suburb\n",
        "- Address: Address\n",
        "- Rooms: Number of rooms\n",
        "- Price: Price in Australian dollars\n",
        "- Method: S - property sold; SP - property sold prior; PI - property passed in; PN - sold prior not disclosed; SN - sold not disclosed; NB - no bid; VB - vendor bid; W - withdrawn prior to auction; SA - sold after auction; SS - sold after auction price not disclosed. N/A - price or highest bid not available.\n",
        "- Type: br - bedroom(s); h - house, cottage, villa, semi, terrace; u - unit, duplex; t - townhouse; dev site - development site; res - other residential.\n",
        "- SellerG: Real Estate Agent\n",
        "- Date: Date sold\n",
        "- Distance: Distance from City Business District (CBD) in Kilometres\n",
        "- Regionname: General Region (West, North West, North, North east …etc)\n",
        "- Propertycount: Number of properties that exist in the suburb.\n",
        "- Bedroom2 : Scraped # of Bedrooms (from different source)\n",
        "- Bathroom: Number of Bathrooms\n",
        "- Car: Number of carspots\n",
        "- Landsize: Land Size in Metres\n",
        "- BuildingArea: Building Size in Metres\n",
        "- YearBuilt: Year the house was built\n",
        "- CouncilArea: Governing council for the area\n",
        "- Lattitude: Self explanitory\n",
        "- Longtitude: Self explanitory"
      ],
      "metadata": {
        "id": "Z66ZSa0um50U"
      },
      "id": "Z66ZSa0um50U"
    },
    {
      "cell_type": "code",
      "source": [
        "interesting_cols = ['Suburb', 'Rooms', 'Type', 'Price', 'Distance', 'Postcode', 'Bedroom2', 'Bathroom', 'Car',\n",
        "       'Landsize', 'BuildingArea', 'YearBuilt', 'Lattitude', 'Longtitude', 'Propertycount']\n",
        "\n",
        "melb_df2 = melb_df[interesting_cols]"
      ],
      "metadata": {
        "id": "kAQLFSs3lbBQ"
      },
      "id": "kAQLFSs3lbBQ",
      "execution_count": 15,
      "outputs": []
    },
    {
      "cell_type": "markdown",
      "source": [
        "Se decidió seleccionar todas las variables que brindan información descriptiva sobre la propiedad: tipo de propiedad, número de ambientes, habitaciones y baños, tamaño del edificio y del terreno, así también como el año en que fue construida. Respecto a la información geográfica incluimos nombre del suburbio, latitud y longitud, así como la distancia al CBD de Melbourne.\n",
        "\n",
        "Eliminamos información sobre el vendedor, fecha de compra y método con el que fue adquirida la propiedad. Consideramos que no es infirmación determinante en el valor del inmueble. "
      ],
      "metadata": {
        "id": "fLBv-9xkoyCR"
      },
      "id": "fLBv-9xkoyCR"
    },
    {
      "cell_type": "code",
      "source": [
        "cols_plot = ['Rooms', 'Price', 'Distance', 'Bedroom2', 'Bathroom', 'Car',\n",
        "       'Landsize', 'BuildingArea', 'YearBuilt', 'Propertycount']\n",
        "\n",
        "melb_df2[cols_plot].plot(kind=\"box\", subplots=True, figsize=(11,7), layout = (2,5))\n",
        "plt.tight_layout()\n",
        "plt.show()"
      ],
      "metadata": {
        "colab": {
          "base_uri": "https://localhost:8080/",
          "height": 683
        },
        "id": "TMMF_wDJr5u_",
        "outputId": "93d58f64-05e2-4ed7-bd71-8ee5ef9c9a02"
      },
      "id": "TMMF_wDJr5u_",
      "execution_count": 16,
      "outputs": [
        {
          "output_type": "display_data",
          "data": {
            "text/plain": [
              "<Figure size 1100x700 with 10 Axes>"
            ],
            "image/png": "[encoded data removed]"
          },
          "metadata": {}
        }
      ]
    },
    {
      "cell_type": "markdown",
      "source": [
        "Eliminamos primero outliers que son muy evidentes, tales como 20 habitaciones (cuando el número máximo de ambientes es 10), tamaño de terreno y de construcción de 400.000 y 40.000, respectivamente y año de construcción 1200."
      ],
      "metadata": {
        "id": "LNXcRGEztLMq"
      },
      "id": "LNXcRGEztLMq"
    },
    {
      "cell_type": "code",
      "source": [
        "melb_df2 = melb_df2[melb_df2['Bedroom2'] < 20]\n",
        "melb_df2 = melb_df2[melb_df2['Landsize'] < 400000]\n",
        "melb_df2 = melb_df2[melb_df2['BuildingArea'] < 40000]\n",
        "melb_df2 = melb_df2[melb_df2['YearBuilt'] > 1200]"
      ],
      "metadata": {
        "id": "F-za4mcytpIV"
      },
      "id": "F-za4mcytpIV",
      "execution_count": 17,
      "outputs": []
    },
    {
      "cell_type": "code",
      "source": [
        "cols_plot = ['Rooms', 'Price', 'Distance', 'Bedroom2', 'Bathroom', 'Car', 'Landsize', 'BuildingArea', 'Propertycount'] # Variables que se graficarán\n",
        "\n",
        "melb_df2[cols_plot].hist(bins=100, figsize=(12, 8))\n",
        "plt.tight_layout()\n",
        "plt.show()"
      ],
      "metadata": {
        "colab": {
          "base_uri": "https://localhost:8080/",
          "height": 740
        },
        "id": "aGPVAJBJq4Ih",
        "outputId": "02c1fa16-7c29-4ec4-a317-2a737ba74ef7"
      },
      "id": "aGPVAJBJq4Ih",
      "execution_count": 18,
      "outputs": [
        {
          "output_type": "display_data",
          "data": {
            "text/plain": [
              "<Figure size 1200x800 with 9 Axes>"
            ],
            "image/png": "[encoded data removed]"
          },
          "metadata": {}
        }
      ]
    },
    {
      "cell_type": "code",
      "source": [
        "from scipy import stats\n",
        "\n",
        "cols_outliers = ['Landsize', 'BuildingArea', 'Propertycount'] # Variables a las que se le eliminarán outliers\n",
        "\n",
        "for i in cols_outliers:\n",
        "  melb_df2 = melb_df2[numpy.abs(stats.zscore(melb_df2[i])) < 3]"
      ],
      "metadata": {
        "id": "pOLMW-xsw2a5"
      },
      "id": "pOLMW-xsw2a5",
      "execution_count": 19,
      "outputs": []
    },
    {
      "cell_type": "markdown",
      "source": [
        "Se decidió eliminar outliers sólo de las columnas 'Landsize', 'BuildingArea' y 'Propertycount'. Las restantes variables poseen valores altos en, por ejemplo, número de habitaciones, baños, pero que pueden ser valores provenientes de propiedades inmobiliarias realmente grandes.\n",
        "\n",
        "- No se si esto que hice es correcto, para revisar!"
      ],
      "metadata": {
        "id": "5YvqAUZuy6QK"
      },
      "id": "5YvqAUZuy6QK"
    },
    {
      "cell_type": "code",
      "source": [
        "melb_df2[cols_plot].plot(kind=\"box\", subplots=True, figsize=(11,7), layout = (2,5))\n",
        "plt.tight_layout()\n",
        "plt.show()"
      ],
      "metadata": {
        "colab": {
          "base_uri": "https://localhost:8080/",
          "height": 683
        },
        "id": "I5dFUE-wyUUc",
        "outputId": "84614d3e-798a-4791-f992-3676aa5a7caf"
      },
      "id": "I5dFUE-wyUUc",
      "execution_count": 20,
      "outputs": [
        {
          "output_type": "display_data",
          "data": {
            "text/plain": [
              "<Figure size 1100x700 with 10 Axes>"
            ],
            "image/png": "[encoded data removed]"
          },
          "metadata": {}
        }
      ]
    },
    {
      "cell_type": "markdown",
      "source": [
        "2. Agregar información adicional respectiva al entorno de una propiedad a partir del [conjunto de datos de AirBnB](https://www.kaggle.com/tylerx/melbourne-airbnb-open-data?select=cleansed_listings_dec18.csv) utilizado en el práctico. \n",
        "  1. Seleccionar qué variables agregar y qué combinaciones aplicar a cada una. Por ejemplo, pueden utilizar solo la columna `price`, o aplicar múltiples transformaciones como la mediana o el mínimo."
      ],
      "metadata": {
        "id": "-vxF0noEy3PL"
      },
      "id": "-vxF0noEy3PL"
    },
    {
      "cell_type": "code",
      "source": [
        "airbnb_df2 = pd.read_csv(\n",
        "    'https://cs.famaf.unc.edu.ar/~mteruel/datasets/diplodatos/cleansed_listings_dec18.csv',\n",
        "    dtype='unicode')"
      ],
      "metadata": {
        "id": "gSuO_0eXzwkB"
      },
      "id": "gSuO_0eXzwkB",
      "execution_count": 21,
      "outputs": []
    },
    {
      "cell_type": "markdown",
      "source": [
        "Este dataframe posee numerosas columnas, por espacio no las definiremos. Seleccionamos las columnas que ofrecen informacion adicional al dataframe Melbourne. Seleccionamos las columnas 'zipcode', 'property_type', 'price', 'weekly_price' y 'monthly_price'. La variable 'property_type' puede añadir infromacion extra a la columna 'Type' del dataset Melbourne."
      ],
      "metadata": {
        "id": "zLJZACYbRTV1"
      },
      "id": "zLJZACYbRTV1"
    },
    {
      "cell_type": "code",
      "source": [
        "airbnb_df2.columns"
      ],
      "metadata": {
        "colab": {
          "base_uri": "https://localhost:8080/"
        },
        "id": "LrwrevKey4ic",
        "outputId": "437eefc5-ae2d-4e61-d1d9-97bbab94b0c3"
      },
      "id": "LrwrevKey4ic",
      "execution_count": 22,
      "outputs": [
        {
          "output_type": "execute_result",
          "data": {
            "text/plain": [
              "Index(['id', 'listing_url', 'scrape_id', 'last_scraped', 'name', 'summary',\n",
              "       'space', 'description', 'neighborhood_overview', 'notes', 'transit',\n",
              "       'access', 'interaction', 'house_rules', 'picture_url', 'host_id',\n",
              "       'host_url', 'host_name', 'host_since', 'host_location', 'host_about',\n",
              "       'host_response_time', 'host_response_rate', 'host_is_superhost',\n",
              "       'host_thumbnail_url', 'host_picture_url', 'host_neighborhood',\n",
              "       'host_verifications', 'host_has_profile_pic', 'host_identity_verified',\n",
              "       'street', 'neighborhood', 'city', 'suburb', 'state', 'zipcode',\n",
              "       'smart_location', 'country_code', 'country', 'latitude', 'longitude',\n",
              "       'is_location_exact', 'property_type', 'room_type', 'accommodates',\n",
              "       'bathrooms', 'bedrooms', 'beds', 'bed_type', 'amenities', 'price',\n",
              "       'weekly_price', 'monthly_price', 'security_deposit', 'cleaning_fee',\n",
              "       'guests_included', 'extra_people', 'minimum_nights', 'maximum_nights',\n",
              "       'calendar_updated', 'has_availability', 'availability_30',\n",
              "       'availability_60', 'availability_90', 'availability_365',\n",
              "       'calendar_last_scraped', 'number_of_reviews', 'first_review',\n",
              "       'last_review', 'review_scores_rating', 'review_scores_accuracy',\n",
              "       'review_scores_cleanliness', 'review_scores_checkin',\n",
              "       'review_scores_communication', 'review_scores_location',\n",
              "       'review_scores_value', 'requires_license', 'license',\n",
              "       'instant_bookable', 'cancellation_policy',\n",
              "       'require_guest_profile_picture', 'require_guest_phone_verification',\n",
              "       'calculated_host_listings_count', 'reviews_per_month'],\n",
              "      dtype='object')"
            ]
          },
          "metadata": {},
          "execution_count": 22
        }
      ]
    },
    {
      "cell_type": "code",
      "source": [
        "interesting_cols_airbnb = ['zipcode', 'property_type', 'price', 'weekly_price', 'monthly_price']"
      ],
      "metadata": {
        "id": "W0OMRuAv0ULX"
      },
      "id": "W0OMRuAv0ULX",
      "execution_count": 23,
      "outputs": []
    },
    {
      "cell_type": "markdown",
      "source": [
        "  2. Utilizar la variable zipcode para unir los conjuntos de datos. Sólo incluir los zipcodes que tengan una cantidad mínima de registros (a elección) como para que la información agregada sea relevante."
      ],
      "metadata": {
        "id": "a8B6pJMcSHXL"
      },
      "id": "a8B6pJMcSHXL"
    },
    {
      "cell_type": "code",
      "source": [
        "airbnb_df3 = airbnb_df2.copy()\n",
        "airbnb_df3 = airbnb_df3[interesting_cols_airbnb]\n",
        "\n",
        "airbnb_df3['zipcode'] = pd.to_numeric(airbnb_df3.zipcode, errors='coerce')\n",
        "airbnb_df3['zipcode'] = airbnb_df3.zipcode.fillna(0).astype('int')\n",
        "\n",
        "min_occurrences = 150 # Toamos sólo los zipcodes que posean más entradas que este valor\n",
        "\n",
        "valid_values = airbnb_df3['zipcode'].value_counts()\n",
        "valid_values = valid_values[valid_values >= min_occurrences].index\n",
        "\n",
        "filtered_airbnb = airbnb_df3[airbnb_df3['zipcode'].isin(valid_values)]"
      ],
      "metadata": {
        "id": "hFAL9u9hh4Pw"
      },
      "id": "hFAL9u9hh4Pw",
      "execution_count": 24,
      "outputs": []
    },
    {
      "cell_type": "code",
      "source": [
        "filtered_airbnb['zipcode'].value_counts()"
      ],
      "metadata": {
        "colab": {
          "base_uri": "https://localhost:8080/"
        },
        "id": "wHB-_Z9lh_C3",
        "outputId": "b0ab8d12-8f12-4b6b-a59b-77d2ef528f34"
      },
      "id": "wHB-_Z9lh_C3",
      "execution_count": 25,
      "outputs": [
        {
          "output_type": "execute_result",
          "data": {
            "text/plain": [
              "3000    3367\n",
              "3006    1268\n",
              "3182    1135\n",
              "3141     881\n",
              "3004     728\n",
              "3121     628\n",
              "3008     616\n",
              "3053     538\n",
              "3181     460\n",
              "3056     446\n",
              "3065     387\n",
              "3051     338\n",
              "3184     335\n",
              "3183     326\n",
              "3068     308\n",
              "3205     300\n",
              "3066     297\n",
              "3070     284\n",
              "3003     267\n",
              "3030     258\n",
              "3067     258\n",
              "3207     257\n",
              "3128     214\n",
              "3011     198\n",
              "3002     197\n",
              "3150     189\n",
              "3031     188\n",
              "3777     187\n",
              "3057     185\n",
              "3122     184\n",
              "3032     176\n",
              "3163     156\n",
              "3168     152\n",
              "Name: zipcode, dtype: int64"
            ]
          },
          "metadata": {},
          "execution_count": 25
        }
      ]
    },
    {
      "cell_type": "code",
      "source": [
        "airbnb_price_by_zipcode = filtered_airbnb.groupby('zipcode').agg({'price': ['mean', 'count']}).reset_index()\n",
        "\n",
        "airbnb_price_by_zipcode.columns = [' '.join(col).strip() for col in airbnb_price_by_zipcode.columns.values]\n",
        "\n",
        "airbnb_price_by_zipcode = airbnb_price_by_zipcode.rename(\n",
        "    columns={'price mean': 'airbnb_price_mean',\n",
        "             'price count': 'airbnb_record_count'})\n",
        "\n",
        "airbnb_price_by_zipcode[:5]"
      ],
      "metadata": {
        "colab": {
          "base_uri": "https://localhost:8080/",
          "height": 206
        },
        "id": "WbpXzjiJkm3f",
        "outputId": "583d4368-d9cc-43e8-ea37-c209daa9386d"
      },
      "id": "WbpXzjiJkm3f",
      "execution_count": 26,
      "outputs": [
        {
          "output_type": "execute_result",
          "data": {
            "text/plain": [
              "   zipcode  airbnb_price_mean  airbnb_record_count\n",
              "0     3000                inf                 3367\n",
              "1     3002                inf                  197\n",
              "2     3003                inf                  267\n",
              "3     3004                inf                  728\n",
              "4     3006                inf                 1268"
            ],
            "text/html": [
              "\n",
              "  <div id=\"df-34daee98-3ec1-4bcb-9e86-e595a7b09870\">\n",
              "    <div class=\"colab-df-container\">\n",
              "      <div>\n",
              "<style scoped>\n",
              "    .dataframe tbody tr th:only-of-type {\n",
              "        vertical-align: middle;\n",
              "    }\n",
              "\n",
              "    .dataframe tbody tr th {\n",
              "        vertical-align: top;\n",
              "    }\n",
              "\n",
              "    .dataframe thead th {\n",
              "        text-align: right;\n",
              "    }\n",
              "</style>\n",
              "<table border=\"1\" class=\"dataframe\">\n",
              "  <thead>\n",
              "    <tr style=\"text-align: right;\">\n",
              "      <th></th>\n",
              "      <th>zipcode</th>\n",
              "      <th>airbnb_price_mean</th>\n",
              "      <th>airbnb_record_count</th>\n",
              "    </tr>\n",
              "  </thead>\n",
              "  <tbody>\n",
              "    <tr>\n",
              "      <th>0</th>\n",
              "      <td>3000</td>\n",
              "      <td>inf</td>\n",
              "      <td>3367</td>\n",
              "    </tr>\n",
              "    <tr>\n",
              "      <th>1</th>\n",
              "      <td>3002</td>\n",
              "      <td>inf</td>\n",
              "      <td>197</td>\n",
              "    </tr>\n",
              "    <tr>\n",
              "      <th>2</th>\n",
              "      <td>3003</td>\n",
              "      <td>inf</td>\n",
              "      <td>267</td>\n",
              "    </tr>\n",
              "    <tr>\n",
              "      <th>3</th>\n",
              "      <td>3004</td>\n",
              "      <td>inf</td>\n",
              "      <td>728</td>\n",
              "    </tr>\n",
              "    <tr>\n",
              "      <th>4</th>\n",
              "      <td>3006</td>\n",
              "      <td>inf</td>\n",
              "      <td>1268</td>\n",
              "    </tr>\n",
              "  </tbody>\n",
              "</table>\n",
              "</div>\n",
              "      <button class=\"colab-df-convert\" onclick=\"convertToInteractive('df-34daee98-3ec1-4bcb-9e86-e595a7b09870')\"\n",
              "              title=\"Convert this dataframe to an interactive table.\"\n",
              "              style=\"display:none;\">\n",
              "        \n",
              "  <svg xmlns=\"http://www.w3.org/2000/svg\" height=\"24px\"viewBox=\"0 0 24 24\"\n",
              "       width=\"24px\">\n",
              "    <path d=\"M0 0h24v24H0V0z\" fill=\"none\"/>\n",
              "    <path d=\"M18.56 5.44l.94 2.06.94-2.06 2.06-.94-2.06-.94-.94-2.06-.94 2.06-2.06.94zm-11 1L8.5 8.5l.94-2.06 2.06-.94-2.06-.94L8.5 2.5l-.94 2.06-2.06.94zm10 10l.94 2.06.94-2.06 2.06-.94-2.06-.94-.94-2.06-.94 2.06-2.06.94z\"/><path d=\"M17.41 7.96l-1.37-1.37c-.4-.4-.92-.59-1.43-.59-.52 0-1.04.2-1.43.59L10.3 9.45l-7.72 7.72c-.78.78-.78 2.05 0 2.83L4 21.41c.39.39.9.59 1.41.59.51 0 1.02-.2 1.41-.59l7.78-7.78 2.81-2.81c.8-.78.8-2.07 0-2.86zM5.41 20L4 18.59l7.72-7.72 1.47 1.35L5.41 20z\"/>\n",
              "  </svg>\n",
              "      </button>\n",
              "      \n",
              "  <style>\n",
              "    .colab-df-container {\n",
              "      display:flex;\n",
              "      flex-wrap:wrap;\n",
              "      gap: 12px;\n",
              "    }\n",
              "\n",
              "    .colab-df-convert {\n",
              "      background-color: #E8F0FE;\n",
              "      border: none;\n",
              "      border-radius: 50%;\n",
              "      cursor: pointer;\n",
              "      display: none;\n",
              "      fill: #1967D2;\n",
              "      height: 32px;\n",
              "      padding: 0 0 0 0;\n",
              "      width: 32px;\n",
              "    }\n",
              "\n",
              "    .colab-df-convert:hover {\n",
              "      background-color: #E2EBFA;\n",
              "      box-shadow: 0px 1px 2px rgba(60, 64, 67, 0.3), 0px 1px 3px 1px rgba(60, 64, 67, 0.15);\n",
              "      fill: #174EA6;\n",
              "    }\n",
              "\n",
              "    [theme=dark] .colab-df-convert {\n",
              "      background-color: #3B4455;\n",
              "      fill: #D2E3FC;\n",
              "    }\n",
              "\n",
              "    [theme=dark] .colab-df-convert:hover {\n",
              "      background-color: #434B5C;\n",
              "      box-shadow: 0px 1px 3px 1px rgba(0, 0, 0, 0.15);\n",
              "      filter: drop-shadow(0px 1px 2px rgba(0, 0, 0, 0.3));\n",
              "      fill: #FFFFFF;\n",
              "    }\n",
              "  </style>\n",
              "\n",
              "      <script>\n",
              "        const buttonEl =\n",
              "          document.querySelector('#df-34daee98-3ec1-4bcb-9e86-e595a7b09870 button.colab-df-convert');\n",
              "        buttonEl.style.display =\n",
              "          google.colab.kernel.accessAllowed ? 'block' : 'none';\n",
              "\n",
              "        async function convertToInteractive(key) {\n",
              "          const element = document.querySelector('#df-34daee98-3ec1-4bcb-9e86-e595a7b09870');\n",
              "          const dataTable =\n",
              "            await google.colab.kernel.invokeFunction('convertToInteractive',\n",
              "                                                     [key], {});\n",
              "          if (!dataTable) return;\n",
              "\n",
              "          const docLinkHtml = 'Like what you see? Visit the ' +\n",
              "            '<a target=\"_blank\" href=https://colab.research.google.com/notebooks/data_table.ipynb>data table notebook</a>'\n",
              "            + ' to learn more about interactive tables.';\n",
              "          element.innerHTML = '';\n",
              "          dataTable['output_type'] = 'display_data';\n",
              "          await google.colab.output.renderOutput(dataTable, element);\n",
              "          const docLink = document.createElement('div');\n",
              "          docLink.innerHTML = docLinkHtml;\n",
              "          element.appendChild(docLink);\n",
              "        }\n",
              "      </script>\n",
              "    </div>\n",
              "  </div>\n",
              "  "
            ]
          },
          "metadata": {},
          "execution_count": 26
        }
      ]
    },
    {
      "cell_type": "code",
      "source": [
        "merged_sales_df = melb_df2.merge(airbnb_price_by_zipcode, how='left', left_on='Postcode', right_on='zipcode')\n",
        "merged_sales_df.head()"
      ],
      "metadata": {
        "colab": {
          "base_uri": "https://localhost:8080/",
          "height": 270
        },
        "id": "lSazGyyikxVf",
        "outputId": "52130d54-9393-4243-eba1-646a2508a39c"
      },
      "id": "lSazGyyikxVf",
      "execution_count": 29,
      "outputs": [
        {
          "output_type": "execute_result",
          "data": {
            "text/plain": [
              "       Suburb  Rooms Type      Price  Distance  Postcode  Bedroom2  Bathroom  \\\n",
              "0  Abbotsford      2    h  1035000.0       2.5    3067.0       2.0       1.0   \n",
              "1  Abbotsford      3    h  1465000.0       2.5    3067.0       3.0       2.0   \n",
              "2  Abbotsford      4    h  1600000.0       2.5    3067.0       3.0       1.0   \n",
              "3  Abbotsford      3    h  1876000.0       2.5    3067.0       4.0       2.0   \n",
              "4  Abbotsford      2    h  1636000.0       2.5    3067.0       2.0       1.0   \n",
              "\n",
              "   Car  Landsize  BuildingArea  YearBuilt  Lattitude  Longtitude  \\\n",
              "0  0.0     156.0          79.0     1900.0   -37.8079    144.9934   \n",
              "1  0.0     134.0         150.0     1900.0   -37.8093    144.9944   \n",
              "2  2.0     120.0         142.0     2014.0   -37.8072    144.9941   \n",
              "3  0.0     245.0         210.0     1910.0   -37.8024    144.9993   \n",
              "4  2.0     256.0         107.0     1890.0   -37.8060    144.9954   \n",
              "\n",
              "   Propertycount  zipcode  airbnb_price_mean  airbnb_record_count  \n",
              "0         4019.0   3067.0                inf                258.0  \n",
              "1         4019.0   3067.0                inf                258.0  \n",
              "2         4019.0   3067.0                inf                258.0  \n",
              "3         4019.0   3067.0                inf                258.0  \n",
              "4         4019.0   3067.0                inf                258.0  "
            ],
            "text/html": [
              "\n",
              "  <div id=\"df-1139de1e-4e1e-4004-b5c4-a18387127a12\">\n",
              "    <div class=\"colab-df-container\">\n",
              "      <div>\n",
              "<style scoped>\n",
              "    .dataframe tbody tr th:only-of-type {\n",
              "        vertical-align: middle;\n",
              "    }\n",
              "\n",
              "    .dataframe tbody tr th {\n",
              "        vertical-align: top;\n",
              "    }\n",
              "\n",
              "    .dataframe thead th {\n",
              "        text-align: right;\n",
              "    }\n",
              "</style>\n",
              "<table border=\"1\" class=\"dataframe\">\n",
              "  <thead>\n",
              "    <tr style=\"text-align: right;\">\n",
              "      <th></th>\n",
              "      <th>Suburb</th>\n",
              "      <th>Rooms</th>\n",
              "      <th>Type</th>\n",
              "      <th>Price</th>\n",
              "      <th>Distance</th>\n",
              "      <th>Postcode</th>\n",
              "      <th>Bedroom2</th>\n",
              "      <th>Bathroom</th>\n",
              "      <th>Car</th>\n",
              "      <th>Landsize</th>\n",
              "      <th>BuildingArea</th>\n",
              "      <th>YearBuilt</th>\n",
              "      <th>Lattitude</th>\n",
              "      <th>Longtitude</th>\n",
              "      <th>Propertycount</th>\n",
              "      <th>zipcode</th>\n",
              "      <th>airbnb_price_mean</th>\n",
              "      <th>airbnb_record_count</th>\n",
              "    </tr>\n",
              "  </thead>\n",
              "  <tbody>\n",
              "    <tr>\n",
              "      <th>0</th>\n",
              "      <td>Abbotsford</td>\n",
              "      <td>2</td>\n",
              "      <td>h</td>\n",
              "      <td>1035000.0</td>\n",
              "      <td>2.5</td>\n",
              "      <td>3067.0</td>\n",
              "      <td>2.0</td>\n",
              "      <td>1.0</td>\n",
              "      <td>0.0</td>\n",
              "      <td>156.0</td>\n",
              "      <td>79.0</td>\n",
              "      <td>1900.0</td>\n",
              "      <td>-37.8079</td>\n",
              "      <td>144.9934</td>\n",
              "      <td>4019.0</td>\n",
              "      <td>3067.0</td>\n",
              "      <td>inf</td>\n",
              "      <td>258.0</td>\n",
              "    </tr>\n",
              "    <tr>\n",
              "      <th>1</th>\n",
              "      <td>Abbotsford</td>\n",
              "      <td>3</td>\n",
              "      <td>h</td>\n",
              "      <td>1465000.0</td>\n",
              "      <td>2.5</td>\n",
              "      <td>3067.0</td>\n",
              "      <td>3.0</td>\n",
              "      <td>2.0</td>\n",
              "      <td>0.0</td>\n",
              "      <td>134.0</td>\n",
              "      <td>150.0</td>\n",
              "      <td>1900.0</td>\n",
              "      <td>-37.8093</td>\n",
              "      <td>144.9944</td>\n",
              "      <td>4019.0</td>\n",
              "      <td>3067.0</td>\n",
              "      <td>inf</td>\n",
              "      <td>258.0</td>\n",
              "    </tr>\n",
              "    <tr>\n",
              "      <th>2</th>\n",
              "      <td>Abbotsford</td>\n",
              "      <td>4</td>\n",
              "      <td>h</td>\n",
              "      <td>1600000.0</td>\n",
              "      <td>2.5</td>\n",
              "      <td>3067.0</td>\n",
              "      <td>3.0</td>\n",
              "      <td>1.0</td>\n",
              "      <td>2.0</td>\n",
              "      <td>120.0</td>\n",
              "      <td>142.0</td>\n",
              "      <td>2014.0</td>\n",
              "      <td>-37.8072</td>\n",
              "      <td>144.9941</td>\n",
              "      <td>4019.0</td>\n",
              "      <td>3067.0</td>\n",
              "      <td>inf</td>\n",
              "      <td>258.0</td>\n",
              "    </tr>\n",
              "    <tr>\n",
              "      <th>3</th>\n",
              "      <td>Abbotsford</td>\n",
              "      <td>3</td>\n",
              "      <td>h</td>\n",
              "      <td>1876000.0</td>\n",
              "      <td>2.5</td>\n",
              "      <td>3067.0</td>\n",
              "      <td>4.0</td>\n",
              "      <td>2.0</td>\n",
              "      <td>0.0</td>\n",
              "      <td>245.0</td>\n",
              "      <td>210.0</td>\n",
              "      <td>1910.0</td>\n",
              "      <td>-37.8024</td>\n",
              "      <td>144.9993</td>\n",
              "      <td>4019.0</td>\n",
              "      <td>3067.0</td>\n",
              "      <td>inf</td>\n",
              "      <td>258.0</td>\n",
              "    </tr>\n",
              "    <tr>\n",
              "      <th>4</th>\n",
              "      <td>Abbotsford</td>\n",
              "      <td>2</td>\n",
              "      <td>h</td>\n",
              "      <td>1636000.0</td>\n",
              "      <td>2.5</td>\n",
              "      <td>3067.0</td>\n",
              "      <td>2.0</td>\n",
              "      <td>1.0</td>\n",
              "      <td>2.0</td>\n",
              "      <td>256.0</td>\n",
              "      <td>107.0</td>\n",
              "      <td>1890.0</td>\n",
              "      <td>-37.8060</td>\n",
              "      <td>144.9954</td>\n",
              "      <td>4019.0</td>\n",
              "      <td>3067.0</td>\n",
              "      <td>inf</td>\n",
              "      <td>258.0</td>\n",
              "    </tr>\n",
              "  </tbody>\n",
              "</table>\n",
              "</div>\n",
              "      <button class=\"colab-df-convert\" onclick=\"convertToInteractive('df-1139de1e-4e1e-4004-b5c4-a18387127a12')\"\n",
              "              title=\"Convert this dataframe to an interactive table.\"\n",
              "              style=\"display:none;\">\n",
              "        \n",
              "  <svg xmlns=\"http://www.w3.org/2000/svg\" height=\"24px\"viewBox=\"0 0 24 24\"\n",
              "       width=\"24px\">\n",
              "    <path d=\"M0 0h24v24H0V0z\" fill=\"none\"/>\n",
              "    <path d=\"M18.56 5.44l.94 2.06.94-2.06 2.06-.94-2.06-.94-.94-2.06-.94 2.06-2.06.94zm-11 1L8.5 8.5l.94-2.06 2.06-.94-2.06-.94L8.5 2.5l-.94 2.06-2.06.94zm10 10l.94 2.06.94-2.06 2.06-.94-2.06-.94-.94-2.06-.94 2.06-2.06.94z\"/><path d=\"M17.41 7.96l-1.37-1.37c-.4-.4-.92-.59-1.43-.59-.52 0-1.04.2-1.43.59L10.3 9.45l-7.72 7.72c-.78.78-.78 2.05 0 2.83L4 21.41c.39.39.9.59 1.41.59.51 0 1.02-.2 1.41-.59l7.78-7.78 2.81-2.81c.8-.78.8-2.07 0-2.86zM5.41 20L4 18.59l7.72-7.72 1.47 1.35L5.41 20z\"/>\n",
              "  </svg>\n",
              "      </button>\n",
              "      \n",
              "  <style>\n",
              "    .colab-df-container {\n",
              "      display:flex;\n",
              "      flex-wrap:wrap;\n",
              "      gap: 12px;\n",
              "    }\n",
              "\n",
              "    .colab-df-convert {\n",
              "      background-color: #E8F0FE;\n",
              "      border: none;\n",
              "      border-radius: 50%;\n",
              "      cursor: pointer;\n",
              "      display: none;\n",
              "      fill: #1967D2;\n",
              "      height: 32px;\n",
              "      padding: 0 0 0 0;\n",
              "      width: 32px;\n",
              "    }\n",
              "\n",
              "    .colab-df-convert:hover {\n",
              "      background-color: #E2EBFA;\n",
              "      box-shadow: 0px 1px 2px rgba(60, 64, 67, 0.3), 0px 1px 3px 1px rgba(60, 64, 67, 0.15);\n",
              "      fill: #174EA6;\n",
              "    }\n",
              "\n",
              "    [theme=dark] .colab-df-convert {\n",
              "      background-color: #3B4455;\n",
              "      fill: #D2E3FC;\n",
              "    }\n",
              "\n",
              "    [theme=dark] .colab-df-convert:hover {\n",
              "      background-color: #434B5C;\n",
              "      box-shadow: 0px 1px 3px 1px rgba(0, 0, 0, 0.15);\n",
              "      filter: drop-shadow(0px 1px 2px rgba(0, 0, 0, 0.3));\n",
              "      fill: #FFFFFF;\n",
              "    }\n",
              "  </style>\n",
              "\n",
              "      <script>\n",
              "        const buttonEl =\n",
              "          document.querySelector('#df-1139de1e-4e1e-4004-b5c4-a18387127a12 button.colab-df-convert');\n",
              "        buttonEl.style.display =\n",
              "          google.colab.kernel.accessAllowed ? 'block' : 'none';\n",
              "\n",
              "        async function convertToInteractive(key) {\n",
              "          const element = document.querySelector('#df-1139de1e-4e1e-4004-b5c4-a18387127a12');\n",
              "          const dataTable =\n",
              "            await google.colab.kernel.invokeFunction('convertToInteractive',\n",
              "                                                     [key], {});\n",
              "          if (!dataTable) return;\n",
              "\n",
              "          const docLinkHtml = 'Like what you see? Visit the ' +\n",
              "            '<a target=\"_blank\" href=https://colab.research.google.com/notebooks/data_table.ipynb>data table notebook</a>'\n",
              "            + ' to learn more about interactive tables.';\n",
              "          element.innerHTML = '';\n",
              "          dataTable['output_type'] = 'display_data';\n",
              "          await google.colab.output.renderOutput(dataTable, element);\n",
              "          const docLink = document.createElement('div');\n",
              "          docLink.innerHTML = docLinkHtml;\n",
              "          element.appendChild(docLink);\n",
              "        }\n",
              "      </script>\n",
              "    </div>\n",
              "  </div>\n",
              "  "
            ]
          },
          "metadata": {},
          "execution_count": 29
        }
      ]
    },
    {
      "cell_type": "markdown",
      "source": [
        "  3. Investigar al menos otras 2 variables que puedan servir para combinar los datos, y justificar si serían adecuadas o no. Pueden asumir que cuentan con la ayuda de anotadores expertos para encontrar equivalencias entre barrios o direcciones, o que cuentan con algoritmos para encontrar las n ubicaciones más cercanas a una propiedad a partir de sus coordenadas geográficas. **NO** es necesario que realicen la implementación."
      ],
      "metadata": {
        "id": "4D5QDaWSlKHe"
      },
      "id": "4D5QDaWSlKHe"
    },
    {
      "cell_type": "markdown",
      "source": [
        "Una de las variables que se podrían haber utilizado para combinar ambos dataset es la dirección (adress) de los diferentes inmuebles. Para ello debemos asegurarnos que en ambos dataset el formato de la dirección es exactamente el mismo, de forma que la misma propiedad en uno y otro dataset puedan ser combinados.\n",
        "\n",
        "Otro par de variables que se podrían haber utilizado son las coordenadas geográficas de los inmuebles, es decir, latitud y longitud. Para ello debemos asegurarnos que estas variables en ambos dataset se midieron con la misma precisión, por ejemplo -38.114 es distinto que -38.1141"
      ],
      "metadata": {
        "id": "64q71ZJ-lgzl"
      },
      "id": "64q71ZJ-lgzl"
    },
    {
      "cell_type": "markdown",
      "source": [
        "## Ejercicio 3:\n",
        "\n",
        "Crear y guardar un nuevo conjunto de datos con todas las transformaciones realizadas anteriormente."
      ],
      "metadata": {
        "id": "2LV95QRclStt"
      },
      "id": "2LV95QRclStt"
    },
    {
      "cell_type": "code",
      "source": [
        "merged_sales_df.to_csv('merged_sales.csv')"
      ],
      "metadata": {
        "id": "9wp_rmejm1ch"
      },
      "id": "9wp_rmejm1ch",
      "execution_count": 30,
      "outputs": []
    }
  ],
  "metadata": {
    "kernelspec": {
      "display_name": "Python 3",
      "language": "python",
      "name": "python3"
    },
    "language_info": {
      "codemirror_mode": {
        "name": "ipython",
        "version": 3
      },
      "file_extension": ".py",
      "mimetype": "text/x-python",
      "name": "python",
      "nbconvert_exporter": "python",
      "pygments_lexer": "ipython3",
      "version": "3.8.8"
    },
    "colab": {
      "provenance": []
    }
  },
  "nbformat": 4,
  "nbformat_minor": 5
}