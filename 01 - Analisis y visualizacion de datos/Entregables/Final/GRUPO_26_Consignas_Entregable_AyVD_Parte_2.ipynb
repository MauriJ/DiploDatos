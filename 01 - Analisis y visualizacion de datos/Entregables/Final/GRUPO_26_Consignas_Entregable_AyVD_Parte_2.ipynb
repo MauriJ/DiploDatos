{
  "nbformat": 4,
  "nbformat_minor": 0,
  "metadata": {
    "colab": {
      "provenance": []
    },
    "kernelspec": {
      "name": "python3",
      "display_name": "Python 3"
    }
  },
  "cells": [
    {
      "cell_type": "markdown",
      "metadata": {
        "id": "LYvAOR2VzHmW"
      },
      "source": [
        "\n",
        "**Diplomatura en Ciencia de Datos, Aprendizaje Automático y sus Aplicaciones**\n",
        "\n",
        "**Edición 2023**\n",
        "\n",
        "---\n",
        "\n",
        "# Trabajo práctico entregable - Parte 2"
      ]
    },
    {
      "cell_type": "code",
      "metadata": {
        "id": "Xwdfo7z20TUK"
      },
      "source": [
        "import io\n",
        "import matplotlib\n",
        "import matplotlib.pyplot as plt\n",
        "import numpy\n",
        "import pandas as pd\n",
        "import seaborn\n",
        "\n",
        "seaborn.set_context('talk')"
      ],
      "execution_count": null,
      "outputs": []
    },
    {
      "cell_type": "markdown",
      "metadata": {
        "id": "XY2Hl-Ma07Nn"
      },
      "source": [
        "## Lectura del dataset\n",
        "\n",
        "En la notebook 00 se explican los detalles de la siguiente sección."
      ]
    },
    {
      "cell_type": "code",
      "metadata": {
        "id": "Vviv_sqXdR5W"
      },
      "source": [
        "url = 'https://raw.githubusercontent.com/DiploDatos/AnalisisyVisualizacion/master/sysarmy_survey_2022_processed.csv'\n",
        "df = pd.read_csv(url)"
      ],
      "execution_count": null,
      "outputs": []
    },
    {
      "cell_type": "code",
      "metadata": {
        "id": "gckNHXXLktJ4",
        "colab": {
          "base_uri": "https://localhost:8080/"
        },
        "outputId": "733d6a58-b4f9-4da8-b649-beb21e0f9d79"
      },
      "source": [
        "df[:3]\n",
        "df.shape"
      ],
      "execution_count": null,
      "outputs": [
        {
          "output_type": "execute_result",
          "data": {
            "text/plain": [
              "(5358, 44)"
            ]
          },
          "metadata": {},
          "execution_count": 3
        }
      ]
    },
    {
      "cell_type": "code",
      "source": [
        "df.profile_gender.unique()"
      ],
      "metadata": {
        "id": "BxFBTUsttpX4",
        "colab": {
          "base_uri": "https://localhost:8080/"
        },
        "outputId": "408bf1ff-1930-426b-9c10-3dd9547c299e"
      },
      "execution_count": null,
      "outputs": [
        {
          "output_type": "execute_result",
          "data": {
            "text/plain": [
              "array(['Varón Cis', 'Varón cis', 'Mujer Cis', 'Mujer', 'Varón Trans',\n",
              "       'Queer', 'No binarie', 'Mujer cis', 'Mujer Trans', 'mujer', 'Gay',\n",
              "       'Fluido', 'Bigénero', 'Femenino'], dtype=object)"
            ]
          },
          "metadata": {},
          "execution_count": 5
        }
      ]
    },
    {
      "cell_type": "code",
      "source": [
        "df.loc[:,'profile_g'] = df.profile_gender.replace({'Varón Cis': 'Varón cis','Mujer': 'Mujer cis','Mujer Cis': 'Mujer cis','Femenino': 'Mujer cis','mujer': 'Mujer cis','Mujer':'Mujer cis','Queer':'Diversidades','Varón Trans':'Diversidades','No binarie':'Diversidades','Mujer Trans':'Diversidades','Fluido':'Diversidades','Bigénero':'Diversidades','Gay':'Diversidades'}).fillna(False)"
      ],
      "metadata": {
        "id": "pJjMneUJtr1H"
      },
      "execution_count": null,
      "outputs": []
    },
    {
      "cell_type": "markdown",
      "source": [
        "Aplicamos la misma limpieza de datos que en la parte 1 del trabajo, definiendo el data frame df22"
      ],
      "metadata": {
        "id": "q3I5AHMbbw7p"
      }
    },
    {
      "cell_type": "code",
      "source": [
        "relevant_columns_2 = ['profile_g' , 'salary_monthly_NETO','work_dedication','salary_monthly_BRUTO','work_years_in_company']\n",
        "df.loc[:,'profile_g'] = df.profile_gender.replace({'Varón Cis': 'Varón cis','Mujer': 'Mujer cis','Mujer Cis': 'Mujer cis','Femenino': 'Mujer cis',\n",
        "                                                   'mujer': 'Mujer cis','Mujer':'Mujer cis','Queer':'Diversidades',\n",
        "                                                   'Varón Trans':'Diversidades','No binarie':'Diversidades','Mujer Trans':'Diversidades',\n",
        "                                                   'Fluido':'Diversidades','Bigénero':'Diversidades','Gay':'Diversidades'}).fillna(False)\n",
        "\n",
        "df22 = df[relevant_columns_2]\n",
        "df22.isna().sum()\n",
        "df22 = df22.dropna()\n",
        "\n",
        "df22 = df22[df22['work_dedication'] == 'Full-Time']\n",
        "df22.value_counts(['work_dedication'])\n",
        "\n",
        "print('El valor máximo del salario mensual bruto es =', numpy.max(df['salary_monthly_BRUTO']))\n",
        "print('El valor máximo del salario mensual negto es =', numpy.max(df['salary_monthly_NETO']))\n",
        "\n",
        "df22 = df22[df22['salary_monthly_BRUTO'] != 28000000]\n",
        "df22 = df22[df22['salary_monthly_NETO'] != 15000000]"
      ],
      "metadata": {
        "colab": {
          "base_uri": "https://localhost:8080/"
        },
        "id": "8h2LZLa9a4LP",
        "outputId": "2349ad18-7a97-43a8-d817-41f6915f3bdf"
      },
      "execution_count": null,
      "outputs": [
        {
          "output_type": "stream",
          "name": "stdout",
          "text": [
            "El valor máximo del salario mensual bruto es = 28000000.0\n",
            "El valor máximo del salario mensual negto es = 15000000.0\n"
          ]
        }
      ]
    },
    {
      "cell_type": "code",
      "source": [
        "df22['work_years_in_company'] = df22['work_years_in_company'].round()\n",
        "df22 = df22[df22['work_years_in_company'] != 80]\n",
        "print(df22['work_years_in_company'].unique())"
      ],
      "metadata": {
        "colab": {
          "base_uri": "https://localhost:8080/"
        },
        "outputId": "2168405c-5deb-44cf-aa72-b9cc73e099cc",
        "id": "n3nTuYCoCdGD"
      },
      "execution_count": null,
      "outputs": [
        {
          "output_type": "stream",
          "name": "stdout",
          "text": [
            "[ 0.  2.  1. 30.  3.  5. 20. 10. 12.  6. 11.  9. 19.  7. 18.  4. 17. 22.\n",
            "  8. 14. 24. 15. 16. 13. 23. 21. 25. 26. 40. 28. 34. 29. 27.]\n"
          ]
        }
      ]
    },
    {
      "cell_type": "code",
      "source": [
        "df.profile_g.unique()"
      ],
      "metadata": {
        "id": "2QhWCZwxtu45",
        "colab": {
          "base_uri": "https://localhost:8080/"
        },
        "outputId": "72f5bb0c-64b7-41f8-c258-43e04c016df4"
      },
      "execution_count": null,
      "outputs": [
        {
          "output_type": "execute_result",
          "data": {
            "text/plain": [
              "array(['Varón cis', 'Mujer cis', 'Diversidades'], dtype=object)"
            ]
          },
          "metadata": {},
          "execution_count": 9
        }
      ]
    },
    {
      "cell_type": "code",
      "metadata": {
        "id": "2lzmzK1NuPNT",
        "colab": {
          "base_uri": "https://localhost:8080/",
          "height": 206
        },
        "outputId": "99be14ba-a6f2-425e-a894-6e82aa57215a"
      },
      "source": [
        "df[['profile_g', 'salary_monthly_NETO']].groupby('profile_g').describe()"
      ],
      "execution_count": null,
      "outputs": [
        {
          "output_type": "execute_result",
          "data": {
            "text/plain": [
              "             salary_monthly_NETO                                               \\\n",
              "                           count           mean            std  min       25%   \n",
              "profile_g                                                                       \n",
              "Diversidades                98.0  261873.543041  356719.368150  0.0   90500.0   \n",
              "Mujer cis                  929.0  188903.430667  184912.713803  0.0   91000.0   \n",
              "Varón cis                 4331.0  296252.343889  433193.328154  0.0  125000.0   \n",
              "\n",
              "                                              \n",
              "                   50%       75%         max  \n",
              "profile_g                                     \n",
              "Diversidades  174448.5  262250.0   1950000.0  \n",
              "Mujer cis     160000.0  237003.0   1878500.0  \n",
              "Varón cis     212146.0  307988.0  15000000.0  "
            ],
            "text/html": [
              "\n",
              "  <div id=\"df-53565862-fbdb-4958-8c00-49758358df19\">\n",
              "    <div class=\"colab-df-container\">\n",
              "      <div>\n",
              "<style scoped>\n",
              "    .dataframe tbody tr th:only-of-type {\n",
              "        vertical-align: middle;\n",
              "    }\n",
              "\n",
              "    .dataframe tbody tr th {\n",
              "        vertical-align: top;\n",
              "    }\n",
              "\n",
              "    .dataframe thead tr th {\n",
              "        text-align: left;\n",
              "    }\n",
              "\n",
              "    .dataframe thead tr:last-of-type th {\n",
              "        text-align: right;\n",
              "    }\n",
              "</style>\n",
              "<table border=\"1\" class=\"dataframe\">\n",
              "  <thead>\n",
              "    <tr>\n",
              "      <th></th>\n",
              "      <th colspan=\"8\" halign=\"left\">salary_monthly_NETO</th>\n",
              "    </tr>\n",
              "    <tr>\n",
              "      <th></th>\n",
              "      <th>count</th>\n",
              "      <th>mean</th>\n",
              "      <th>std</th>\n",
              "      <th>min</th>\n",
              "      <th>25%</th>\n",
              "      <th>50%</th>\n",
              "      <th>75%</th>\n",
              "      <th>max</th>\n",
              "    </tr>\n",
              "    <tr>\n",
              "      <th>profile_g</th>\n",
              "      <th></th>\n",
              "      <th></th>\n",
              "      <th></th>\n",
              "      <th></th>\n",
              "      <th></th>\n",
              "      <th></th>\n",
              "      <th></th>\n",
              "      <th></th>\n",
              "    </tr>\n",
              "  </thead>\n",
              "  <tbody>\n",
              "    <tr>\n",
              "      <th>Diversidades</th>\n",
              "      <td>98.0</td>\n",
              "      <td>261873.543041</td>\n",
              "      <td>356719.368150</td>\n",
              "      <td>0.0</td>\n",
              "      <td>90500.0</td>\n",
              "      <td>174448.5</td>\n",
              "      <td>262250.0</td>\n",
              "      <td>1950000.0</td>\n",
              "    </tr>\n",
              "    <tr>\n",
              "      <th>Mujer cis</th>\n",
              "      <td>929.0</td>\n",
              "      <td>188903.430667</td>\n",
              "      <td>184912.713803</td>\n",
              "      <td>0.0</td>\n",
              "      <td>91000.0</td>\n",
              "      <td>160000.0</td>\n",
              "      <td>237003.0</td>\n",
              "      <td>1878500.0</td>\n",
              "    </tr>\n",
              "    <tr>\n",
              "      <th>Varón cis</th>\n",
              "      <td>4331.0</td>\n",
              "      <td>296252.343889</td>\n",
              "      <td>433193.328154</td>\n",
              "      <td>0.0</td>\n",
              "      <td>125000.0</td>\n",
              "      <td>212146.0</td>\n",
              "      <td>307988.0</td>\n",
              "      <td>15000000.0</td>\n",
              "    </tr>\n",
              "  </tbody>\n",
              "</table>\n",
              "</div>\n",
              "      <button class=\"colab-df-convert\" onclick=\"convertToInteractive('df-53565862-fbdb-4958-8c00-49758358df19')\"\n",
              "              title=\"Convert this dataframe to an interactive table.\"\n",
              "              style=\"display:none;\">\n",
              "        \n",
              "  <svg xmlns=\"http://www.w3.org/2000/svg\" height=\"24px\"viewBox=\"0 0 24 24\"\n",
              "       width=\"24px\">\n",
              "    <path d=\"M0 0h24v24H0V0z\" fill=\"none\"/>\n",
              "    <path d=\"M18.56 5.44l.94 2.06.94-2.06 2.06-.94-2.06-.94-.94-2.06-.94 2.06-2.06.94zm-11 1L8.5 8.5l.94-2.06 2.06-.94-2.06-.94L8.5 2.5l-.94 2.06-2.06.94zm10 10l.94 2.06.94-2.06 2.06-.94-2.06-.94-.94-2.06-.94 2.06-2.06.94z\"/><path d=\"M17.41 7.96l-1.37-1.37c-.4-.4-.92-.59-1.43-.59-.52 0-1.04.2-1.43.59L10.3 9.45l-7.72 7.72c-.78.78-.78 2.05 0 2.83L4 21.41c.39.39.9.59 1.41.59.51 0 1.02-.2 1.41-.59l7.78-7.78 2.81-2.81c.8-.78.8-2.07 0-2.86zM5.41 20L4 18.59l7.72-7.72 1.47 1.35L5.41 20z\"/>\n",
              "  </svg>\n",
              "      </button>\n",
              "      \n",
              "  <style>\n",
              "    .colab-df-container {\n",
              "      display:flex;\n",
              "      flex-wrap:wrap;\n",
              "      gap: 12px;\n",
              "    }\n",
              "\n",
              "    .colab-df-convert {\n",
              "      background-color: #E8F0FE;\n",
              "      border: none;\n",
              "      border-radius: 50%;\n",
              "      cursor: pointer;\n",
              "      display: none;\n",
              "      fill: #1967D2;\n",
              "      height: 32px;\n",
              "      padding: 0 0 0 0;\n",
              "      width: 32px;\n",
              "    }\n",
              "\n",
              "    .colab-df-convert:hover {\n",
              "      background-color: #E2EBFA;\n",
              "      box-shadow: 0px 1px 2px rgba(60, 64, 67, 0.3), 0px 1px 3px 1px rgba(60, 64, 67, 0.15);\n",
              "      fill: #174EA6;\n",
              "    }\n",
              "\n",
              "    [theme=dark] .colab-df-convert {\n",
              "      background-color: #3B4455;\n",
              "      fill: #D2E3FC;\n",
              "    }\n",
              "\n",
              "    [theme=dark] .colab-df-convert:hover {\n",
              "      background-color: #434B5C;\n",
              "      box-shadow: 0px 1px 3px 1px rgba(0, 0, 0, 0.15);\n",
              "      filter: drop-shadow(0px 1px 2px rgba(0, 0, 0, 0.3));\n",
              "      fill: #FFFFFF;\n",
              "    }\n",
              "  </style>\n",
              "\n",
              "      <script>\n",
              "        const buttonEl =\n",
              "          document.querySelector('#df-53565862-fbdb-4958-8c00-49758358df19 button.colab-df-convert');\n",
              "        buttonEl.style.display =\n",
              "          google.colab.kernel.accessAllowed ? 'block' : 'none';\n",
              "\n",
              "        async function convertToInteractive(key) {\n",
              "          const element = document.querySelector('#df-53565862-fbdb-4958-8c00-49758358df19');\n",
              "          const dataTable =\n",
              "            await google.colab.kernel.invokeFunction('convertToInteractive',\n",
              "                                                     [key], {});\n",
              "          if (!dataTable) return;\n",
              "\n",
              "          const docLinkHtml = 'Like what you see? Visit the ' +\n",
              "            '<a target=\"_blank\" href=https://colab.research.google.com/notebooks/data_table.ipynb>data table notebook</a>'\n",
              "            + ' to learn more about interactive tables.';\n",
              "          element.innerHTML = '';\n",
              "          dataTable['output_type'] = 'display_data';\n",
              "          await google.colab.output.renderOutput(dataTable, element);\n",
              "          const docLink = document.createElement('div');\n",
              "          docLink.innerHTML = docLinkHtml;\n",
              "          element.appendChild(docLink);\n",
              "        }\n",
              "      </script>\n",
              "    </div>\n",
              "  </div>\n",
              "  "
            ]
          },
          "metadata": {},
          "execution_count": 10
        }
      ]
    },
    {
      "cell_type": "code",
      "metadata": {
        "id": "pycKJ5jWkShW",
        "colab": {
          "base_uri": "https://localhost:8080/",
          "height": 206
        },
        "outputId": "2b817b09-4cef-43d4-e0f6-27abdc7927d0"
      },
      "source": [
        "df[df.salary_monthly_NETO > 1000]\\\n",
        "  [['profile_g', 'salary_monthly_NETO']].groupby('profile_g').describe()"
      ],
      "execution_count": null,
      "outputs": [
        {
          "output_type": "execute_result",
          "data": {
            "text/plain": [
              "             salary_monthly_NETO                                        \\\n",
              "                           count           mean            std     min   \n",
              "profile_g                                                                \n",
              "Diversidades                85.0  301914.321765  367031.242344  2800.0   \n",
              "Mujer cis                  806.0  217708.858077  182050.554847  1400.0   \n",
              "Varón cis                 3975.0  322777.029197  442612.347688  1100.0   \n",
              "\n",
              "                                                         \n",
              "                   25%       50%        75%         max  \n",
              "profile_g                                                \n",
              "Diversidades  125000.0  190000.0  280000.00   1950000.0  \n",
              "Mujer cis     116000.0  180000.0  248193.75   1878500.0  \n",
              "Varón cis     147106.5  225000.0  322827.50  15000000.0  "
            ],
            "text/html": [
              "\n",
              "  <div id=\"df-4634dd1d-2774-4922-aca2-6b10f9c4ce08\">\n",
              "    <div class=\"colab-df-container\">\n",
              "      <div>\n",
              "<style scoped>\n",
              "    .dataframe tbody tr th:only-of-type {\n",
              "        vertical-align: middle;\n",
              "    }\n",
              "\n",
              "    .dataframe tbody tr th {\n",
              "        vertical-align: top;\n",
              "    }\n",
              "\n",
              "    .dataframe thead tr th {\n",
              "        text-align: left;\n",
              "    }\n",
              "\n",
              "    .dataframe thead tr:last-of-type th {\n",
              "        text-align: right;\n",
              "    }\n",
              "</style>\n",
              "<table border=\"1\" class=\"dataframe\">\n",
              "  <thead>\n",
              "    <tr>\n",
              "      <th></th>\n",
              "      <th colspan=\"8\" halign=\"left\">salary_monthly_NETO</th>\n",
              "    </tr>\n",
              "    <tr>\n",
              "      <th></th>\n",
              "      <th>count</th>\n",
              "      <th>mean</th>\n",
              "      <th>std</th>\n",
              "      <th>min</th>\n",
              "      <th>25%</th>\n",
              "      <th>50%</th>\n",
              "      <th>75%</th>\n",
              "      <th>max</th>\n",
              "    </tr>\n",
              "    <tr>\n",
              "      <th>profile_g</th>\n",
              "      <th></th>\n",
              "      <th></th>\n",
              "      <th></th>\n",
              "      <th></th>\n",
              "      <th></th>\n",
              "      <th></th>\n",
              "      <th></th>\n",
              "      <th></th>\n",
              "    </tr>\n",
              "  </thead>\n",
              "  <tbody>\n",
              "    <tr>\n",
              "      <th>Diversidades</th>\n",
              "      <td>85.0</td>\n",
              "      <td>301914.321765</td>\n",
              "      <td>367031.242344</td>\n",
              "      <td>2800.0</td>\n",
              "      <td>125000.0</td>\n",
              "      <td>190000.0</td>\n",
              "      <td>280000.00</td>\n",
              "      <td>1950000.0</td>\n",
              "    </tr>\n",
              "    <tr>\n",
              "      <th>Mujer cis</th>\n",
              "      <td>806.0</td>\n",
              "      <td>217708.858077</td>\n",
              "      <td>182050.554847</td>\n",
              "      <td>1400.0</td>\n",
              "      <td>116000.0</td>\n",
              "      <td>180000.0</td>\n",
              "      <td>248193.75</td>\n",
              "      <td>1878500.0</td>\n",
              "    </tr>\n",
              "    <tr>\n",
              "      <th>Varón cis</th>\n",
              "      <td>3975.0</td>\n",
              "      <td>322777.029197</td>\n",
              "      <td>442612.347688</td>\n",
              "      <td>1100.0</td>\n",
              "      <td>147106.5</td>\n",
              "      <td>225000.0</td>\n",
              "      <td>322827.50</td>\n",
              "      <td>15000000.0</td>\n",
              "    </tr>\n",
              "  </tbody>\n",
              "</table>\n",
              "</div>\n",
              "      <button class=\"colab-df-convert\" onclick=\"convertToInteractive('df-4634dd1d-2774-4922-aca2-6b10f9c4ce08')\"\n",
              "              title=\"Convert this dataframe to an interactive table.\"\n",
              "              style=\"display:none;\">\n",
              "        \n",
              "  <svg xmlns=\"http://www.w3.org/2000/svg\" height=\"24px\"viewBox=\"0 0 24 24\"\n",
              "       width=\"24px\">\n",
              "    <path d=\"M0 0h24v24H0V0z\" fill=\"none\"/>\n",
              "    <path d=\"M18.56 5.44l.94 2.06.94-2.06 2.06-.94-2.06-.94-.94-2.06-.94 2.06-2.06.94zm-11 1L8.5 8.5l.94-2.06 2.06-.94-2.06-.94L8.5 2.5l-.94 2.06-2.06.94zm10 10l.94 2.06.94-2.06 2.06-.94-2.06-.94-.94-2.06-.94 2.06-2.06.94z\"/><path d=\"M17.41 7.96l-1.37-1.37c-.4-.4-.92-.59-1.43-.59-.52 0-1.04.2-1.43.59L10.3 9.45l-7.72 7.72c-.78.78-.78 2.05 0 2.83L4 21.41c.39.39.9.59 1.41.59.51 0 1.02-.2 1.41-.59l7.78-7.78 2.81-2.81c.8-.78.8-2.07 0-2.86zM5.41 20L4 18.59l7.72-7.72 1.47 1.35L5.41 20z\"/>\n",
              "  </svg>\n",
              "      </button>\n",
              "      \n",
              "  <style>\n",
              "    .colab-df-container {\n",
              "      display:flex;\n",
              "      flex-wrap:wrap;\n",
              "      gap: 12px;\n",
              "    }\n",
              "\n",
              "    .colab-df-convert {\n",
              "      background-color: #E8F0FE;\n",
              "      border: none;\n",
              "      border-radius: 50%;\n",
              "      cursor: pointer;\n",
              "      display: none;\n",
              "      fill: #1967D2;\n",
              "      height: 32px;\n",
              "      padding: 0 0 0 0;\n",
              "      width: 32px;\n",
              "    }\n",
              "\n",
              "    .colab-df-convert:hover {\n",
              "      background-color: #E2EBFA;\n",
              "      box-shadow: 0px 1px 2px rgba(60, 64, 67, 0.3), 0px 1px 3px 1px rgba(60, 64, 67, 0.15);\n",
              "      fill: #174EA6;\n",
              "    }\n",
              "\n",
              "    [theme=dark] .colab-df-convert {\n",
              "      background-color: #3B4455;\n",
              "      fill: #D2E3FC;\n",
              "    }\n",
              "\n",
              "    [theme=dark] .colab-df-convert:hover {\n",
              "      background-color: #434B5C;\n",
              "      box-shadow: 0px 1px 3px 1px rgba(0, 0, 0, 0.15);\n",
              "      filter: drop-shadow(0px 1px 2px rgba(0, 0, 0, 0.3));\n",
              "      fill: #FFFFFF;\n",
              "    }\n",
              "  </style>\n",
              "\n",
              "      <script>\n",
              "        const buttonEl =\n",
              "          document.querySelector('#df-4634dd1d-2774-4922-aca2-6b10f9c4ce08 button.colab-df-convert');\n",
              "        buttonEl.style.display =\n",
              "          google.colab.kernel.accessAllowed ? 'block' : 'none';\n",
              "\n",
              "        async function convertToInteractive(key) {\n",
              "          const element = document.querySelector('#df-4634dd1d-2774-4922-aca2-6b10f9c4ce08');\n",
              "          const dataTable =\n",
              "            await google.colab.kernel.invokeFunction('convertToInteractive',\n",
              "                                                     [key], {});\n",
              "          if (!dataTable) return;\n",
              "\n",
              "          const docLinkHtml = 'Like what you see? Visit the ' +\n",
              "            '<a target=\"_blank\" href=https://colab.research.google.com/notebooks/data_table.ipynb>data table notebook</a>'\n",
              "            + ' to learn more about interactive tables.';\n",
              "          element.innerHTML = '';\n",
              "          dataTable['output_type'] = 'display_data';\n",
              "          await google.colab.output.renderOutput(dataTable, element);\n",
              "          const docLink = document.createElement('div');\n",
              "          docLink.innerHTML = docLinkHtml;\n",
              "          element.appendChild(docLink);\n",
              "        }\n",
              "      </script>\n",
              "    </div>\n",
              "  </div>\n",
              "  "
            ]
          },
          "metadata": {},
          "execution_count": 11
        }
      ]
    },
    {
      "cell_type": "code",
      "metadata": {
        "id": "uZ1GxkLylHx0"
      },
      "source": [
        "alpha = 0.05"
      ],
      "execution_count": null,
      "outputs": []
    },
    {
      "cell_type": "code",
      "metadata": {
        "id": "OfzFpDO-lYxk",
        "colab": {
          "base_uri": "https://localhost:8080/"
        },
        "outputId": "f8353068-0e42-424f-b385-b67ae451e657"
      },
      "source": [
        "from pandas.core import describe\n",
        "is_man = df.profile_g == 'Varón cis'\n",
        "\n",
        "groupA = df[(df.salary_monthly_NETO > 1000) & is_man].salary_monthly_NETO\n",
        "groupB = df[(df.salary_monthly_NETO > 1000) & ~is_man].salary_monthly_NETO\n",
        "\n",
        "EstadisticasA = groupA.describe ()\n",
        "print(EstadisticasA)"
      ],
      "execution_count": null,
      "outputs": [
        {
          "output_type": "stream",
          "name": "stdout",
          "text": [
            "count    3.975000e+03\n",
            "mean     3.227770e+05\n",
            "std      4.426123e+05\n",
            "min      1.100000e+03\n",
            "25%      1.471065e+05\n",
            "50%      2.250000e+05\n",
            "75%      3.228275e+05\n",
            "max      1.500000e+07\n",
            "Name: salary_monthly_NETO, dtype: float64\n"
          ]
        }
      ]
    },
    {
      "cell_type": "code",
      "source": [
        "EstadisticasB = groupB.describe ()\n",
        "print(EstadisticasB)"
      ],
      "metadata": {
        "colab": {
          "base_uri": "https://localhost:8080/"
        },
        "id": "q-rX9huBPcu1",
        "outputId": "8aa42ad2-8e79-44d6-e0ae-39bb77cc0f82"
      },
      "execution_count": null,
      "outputs": [
        {
          "output_type": "stream",
          "name": "stdout",
          "text": [
            "count    8.910000e+02\n",
            "mean     2.257419e+05\n",
            "std      2.080963e+05\n",
            "min      1.400000e+03\n",
            "25%      1.167500e+05\n",
            "50%      1.800000e+05\n",
            "75%      2.500000e+05\n",
            "max      1.950000e+06\n",
            "Name: salary_monthly_NETO, dtype: float64\n"
          ]
        }
      ]
    },
    {
      "cell_type": "markdown",
      "metadata": {
        "id": "co_0M_ojtmUh"
      },
      "source": [
        "## Ejercicio 1: Estimación\n",
        "\n",
        "**Consigna:**  Calcular una estimación puntual y un intervalo de confianza de nivel (1-alpha) para la resta entre la media del salario Neto para Hombres menos la media del salario Neto para otros géneros(diferencia de las medias entre el grupoA y grupoB). \n",
        "¿Cómo se relaciona este intervalo de confianza con el test de hipótesis?"
      ]
    },
    {
      "cell_type": "code",
      "metadata": {
        "id": "0fA1RQ0upe6N",
        "colab": {
          "base_uri": "https://localhost:8080/"
        },
        "outputId": "a4f047f5-9c7c-4f28-8261-c5cfc8626e00"
      },
      "source": [
        "media_groupA = groupA.mean()\n",
        "media_groupB = groupB.mean()\n",
        "desv_est_group_A = groupA.std()\n",
        "desv_est_group_B = groupB.std()\n",
        "\n",
        "#Cantidad de observaciones por grupo \n",
        "tamaño_A = len(groupA)\n",
        "tamaño_B = len(groupB)\n",
        "\n",
        "#Diferencia de medias de los grupos\n",
        "dif_medias_AB = media_groupA - media_groupB\n",
        "print('Diferencia de medias =', int(dif_medias_AB))\n",
        "\n",
        "#Definimos el nivel de significancia al 5% con dos colas\n",
        "z_0975 = 1.96\n",
        "\n",
        "#Límite inferior de confianza\n",
        "Lim_inf_dif_medias_AB =  dif_medias_AB - z_0975 * ((( desv_est_group_A **2 )/ tamaño_A) + (( desv_est_group_B **2 )/ tamaño_B )) ** 0.5\n",
        "print('Limite inferior del intervalo de confianza =', int(Lim_inf_dif_medias_AB))\n",
        "\n",
        "#Límite superior de confianza\n",
        "Lim_sup_dif_medias_AB =  dif_medias_AB + z_0975 * ((( desv_est_group_A **2 )/ tamaño_A) + (( desv_est_group_B **2 )/ tamaño_B )) ** 0.5\n",
        "print('Limite superior del intervalo de confianza =', int(Lim_sup_dif_medias_AB))"
      ],
      "execution_count": null,
      "outputs": [
        {
          "output_type": "stream",
          "name": "stdout",
          "text": [
            "Diferencia de medias = 97035\n",
            "Limite inferior del intervalo de confianza = 77643\n",
            "Limite superior del intervalo de confianza = 116426\n"
          ]
        }
      ]
    },
    {
      "cell_type": "markdown",
      "source": [
        "La estimación puntual para la resta entre la media del salario neto para hombres y el salario neto para el resto de los grupos es 97035;  en la que al considerar un nivel de confianza del 95% el límite superior será 116.426 y el inferior 77.643.\n",
        "\n"
      ],
      "metadata": {
        "id": "eA5fFjTnk5Fm"
      }
    },
    {
      "cell_type": "markdown",
      "metadata": {
        "id": "IFi2T7Y6nM92"
      },
      "source": [
        "## Ejercicio 2: Test de hipótesis\n"
      ]
    },
    {
      "cell_type": "markdown",
      "metadata": {
        "id": "Rzxe8UYU6EfJ"
      },
      "source": [
        "\n",
        "### 2.1 Formalización\n",
        "\n",
        "Describir formalmente los distintos componentes de un test de hipótesis para comprobar si la distribución de los salarios es distinta entre los grupos A y B.\n",
        "\n",
        "**Hipótesis Nula**\n",
        "\n",
        "$H_0=...$\n",
        "\n",
        "**Estadístico (Pivote)**\n",
        "  * Identificar el estadístico\n",
        "  * Escribir qué distribución tiene bajo $H_0$\n"
      ]
    },
    {
      "cell_type": "markdown",
      "source": [],
      "metadata": {
        "id": "rkgtS3Riog9V"
      }
    },
    {
      "cell_type": "markdown",
      "source": [
        "En caso de querer conocer si la distribución de los salarios es distinta entre los grupos A y B, optaremos por comparar sus medias. En tal caso plantearemos como hipótesis nula el hecho que ambas medias sean iguales y como hipótesis alternativas que son distintas. \n",
        "\n",
        "El estadístico para tal caso será:\n",
        "\n",
        "media_groupA - media_groupB \n",
        "\n",
        "La distribución que tendrá nuestro estadístico de T de student con 4864 grados de libertad (tamaño del grupo A y B menos 2).\n"
      ],
      "metadata": {
        "id": "P-v_eplWp_Lj"
      }
    },
    {
      "cell_type": "markdown",
      "metadata": {
        "id": "3Ip_5YdenC8u"
      },
      "source": [
        "### 2.2 P-valor\n",
        "\n",
        "1. Calcule el p-valor y decida si rechazar o no la hipótesis nula.\n",
        "2. Interprete el resultado.\n",
        "\n",
        "Links útiles:\n",
        "* [Test de hipótesis usando scipy](https://docs.scipy.org/doc/scipy/reference/generated/scipy.stats.ttest_ind.html)\n",
        "* [Test de Welch](http://daniellakens.blogspot.com/2015/01/always-use-welchs-t-test-instead-of.html)"
      ]
    },
    {
      "cell_type": "code",
      "source": [
        "from scipy.stats import ttest_ind\n",
        "# test de diferencia de medias\n",
        "t_stat, p_value = ttest_ind(groupA, groupB)\n",
        "# resultado del test\n",
        "print('t-statistic:', t_stat)\n",
        "print('p-value:', p_value)"
      ],
      "metadata": {
        "id": "n7rGglOKdQXF",
        "colab": {
          "base_uri": "https://localhost:8080/"
        },
        "outputId": "fe35a0a8-ac70-48ce-bd57-5af7cb2a1865"
      },
      "execution_count": null,
      "outputs": [
        {
          "output_type": "stream",
          "name": "stdout",
          "text": [
            "t-statistic: 6.387301602375005\n",
            "p-value: 1.84592290312122e-10\n"
          ]
        }
      ]
    },
    {
      "cell_type": "markdown",
      "source": [
        "Dado que el p-value es inferior al nivel de significación alpha elegido; decidimos rechazar la hipótesis nula de igualdad de medias, concluyendo que existe evidencia para decir que el salario de los hombres es mayor al resto de los géneros\n"
      ],
      "metadata": {
        "id": "hfl5QPhPdio-"
      }
    },
    {
      "cell_type": "markdown",
      "metadata": {
        "id": "8VxiQr5YrQYR"
      },
      "source": [
        "### [Opcional] 2.3 Potencia del test\n",
        "\n",
        "Nuestra muestra, ¿era lo suficientemente grande para detectar si existe o no una diferencia entre los grupos?\n",
        "\n",
        "1. Utilice la función `tt_ind_solve_power` para calcular el tamaño necesario de la muestra para un poder estadístico de 0.8, 0.9 y 0.95, asumiendo una significancia estadística de 0.05.\n",
        "2. ¿Cómo intepretan el poder estadístico de un test? Dado su conocimiento de dominio sobre los datos, ¿les parece que esta muestra es lo suficientemente grande para ser representativo de la tendencia general? ¿y para utilizarlo en un juicio penal contra una empresa XX por una causa de discriminación?\n",
        "\n",
        "[Documentación](https://www.statsmodels.org/stable/generated/statsmodels.stats.power.tt_ind_solve_power.html)\n",
        "\n",
        "NOTA: este análisis debería hacerse ANTES de recolectar los datos."
      ]
    },
    {
      "cell_type": "code",
      "metadata": {
        "id": "_IiqGfo4t6Db"
      },
      "source": [
        "from statsmodels.stats.power import tt_ind_solve_power"
      ],
      "execution_count": null,
      "outputs": []
    },
    {
      "cell_type": "code",
      "metadata": {
        "id": "LUQ7MA2Apj9x"
      },
      "source": [
        "effect_size = (groupA.mean() - groupB.mean()) / groupB.std()\n",
        "# nobs1=None  - What we want to know\n",
        "alpha = 0.05\n",
        "ratio = len(groupB) / len(groupA)\n",
        "power= 0.8"
      ],
      "execution_count": null,
      "outputs": []
    },
    {
      "cell_type": "code",
      "source": [
        "for i in [0.8, 0.9, 0.95]:\n",
        "  tt = tt_ind_solve_power(effect_size=effect_size, alpha=alpha,power=i, ratio=ratio)\n",
        "  print('Para poder estadistico =', i, 'el numero de observacioes es igual a', int(tt))"
      ],
      "metadata": {
        "colab": {
          "base_uri": "https://localhost:8080/"
        },
        "id": "t9G1zZm0mCKl",
        "outputId": "d305d35e-497a-4dd0-98bc-d634e75d9582"
      },
      "execution_count": null,
      "outputs": [
        {
          "output_type": "stream",
          "name": "stdout",
          "text": [
            "Para poder estadistico = 0.8 el numero de observacioes es igual a 198\n",
            "Para poder estadistico = 0.9 el numero de observacioes es igual a 265\n",
            "Para poder estadistico = 0.95 el numero de observacioes es igual a 327\n"
          ]
        }
      ]
    },
    {
      "cell_type": "code",
      "source": [
        "print('El tamaño de A es', tamaño_A)\n",
        "print('El tamalo de B es', tamaño_B)"
      ],
      "metadata": {
        "colab": {
          "base_uri": "https://localhost:8080/"
        },
        "id": "aYhhxgEcpOmN",
        "outputId": "f6edabfc-bf16-4938-c5fb-0b92a381409c"
      },
      "execution_count": 38,
      "outputs": [
        {
          "output_type": "stream",
          "name": "stdout",
          "text": [
            "El tamaño de A es 3975\n",
            "El tamalo de B es 891\n"
          ]
        }
      ]
    },
    {
      "cell_type": "markdown",
      "source": [
        "Observamos que el tamaño de muestra necesario para poder estadistico de 0.8, 0.9 y 0.95 es menor al tamaño de A y de B. La muestra es lo suficientemente grande para detectar si hay diferencia entre los grupos."
      ],
      "metadata": {
        "id": "7C_Cdhm6w_ja"
      }
    },
    {
      "cell_type": "markdown",
      "metadata": {
        "id": "useKMdPyMod5"
      },
      "source": [
        "## Ejercicio 3: Comunicación y visualización\n",
        "\n",
        "**Consigna:** Seleccionen un resultado que les parezca relevante a partir de alguno de los ejercicios del entregable. Diseñe e implemente una comunicación en base a este mensaje, en un archivo PDF.\n",
        "\n",
        "Elija las palabras y visualización más adecuada para que la comunicación sea entendible, efectiva y se dapte a UNA de las siguientes situaciones:\n",
        "\n",
        "1. Una sección en un artículo de difusión a presentar como parte de una organización sin fines de lucro.\n",
        "No más de 1 página A4 (o dos si los gráficos son muy grandes).\n",
        "  1. Ejemplo: Alguna de las secciones [Los ecosistemas de emprendimiento de América Latina y el Caribe frente al COVID-19: Impactos, necesidades y recomendaciones](https://publications.iadb.org/es/los-ecosistemas-de-emprendimiento-de-america-latina-y-el-caribe-frente-al-covid-19-impactos-necesidades-y-recomendaciones), por ejemplo la sección *2.2. Reacciones de los emprendedores*.\n",
        "  2. Ejemplo: Alguna de las secciones de [The state of gender pay gap in 2021](https://www.payscale.com/data/gender-pay-gap?tk=carousel-ps-rc-job)\n",
        "  3. Puntos clave: \n",
        "    1. Simpleza de los gráficos.\n",
        "    2. Comunicación en lenguaje simple a personas que no son necesariamente expertos de dominio.\n",
        "    2. Selección de UNA oración sobre la que se hace énfasis.\n",
        "    3. No es necesario que mencionen objetivos ni descripciones del conjunto de datos, se supone que eso ya estaría explicado en otras secciones del informe.\n",
        "\n",
        "2. Una publicación científica o reporte técnico interno. No más de una página A4:\n",
        "  2. Ejemplo: La sección de resultados de [IZA DP No. 12914: The Impact of a Minimum Wage Change on the Distribution of Wages and Household Income](https://www.iza.org/publications/dp/12914/the-impact-of-a-minimum-wage-change-on-the-distribution-of-wages-and-household-income).\n",
        "  2. Ejemplo: Alguna de las secciones de [Temporary reduction in daily global CO2 emissions during the COVID-19 forced confinement](https://www.nature.com/articles/s41558-020-0797-x)\n",
        "  3. Puntos clave:\n",
        "    3. Nivel de detalle técnico requerido. Es necesario justificar la validez del análisis.\n",
        "    4. La idea presentada puede ser más compleja. Pueden asumir que la audiencia tiene conocimiento técnico y va a analizar las visualizaciones en detalle. \n",
        "    5. Pueden presentar más en detalle las limitaciones del análisis (significancia estadística, etc.)\n",
        "    2. No es necesario que mencionen objetivos ni descripciones del conjunto de datos, se supone que eso ya estaría explicado en otras secciones del informe.\n",
        "\n",
        "3. Un tweet (o post de LinkedIn) para la cuenta de su empresa consultora que hace análisis de datos. El objetivo es promocionar un análisis de datos abiertos que van a incluir en su portfolio:\n",
        "  1. Ejemplo: [Comparación vacunas covid](https://twitter.com/infobeautiful/status/1381577746527236098?s=20)\n",
        "  2. Ejemplo: [Tweet del BID](https://twitter.com/el_BID/status/1388508583944507396?s=20). Lo valioso de este tweet es que usaron un único número para transmitir un mensaje. Puede ser algo así, o con un gráfico muy simple.\n",
        "  3. Ejemplo: [Cambio climático](https://twitter.com/UNFCCC/status/1387732156190011394?s=20) Es un muy buen ejemplo, excepto que el gráfico no se lee nada y hay que entrar a la publicación original.\n",
        "  3. Ejemplo: [¿Cuánto están los programadores en las empresas?](https://www.linkedin.com/posts/denis-rothman-0b034043_tech-career-work-activity-6793861923269054464-gS6y) (No verificamos la veracidad o seriedad de la fuente).\n",
        "  4. Puntos clave:\n",
        "    1. Su audiencia no va a mirar la visualización por más de unos segundos, y no tiene conocimiento técnico.\n",
        "  3. Tienen que incluir además una *breve* descripción de cómo obtuvieron los datos que están presentando, que no entraría en el tweet.\n"
      ]
    }
  ]
}